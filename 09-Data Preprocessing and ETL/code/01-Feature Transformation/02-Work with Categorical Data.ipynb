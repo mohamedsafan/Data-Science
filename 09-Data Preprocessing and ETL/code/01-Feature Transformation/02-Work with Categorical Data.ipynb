{
 "cells": [
  {
   "cell_type": "markdown",
   "metadata": {},
   "source": [
    "# Work with categorical Data\n",
    "\n",
    "Machine Learning algorithms require that input data must be in numerical format. Only then the algorithms work successfully on them. So, the text data must be converted into numbers before they are fed into an algorithm.\n",
    "\n",
    "as we said before Categorical data can be **Ordinal** or **Nominal**\n",
    "\n",
    "\n",
    "### Ordinal variable\n",
    "can be understood as categorical values that can be sorted or ordered. For example, T-shirt size would be an ordinal feature, because we can define an order XL > L > M.\n",
    "\n",
    "\n",
    "### Nominal variable\n",
    "nominal features don't imply any order and, to continue with the previous example, we could think of T-shirt color as a nominal feature since it typically doesn't make sense to say that, for example, red is larger than blue.\n",
    "\n",
    "\n",
    "\n",
    "\n",
    "## Table of Contents\n",
    "1. Work with Ordinal Features with pandas `map` method.\n",
    "2. Work with Nominal Features with pandas `get_dummies` method."
   ]
  },
  {
   "cell_type": "code",
   "execution_count": 1,
   "metadata": {},
   "outputs": [],
   "source": [
    "import numpy as np\n",
    "import pandas as pd\n",
    "import matplotlib.pyplot as plt\n",
    "import seaborn as sns\n",
    "\n",
    "%matplotlib inline\n",
    "sns.set(rc={'figure.figsize': [10, 10]}, font_scale=1.3)"
   ]
  },
  {
   "cell_type": "code",
   "execution_count": 2,
   "metadata": {},
   "outputs": [
    {
     "data": {
      "text/html": [
       "<div>\n",
       "<style scoped>\n",
       "    .dataframe tbody tr th:only-of-type {\n",
       "        vertical-align: middle;\n",
       "    }\n",
       "\n",
       "    .dataframe tbody tr th {\n",
       "        vertical-align: top;\n",
       "    }\n",
       "\n",
       "    .dataframe thead th {\n",
       "        text-align: right;\n",
       "    }\n",
       "</style>\n",
       "<table border=\"1\" class=\"dataframe\">\n",
       "  <thead>\n",
       "    <tr style=\"text-align: right;\">\n",
       "      <th></th>\n",
       "      <th>Date ordered</th>\n",
       "      <th>Order number</th>\n",
       "      <th>Brand</th>\n",
       "      <th>Size</th>\n",
       "      <th>Color</th>\n",
       "      <th>Design</th>\n",
       "      <th>Price</th>\n",
       "      <th>Delivery status</th>\n",
       "    </tr>\n",
       "  </thead>\n",
       "  <tbody>\n",
       "    <tr>\n",
       "      <th>0</th>\n",
       "      <td>2016-05-05</td>\n",
       "      <td>SDH-YU0</td>\n",
       "      <td>Yolo</td>\n",
       "      <td>L</td>\n",
       "      <td>red</td>\n",
       "      <td>spiral</td>\n",
       "      <td>14.47</td>\n",
       "      <td>damaged</td>\n",
       "    </tr>\n",
       "    <tr>\n",
       "      <th>1</th>\n",
       "      <td>2016-05-06</td>\n",
       "      <td>SDH-YU1</td>\n",
       "      <td>Yolo</td>\n",
       "      <td>XXL</td>\n",
       "      <td>green</td>\n",
       "      <td>spiral</td>\n",
       "      <td>16.24</td>\n",
       "      <td>delayed</td>\n",
       "    </tr>\n",
       "    <tr>\n",
       "      <th>2</th>\n",
       "      <td>2016-05-07</td>\n",
       "      <td>SDH-YU2</td>\n",
       "      <td>BLOT</td>\n",
       "      <td>XL</td>\n",
       "      <td>black</td>\n",
       "      <td>Stripes</td>\n",
       "      <td>14.32</td>\n",
       "      <td>delivered</td>\n",
       "    </tr>\n",
       "    <tr>\n",
       "      <th>3</th>\n",
       "      <td>2016-05-08</td>\n",
       "      <td>SDH-YU3</td>\n",
       "      <td>Kent</td>\n",
       "      <td>XXL</td>\n",
       "      <td>green</td>\n",
       "      <td>plain</td>\n",
       "      <td>14.07</td>\n",
       "      <td>damaged</td>\n",
       "    </tr>\n",
       "    <tr>\n",
       "      <th>4</th>\n",
       "      <td>2016-05-09</td>\n",
       "      <td>SDH-YU4</td>\n",
       "      <td>BUCK</td>\n",
       "      <td>XL</td>\n",
       "      <td>white</td>\n",
       "      <td>spiral</td>\n",
       "      <td>15.56</td>\n",
       "      <td>order received</td>\n",
       "    </tr>\n",
       "    <tr>\n",
       "      <th>...</th>\n",
       "      <td>...</td>\n",
       "      <td>...</td>\n",
       "      <td>...</td>\n",
       "      <td>...</td>\n",
       "      <td>...</td>\n",
       "      <td>...</td>\n",
       "      <td>...</td>\n",
       "      <td>...</td>\n",
       "    </tr>\n",
       "    <tr>\n",
       "      <th>495</th>\n",
       "      <td>2017-09-12</td>\n",
       "      <td>SDH-YU495</td>\n",
       "      <td>Wang</td>\n",
       "      <td>XS</td>\n",
       "      <td>green</td>\n",
       "      <td>diamond</td>\n",
       "      <td>15.03</td>\n",
       "      <td>damaged</td>\n",
       "    </tr>\n",
       "    <tr>\n",
       "      <th>496</th>\n",
       "      <td>2017-09-13</td>\n",
       "      <td>SDH-YU496</td>\n",
       "      <td>BUCK</td>\n",
       "      <td>M</td>\n",
       "      <td>black</td>\n",
       "      <td>Stripes</td>\n",
       "      <td>14.49</td>\n",
       "      <td>shipping</td>\n",
       "    </tr>\n",
       "    <tr>\n",
       "      <th>497</th>\n",
       "      <td>2017-09-14</td>\n",
       "      <td>SDH-YU497</td>\n",
       "      <td>Kent</td>\n",
       "      <td>XXL</td>\n",
       "      <td>purple</td>\n",
       "      <td>plain</td>\n",
       "      <td>15.61</td>\n",
       "      <td>shipping</td>\n",
       "    </tr>\n",
       "    <tr>\n",
       "      <th>498</th>\n",
       "      <td>2017-09-15</td>\n",
       "      <td>SDH-YU498</td>\n",
       "      <td>Yolo</td>\n",
       "      <td>S</td>\n",
       "      <td>red</td>\n",
       "      <td>plain</td>\n",
       "      <td>13.49</td>\n",
       "      <td>order received</td>\n",
       "    </tr>\n",
       "    <tr>\n",
       "      <th>499</th>\n",
       "      <td>2017-09-16</td>\n",
       "      <td>SDH-YU499</td>\n",
       "      <td>BLOT</td>\n",
       "      <td>S</td>\n",
       "      <td>black</td>\n",
       "      <td>spiral</td>\n",
       "      <td>14.75</td>\n",
       "      <td>shipping</td>\n",
       "    </tr>\n",
       "  </tbody>\n",
       "</table>\n",
       "<p>500 rows × 8 columns</p>\n",
       "</div>"
      ],
      "text/plain": [
       "    Date ordered Order number Brand Size   Color   Design  Price  \\\n",
       "0     2016-05-05      SDH-YU0  Yolo    L     red   spiral  14.47   \n",
       "1     2016-05-06      SDH-YU1  Yolo  XXL   green   spiral  16.24   \n",
       "2     2016-05-07      SDH-YU2  BLOT   XL   black  Stripes  14.32   \n",
       "3     2016-05-08      SDH-YU3  Kent  XXL   green    plain  14.07   \n",
       "4     2016-05-09      SDH-YU4  BUCK   XL   white   spiral  15.56   \n",
       "..           ...          ...   ...  ...     ...      ...    ...   \n",
       "495   2017-09-12    SDH-YU495  Wang   XS   green  diamond  15.03   \n",
       "496   2017-09-13    SDH-YU496  BUCK    M   black  Stripes  14.49   \n",
       "497   2017-09-14    SDH-YU497  Kent  XXL  purple    plain  15.61   \n",
       "498   2017-09-15    SDH-YU498  Yolo    S     red    plain  13.49   \n",
       "499   2017-09-16    SDH-YU499  BLOT    S   black   spiral  14.75   \n",
       "\n",
       "    Delivery status  \n",
       "0           damaged  \n",
       "1           delayed  \n",
       "2         delivered  \n",
       "3           damaged  \n",
       "4    order received  \n",
       "..              ...  \n",
       "495         damaged  \n",
       "496        shipping  \n",
       "497        shipping  \n",
       "498  order received  \n",
       "499        shipping  \n",
       "\n",
       "[500 rows x 8 columns]"
      ]
     },
     "execution_count": 2,
     "metadata": {},
     "output_type": "execute_result"
    }
   ],
   "source": [
    "df = pd.read_csv('../dastasets/t-shirts.csv')\n",
    "df"
   ]
  },
  {
   "cell_type": "markdown",
   "metadata": {},
   "source": [
    "## Make some EDA and Visualization"
   ]
  },
  {
   "cell_type": "code",
   "execution_count": 3,
   "metadata": {},
   "outputs": [
    {
     "name": "stdout",
     "output_type": "stream",
     "text": [
      "<class 'pandas.core.frame.DataFrame'>\n",
      "RangeIndex: 500 entries, 0 to 499\n",
      "Data columns (total 8 columns):\n",
      " #   Column           Non-Null Count  Dtype  \n",
      "---  ------           --------------  -----  \n",
      " 0   Date ordered     500 non-null    object \n",
      " 1   Order number     500 non-null    object \n",
      " 2   Brand            500 non-null    object \n",
      " 3   Size             500 non-null    object \n",
      " 4   Color            500 non-null    object \n",
      " 5   Design           500 non-null    object \n",
      " 6   Price            500 non-null    float64\n",
      " 7   Delivery status  500 non-null    object \n",
      "dtypes: float64(1), object(7)\n",
      "memory usage: 31.4+ KB\n"
     ]
    }
   ],
   "source": [
    "df.info()"
   ]
  },
  {
   "cell_type": "code",
   "execution_count": 4,
   "metadata": {},
   "outputs": [
    {
     "data": {
      "text/plain": [
       "Yolo    109\n",
       "Kent    107\n",
       "BUCK    104\n",
       "Wang    103\n",
       "BLOT     77\n",
       "Name: Brand, dtype: int64"
      ]
     },
     "execution_count": 4,
     "metadata": {},
     "output_type": "execute_result"
    }
   ],
   "source": [
    "df['Brand'].value_counts()"
   ]
  },
  {
   "cell_type": "code",
   "execution_count": 5,
   "metadata": {},
   "outputs": [
    {
     "data": {
      "text/plain": [
       "XXL    94\n",
       "XS     88\n",
       "S      88\n",
       "M      82\n",
       "L      75\n",
       "XL     73\n",
       "Name: Size, dtype: int64"
      ]
     },
     "execution_count": 5,
     "metadata": {},
     "output_type": "execute_result"
    }
   ],
   "source": [
    "df['Size'].value_counts()"
   ]
  },
  {
   "cell_type": "code",
   "execution_count": 6,
   "metadata": {},
   "outputs": [
    {
     "data": {
      "text/plain": [
       "green     104\n",
       "indigo     89\n",
       "red        78\n",
       "purple     78\n",
       "black      77\n",
       "white      74\n",
       "Name: Color, dtype: int64"
      ]
     },
     "execution_count": 6,
     "metadata": {},
     "output_type": "execute_result"
    }
   ],
   "source": [
    "df['Color'].value_counts()"
   ]
  },
  {
   "cell_type": "code",
   "execution_count": 7,
   "metadata": {},
   "outputs": [
    {
     "data": {
      "text/plain": [
       "diamond    117\n",
       "checked    107\n",
       "Stripes    106\n",
       "spiral      89\n",
       "plain       81\n",
       "Name: Design, dtype: int64"
      ]
     },
     "execution_count": 7,
     "metadata": {},
     "output_type": "execute_result"
    }
   ],
   "source": [
    "df['Design'].value_counts()"
   ]
  },
  {
   "cell_type": "code",
   "execution_count": 8,
   "metadata": {},
   "outputs": [
    {
     "data": {
      "text/plain": [
       "<matplotlib.axes._subplots.AxesSubplot at 0x209ae235f48>"
      ]
     },
     "execution_count": 8,
     "metadata": {},
     "output_type": "execute_result"
    },
    {
     "data": {
      "image/png": "[encoded data removed]",
      "text/plain": [
       "<Figure size 720x720 with 1 Axes>"
      ]
     },
     "metadata": {},
     "output_type": "display_data"
    }
   ],
   "source": [
    "sns.boxplot(x='Brand', y='Price', data=df, palette='viridis')"
   ]
  },
  {
   "cell_type": "code",
   "execution_count": 9,
   "metadata": {},
   "outputs": [
    {
     "data": {
      "text/plain": [
       "<matplotlib.axes._subplots.AxesSubplot at 0x209ae7f3348>"
      ]
     },
     "execution_count": 9,
     "metadata": {},
     "output_type": "execute_result"
    },
    {
     "data": {
      "image/png": "[encoded data removed]",
      "text/plain": [
       "<Figure size 720x720 with 1 Axes>"
      ]
     },
     "metadata": {},
     "output_type": "display_data"
    }
   ],
   "source": [
    "sns.violinplot(x='Size', y='Price', data=df, palette='viridis')"
   ]
  },
  {
   "cell_type": "code",
   "execution_count": 10,
   "metadata": {},
   "outputs": [
    {
     "data": {
      "text/plain": [
       "<matplotlib.axes._subplots.AxesSubplot at 0x209ae678108>"
      ]
     },
     "execution_count": 10,
     "metadata": {},
     "output_type": "execute_result"
    },
    {
     "data": {
      "image/png": "[encoded data removed]",
      "text/plain": [
       "<Figure size 720x720 with 1 Axes>"
      ]
     },
     "metadata": {},
     "output_type": "display_data"
    }
   ],
   "source": [
    "sns.swarmplot(x='Design', y='Price', data=df, palette='viridis')"
   ]
  },
  {
   "cell_type": "markdown",
   "metadata": {},
   "source": [
    "**Extracted Info**\n",
    "- Design, Color, Brand are Nominal Categorical features\n",
    "- Size is Ordinal Categorical feature"
   ]
  },
  {
   "cell_type": "markdown",
   "metadata": {},
   "source": [
    "## 1) Work with Ordinal Features with pandas `map` method."
   ]
  },
  {
   "cell_type": "markdown",
   "metadata": {},
   "source": [
    "Ordinal features are those with some order associated with them. We can tell from the sample of ordinal features below these features have an order that may be important.\n",
    "\n",
    "For example we have Size column contains ordinal data so that XS < S < M < L < XL < XXL "
   ]
  },
  {
   "cell_type": "code",
   "execution_count": 11,
   "metadata": {},
   "outputs": [
    {
     "data": {
      "text/plain": [
       "XXL    94\n",
       "XS     88\n",
       "S      88\n",
       "M      82\n",
       "L      75\n",
       "XL     73\n",
       "Name: Size, dtype: int64"
      ]
     },
     "execution_count": 11,
     "metadata": {},
     "output_type": "execute_result"
    }
   ],
   "source": [
    "df['Size'].value_counts()"
   ]
  },
  {
   "cell_type": "code",
   "execution_count": 12,
   "metadata": {},
   "outputs": [],
   "source": [
    "size_dict = {'XS':1, \n",
    "        'S':2, \n",
    "        'M':3, \n",
    "        'L':4, \n",
    "        'XL':5, \n",
    "        'XXL':6}\n",
    "\n",
    "# apply using map\n",
    "df['Size'] = df['Size'].map(size_dict)"
   ]
  },
  {
   "cell_type": "code",
   "execution_count": 13,
   "metadata": {
    "scrolled": true
   },
   "outputs": [
    {
     "data": {
      "text/html": [
       "<div>\n",
       "<style scoped>\n",
       "    .dataframe tbody tr th:only-of-type {\n",
       "        vertical-align: middle;\n",
       "    }\n",
       "\n",
       "    .dataframe tbody tr th {\n",
       "        vertical-align: top;\n",
       "    }\n",
       "\n",
       "    .dataframe thead th {\n",
       "        text-align: right;\n",
       "    }\n",
       "</style>\n",
       "<table border=\"1\" class=\"dataframe\">\n",
       "  <thead>\n",
       "    <tr style=\"text-align: right;\">\n",
       "      <th></th>\n",
       "      <th>Date ordered</th>\n",
       "      <th>Order number</th>\n",
       "      <th>Brand</th>\n",
       "      <th>Size</th>\n",
       "      <th>Color</th>\n",
       "      <th>Design</th>\n",
       "      <th>Price</th>\n",
       "      <th>Delivery status</th>\n",
       "    </tr>\n",
       "  </thead>\n",
       "  <tbody>\n",
       "    <tr>\n",
       "      <th>0</th>\n",
       "      <td>2016-05-05</td>\n",
       "      <td>SDH-YU0</td>\n",
       "      <td>Yolo</td>\n",
       "      <td>4</td>\n",
       "      <td>red</td>\n",
       "      <td>spiral</td>\n",
       "      <td>14.47</td>\n",
       "      <td>damaged</td>\n",
       "    </tr>\n",
       "    <tr>\n",
       "      <th>1</th>\n",
       "      <td>2016-05-06</td>\n",
       "      <td>SDH-YU1</td>\n",
       "      <td>Yolo</td>\n",
       "      <td>6</td>\n",
       "      <td>green</td>\n",
       "      <td>spiral</td>\n",
       "      <td>16.24</td>\n",
       "      <td>delayed</td>\n",
       "    </tr>\n",
       "    <tr>\n",
       "      <th>2</th>\n",
       "      <td>2016-05-07</td>\n",
       "      <td>SDH-YU2</td>\n",
       "      <td>BLOT</td>\n",
       "      <td>5</td>\n",
       "      <td>black</td>\n",
       "      <td>Stripes</td>\n",
       "      <td>14.32</td>\n",
       "      <td>delivered</td>\n",
       "    </tr>\n",
       "    <tr>\n",
       "      <th>3</th>\n",
       "      <td>2016-05-08</td>\n",
       "      <td>SDH-YU3</td>\n",
       "      <td>Kent</td>\n",
       "      <td>6</td>\n",
       "      <td>green</td>\n",
       "      <td>plain</td>\n",
       "      <td>14.07</td>\n",
       "      <td>damaged</td>\n",
       "    </tr>\n",
       "    <tr>\n",
       "      <th>4</th>\n",
       "      <td>2016-05-09</td>\n",
       "      <td>SDH-YU4</td>\n",
       "      <td>BUCK</td>\n",
       "      <td>5</td>\n",
       "      <td>white</td>\n",
       "      <td>spiral</td>\n",
       "      <td>15.56</td>\n",
       "      <td>order received</td>\n",
       "    </tr>\n",
       "  </tbody>\n",
       "</table>\n",
       "</div>"
      ],
      "text/plain": [
       "  Date ordered Order number Brand  Size  Color   Design  Price Delivery status\n",
       "0   2016-05-05      SDH-YU0  Yolo     4    red   spiral  14.47         damaged\n",
       "1   2016-05-06      SDH-YU1  Yolo     6  green   spiral  16.24         delayed\n",
       "2   2016-05-07      SDH-YU2  BLOT     5  black  Stripes  14.32       delivered\n",
       "3   2016-05-08      SDH-YU3  Kent     6  green    plain  14.07         damaged\n",
       "4   2016-05-09      SDH-YU4  BUCK     5  white   spiral  15.56  order received"
      ]
     },
     "execution_count": 13,
     "metadata": {},
     "output_type": "execute_result"
    }
   ],
   "source": [
    "df.head()"
   ]
  },
  {
   "cell_type": "markdown",
   "metadata": {},
   "source": [
    "**note**<br>\n",
    "you can use `LabelEncoder` from sklearn to generate the integer volumns from categorical features."
   ]
  },
  {
   "cell_type": "markdown",
   "metadata": {},
   "source": [
    "### Get The Inverse"
   ]
  },
  {
   "cell_type": "code",
   "execution_count": 14,
   "metadata": {},
   "outputs": [
    {
     "data": {
      "text/plain": [
       "{1: 'XS', 2: 'S', 3: 'M', 4: 'L', 5: 'XL', 6: 'XXL'}"
      ]
     },
     "execution_count": 14,
     "metadata": {},
     "output_type": "execute_result"
    }
   ],
   "source": [
    "inv_size_mapping = {v: k for k, v in size_dict.items()}\n",
    "inv_size_mapping"
   ]
  },
  {
   "cell_type": "code",
   "execution_count": 15,
   "metadata": {},
   "outputs": [
    {
     "data": {
      "text/html": [
       "<div>\n",
       "<style scoped>\n",
       "    .dataframe tbody tr th:only-of-type {\n",
       "        vertical-align: middle;\n",
       "    }\n",
       "\n",
       "    .dataframe tbody tr th {\n",
       "        vertical-align: top;\n",
       "    }\n",
       "\n",
       "    .dataframe thead th {\n",
       "        text-align: right;\n",
       "    }\n",
       "</style>\n",
       "<table border=\"1\" class=\"dataframe\">\n",
       "  <thead>\n",
       "    <tr style=\"text-align: right;\">\n",
       "      <th></th>\n",
       "      <th>Date ordered</th>\n",
       "      <th>Order number</th>\n",
       "      <th>Brand</th>\n",
       "      <th>Size</th>\n",
       "      <th>Color</th>\n",
       "      <th>Design</th>\n",
       "      <th>Price</th>\n",
       "      <th>Delivery status</th>\n",
       "      <th>size_inv</th>\n",
       "    </tr>\n",
       "  </thead>\n",
       "  <tbody>\n",
       "    <tr>\n",
       "      <th>0</th>\n",
       "      <td>2016-05-05</td>\n",
       "      <td>SDH-YU0</td>\n",
       "      <td>Yolo</td>\n",
       "      <td>4</td>\n",
       "      <td>red</td>\n",
       "      <td>spiral</td>\n",
       "      <td>14.47</td>\n",
       "      <td>damaged</td>\n",
       "      <td>L</td>\n",
       "    </tr>\n",
       "    <tr>\n",
       "      <th>1</th>\n",
       "      <td>2016-05-06</td>\n",
       "      <td>SDH-YU1</td>\n",
       "      <td>Yolo</td>\n",
       "      <td>6</td>\n",
       "      <td>green</td>\n",
       "      <td>spiral</td>\n",
       "      <td>16.24</td>\n",
       "      <td>delayed</td>\n",
       "      <td>XXL</td>\n",
       "    </tr>\n",
       "    <tr>\n",
       "      <th>2</th>\n",
       "      <td>2016-05-07</td>\n",
       "      <td>SDH-YU2</td>\n",
       "      <td>BLOT</td>\n",
       "      <td>5</td>\n",
       "      <td>black</td>\n",
       "      <td>Stripes</td>\n",
       "      <td>14.32</td>\n",
       "      <td>delivered</td>\n",
       "      <td>XL</td>\n",
       "    </tr>\n",
       "    <tr>\n",
       "      <th>3</th>\n",
       "      <td>2016-05-08</td>\n",
       "      <td>SDH-YU3</td>\n",
       "      <td>Kent</td>\n",
       "      <td>6</td>\n",
       "      <td>green</td>\n",
       "      <td>plain</td>\n",
       "      <td>14.07</td>\n",
       "      <td>damaged</td>\n",
       "      <td>XXL</td>\n",
       "    </tr>\n",
       "    <tr>\n",
       "      <th>4</th>\n",
       "      <td>2016-05-09</td>\n",
       "      <td>SDH-YU4</td>\n",
       "      <td>BUCK</td>\n",
       "      <td>5</td>\n",
       "      <td>white</td>\n",
       "      <td>spiral</td>\n",
       "      <td>15.56</td>\n",
       "      <td>order received</td>\n",
       "      <td>XL</td>\n",
       "    </tr>\n",
       "    <tr>\n",
       "      <th>...</th>\n",
       "      <td>...</td>\n",
       "      <td>...</td>\n",
       "      <td>...</td>\n",
       "      <td>...</td>\n",
       "      <td>...</td>\n",
       "      <td>...</td>\n",
       "      <td>...</td>\n",
       "      <td>...</td>\n",
       "      <td>...</td>\n",
       "    </tr>\n",
       "    <tr>\n",
       "      <th>495</th>\n",
       "      <td>2017-09-12</td>\n",
       "      <td>SDH-YU495</td>\n",
       "      <td>Wang</td>\n",
       "      <td>1</td>\n",
       "      <td>green</td>\n",
       "      <td>diamond</td>\n",
       "      <td>15.03</td>\n",
       "      <td>damaged</td>\n",
       "      <td>XS</td>\n",
       "    </tr>\n",
       "    <tr>\n",
       "      <th>496</th>\n",
       "      <td>2017-09-13</td>\n",
       "      <td>SDH-YU496</td>\n",
       "      <td>BUCK</td>\n",
       "      <td>3</td>\n",
       "      <td>black</td>\n",
       "      <td>Stripes</td>\n",
       "      <td>14.49</td>\n",
       "      <td>shipping</td>\n",
       "      <td>M</td>\n",
       "    </tr>\n",
       "    <tr>\n",
       "      <th>497</th>\n",
       "      <td>2017-09-14</td>\n",
       "      <td>SDH-YU497</td>\n",
       "      <td>Kent</td>\n",
       "      <td>6</td>\n",
       "      <td>purple</td>\n",
       "      <td>plain</td>\n",
       "      <td>15.61</td>\n",
       "      <td>shipping</td>\n",
       "      <td>XXL</td>\n",
       "    </tr>\n",
       "    <tr>\n",
       "      <th>498</th>\n",
       "      <td>2017-09-15</td>\n",
       "      <td>SDH-YU498</td>\n",
       "      <td>Yolo</td>\n",
       "      <td>2</td>\n",
       "      <td>red</td>\n",
       "      <td>plain</td>\n",
       "      <td>13.49</td>\n",
       "      <td>order received</td>\n",
       "      <td>S</td>\n",
       "    </tr>\n",
       "    <tr>\n",
       "      <th>499</th>\n",
       "      <td>2017-09-16</td>\n",
       "      <td>SDH-YU499</td>\n",
       "      <td>BLOT</td>\n",
       "      <td>2</td>\n",
       "      <td>black</td>\n",
       "      <td>spiral</td>\n",
       "      <td>14.75</td>\n",
       "      <td>shipping</td>\n",
       "      <td>S</td>\n",
       "    </tr>\n",
       "  </tbody>\n",
       "</table>\n",
       "<p>500 rows × 9 columns</p>\n",
       "</div>"
      ],
      "text/plain": [
       "    Date ordered Order number Brand  Size   Color   Design  Price  \\\n",
       "0     2016-05-05      SDH-YU0  Yolo     4     red   spiral  14.47   \n",
       "1     2016-05-06      SDH-YU1  Yolo     6   green   spiral  16.24   \n",
       "2     2016-05-07      SDH-YU2  BLOT     5   black  Stripes  14.32   \n",
       "3     2016-05-08      SDH-YU3  Kent     6   green    plain  14.07   \n",
       "4     2016-05-09      SDH-YU4  BUCK     5   white   spiral  15.56   \n",
       "..           ...          ...   ...   ...     ...      ...    ...   \n",
       "495   2017-09-12    SDH-YU495  Wang     1   green  diamond  15.03   \n",
       "496   2017-09-13    SDH-YU496  BUCK     3   black  Stripes  14.49   \n",
       "497   2017-09-14    SDH-YU497  Kent     6  purple    plain  15.61   \n",
       "498   2017-09-15    SDH-YU498  Yolo     2     red    plain  13.49   \n",
       "499   2017-09-16    SDH-YU499  BLOT     2   black   spiral  14.75   \n",
       "\n",
       "    Delivery status size_inv  \n",
       "0           damaged        L  \n",
       "1           delayed      XXL  \n",
       "2         delivered       XL  \n",
       "3           damaged      XXL  \n",
       "4    order received       XL  \n",
       "..              ...      ...  \n",
       "495         damaged       XS  \n",
       "496        shipping        M  \n",
       "497        shipping      XXL  \n",
       "498  order received        S  \n",
       "499        shipping        S  \n",
       "\n",
       "[500 rows x 9 columns]"
      ]
     },
     "execution_count": 15,
     "metadata": {},
     "output_type": "execute_result"
    }
   ],
   "source": [
    "df['size_inv'] = df['Size'].map(inv_size_mapping)\n",
    "df"
   ]
  },
  {
   "cell_type": "markdown",
   "metadata": {},
   "source": [
    "## 2) Work with Nominal Features with pandas `get_dummies` method."
   ]
  },
  {
   "cell_type": "markdown",
   "metadata": {},
   "source": [
    "<img src='https://miro.medium.com/max/1400/1*hZLqbZqqrwiqkGxxl2vYkg.png'>\n",
    "\n",
    "Nominal features are categorical features that have no numerical importance. Order does not matter.\n",
    "\n",
    "One-hot encoding is a better technique when order doesn’t matter. For example, in the feature Color or Brand there is no obvious order here. One value is not better than another.\n",
    "\n",
    "In a situation like this, where order doesn’t matter, integer encoding could lead to poor model performance and should not be used.\n",
    "\n",
    "In one hot encoding, a new binary (dummy) variable is created for each unique value in the categorical variable. For example In the chart above, we had three unique colors and so we create three new features, one for each color. If the value is true, the integer 1 is placed in the field, if false then a 0."
   ]
  },
  {
   "cell_type": "code",
   "execution_count": 16,
   "metadata": {},
   "outputs": [
    {
     "data": {
      "text/plain": [
       "diamond    117\n",
       "checked    107\n",
       "Stripes    106\n",
       "spiral      89\n",
       "plain       81\n",
       "Name: Design, dtype: int64"
      ]
     },
     "execution_count": 16,
     "metadata": {},
     "output_type": "execute_result"
    }
   ],
   "source": [
    "df['Design'].value_counts()"
   ]
  },
  {
   "cell_type": "code",
   "execution_count": 17,
   "metadata": {},
   "outputs": [
    {
     "data": {
      "text/plain": [
       "green     104\n",
       "indigo     89\n",
       "red        78\n",
       "purple     78\n",
       "black      77\n",
       "white      74\n",
       "Name: Color, dtype: int64"
      ]
     },
     "execution_count": 17,
     "metadata": {},
     "output_type": "execute_result"
    }
   ],
   "source": [
    "df['Color'].value_counts()"
   ]
  },
  {
   "cell_type": "code",
   "execution_count": 18,
   "metadata": {},
   "outputs": [
    {
     "data": {
      "text/plain": [
       "Yolo    109\n",
       "Kent    107\n",
       "BUCK    104\n",
       "Wang    103\n",
       "BLOT     77\n",
       "Name: Brand, dtype: int64"
      ]
     },
     "execution_count": 18,
     "metadata": {},
     "output_type": "execute_result"
    }
   ],
   "source": [
    "df['Brand'].value_counts()"
   ]
  },
  {
   "cell_type": "code",
   "execution_count": 19,
   "metadata": {},
   "outputs": [
    {
     "data": {
      "text/plain": [
       "order received    106\n",
       "shipping          104\n",
       "damaged           100\n",
       "delayed            95\n",
       "delivered          95\n",
       "Name: Delivery status, dtype: int64"
      ]
     },
     "execution_count": 19,
     "metadata": {},
     "output_type": "execute_result"
    }
   ],
   "source": [
    "df['Delivery status'].value_counts()"
   ]
  },
  {
   "cell_type": "code",
   "execution_count": 20,
   "metadata": {},
   "outputs": [],
   "source": [
    "df = pd.get_dummies(df, columns=['Design', 'Color', 'Brand', 'Delivery status'], drop_first=True)"
   ]
  },
  {
   "cell_type": "code",
   "execution_count": 21,
   "metadata": {
    "scrolled": true
   },
   "outputs": [
    {
     "data": {
      "text/html": [
       "<div>\n",
       "<style scoped>\n",
       "    .dataframe tbody tr th:only-of-type {\n",
       "        vertical-align: middle;\n",
       "    }\n",
       "\n",
       "    .dataframe tbody tr th {\n",
       "        vertical-align: top;\n",
       "    }\n",
       "\n",
       "    .dataframe thead th {\n",
       "        text-align: right;\n",
       "    }\n",
       "</style>\n",
       "<table border=\"1\" class=\"dataframe\">\n",
       "  <thead>\n",
       "    <tr style=\"text-align: right;\">\n",
       "      <th></th>\n",
       "      <th>Date ordered</th>\n",
       "      <th>Order number</th>\n",
       "      <th>Size</th>\n",
       "      <th>Price</th>\n",
       "      <th>size_inv</th>\n",
       "      <th>Design_checked</th>\n",
       "      <th>Design_diamond</th>\n",
       "      <th>Design_plain</th>\n",
       "      <th>Design_spiral</th>\n",
       "      <th>Color_green</th>\n",
       "      <th>...</th>\n",
       "      <th>Color_red</th>\n",
       "      <th>Color_white</th>\n",
       "      <th>Brand_BUCK</th>\n",
       "      <th>Brand_Kent</th>\n",
       "      <th>Brand_Wang</th>\n",
       "      <th>Brand_Yolo</th>\n",
       "      <th>Delivery status_delayed</th>\n",
       "      <th>Delivery status_delivered</th>\n",
       "      <th>Delivery status_order received</th>\n",
       "      <th>Delivery status_shipping</th>\n",
       "    </tr>\n",
       "  </thead>\n",
       "  <tbody>\n",
       "    <tr>\n",
       "      <th>0</th>\n",
       "      <td>2016-05-05</td>\n",
       "      <td>SDH-YU0</td>\n",
       "      <td>4</td>\n",
       "      <td>14.47</td>\n",
       "      <td>L</td>\n",
       "      <td>0</td>\n",
       "      <td>0</td>\n",
       "      <td>0</td>\n",
       "      <td>1</td>\n",
       "      <td>0</td>\n",
       "      <td>...</td>\n",
       "      <td>1</td>\n",
       "      <td>0</td>\n",
       "      <td>0</td>\n",
       "      <td>0</td>\n",
       "      <td>0</td>\n",
       "      <td>1</td>\n",
       "      <td>0</td>\n",
       "      <td>0</td>\n",
       "      <td>0</td>\n",
       "      <td>0</td>\n",
       "    </tr>\n",
       "    <tr>\n",
       "      <th>1</th>\n",
       "      <td>2016-05-06</td>\n",
       "      <td>SDH-YU1</td>\n",
       "      <td>6</td>\n",
       "      <td>16.24</td>\n",
       "      <td>XXL</td>\n",
       "      <td>0</td>\n",
       "      <td>0</td>\n",
       "      <td>0</td>\n",
       "      <td>1</td>\n",
       "      <td>1</td>\n",
       "      <td>...</td>\n",
       "      <td>0</td>\n",
       "      <td>0</td>\n",
       "      <td>0</td>\n",
       "      <td>0</td>\n",
       "      <td>0</td>\n",
       "      <td>1</td>\n",
       "      <td>1</td>\n",
       "      <td>0</td>\n",
       "      <td>0</td>\n",
       "      <td>0</td>\n",
       "    </tr>\n",
       "    <tr>\n",
       "      <th>2</th>\n",
       "      <td>2016-05-07</td>\n",
       "      <td>SDH-YU2</td>\n",
       "      <td>5</td>\n",
       "      <td>14.32</td>\n",
       "      <td>XL</td>\n",
       "      <td>0</td>\n",
       "      <td>0</td>\n",
       "      <td>0</td>\n",
       "      <td>0</td>\n",
       "      <td>0</td>\n",
       "      <td>...</td>\n",
       "      <td>0</td>\n",
       "      <td>0</td>\n",
       "      <td>0</td>\n",
       "      <td>0</td>\n",
       "      <td>0</td>\n",
       "      <td>0</td>\n",
       "      <td>0</td>\n",
       "      <td>1</td>\n",
       "      <td>0</td>\n",
       "      <td>0</td>\n",
       "    </tr>\n",
       "    <tr>\n",
       "      <th>3</th>\n",
       "      <td>2016-05-08</td>\n",
       "      <td>SDH-YU3</td>\n",
       "      <td>6</td>\n",
       "      <td>14.07</td>\n",
       "      <td>XXL</td>\n",
       "      <td>0</td>\n",
       "      <td>0</td>\n",
       "      <td>1</td>\n",
       "      <td>0</td>\n",
       "      <td>1</td>\n",
       "      <td>...</td>\n",
       "      <td>0</td>\n",
       "      <td>0</td>\n",
       "      <td>0</td>\n",
       "      <td>1</td>\n",
       "      <td>0</td>\n",
       "      <td>0</td>\n",
       "      <td>0</td>\n",
       "      <td>0</td>\n",
       "      <td>0</td>\n",
       "      <td>0</td>\n",
       "    </tr>\n",
       "    <tr>\n",
       "      <th>4</th>\n",
       "      <td>2016-05-09</td>\n",
       "      <td>SDH-YU4</td>\n",
       "      <td>5</td>\n",
       "      <td>15.56</td>\n",
       "      <td>XL</td>\n",
       "      <td>0</td>\n",
       "      <td>0</td>\n",
       "      <td>0</td>\n",
       "      <td>1</td>\n",
       "      <td>0</td>\n",
       "      <td>...</td>\n",
       "      <td>0</td>\n",
       "      <td>1</td>\n",
       "      <td>1</td>\n",
       "      <td>0</td>\n",
       "      <td>0</td>\n",
       "      <td>0</td>\n",
       "      <td>0</td>\n",
       "      <td>0</td>\n",
       "      <td>1</td>\n",
       "      <td>0</td>\n",
       "    </tr>\n",
       "    <tr>\n",
       "      <th>...</th>\n",
       "      <td>...</td>\n",
       "      <td>...</td>\n",
       "      <td>...</td>\n",
       "      <td>...</td>\n",
       "      <td>...</td>\n",
       "      <td>...</td>\n",
       "      <td>...</td>\n",
       "      <td>...</td>\n",
       "      <td>...</td>\n",
       "      <td>...</td>\n",
       "      <td>...</td>\n",
       "      <td>...</td>\n",
       "      <td>...</td>\n",
       "      <td>...</td>\n",
       "      <td>...</td>\n",
       "      <td>...</td>\n",
       "      <td>...</td>\n",
       "      <td>...</td>\n",
       "      <td>...</td>\n",
       "      <td>...</td>\n",
       "      <td>...</td>\n",
       "    </tr>\n",
       "    <tr>\n",
       "      <th>495</th>\n",
       "      <td>2017-09-12</td>\n",
       "      <td>SDH-YU495</td>\n",
       "      <td>1</td>\n",
       "      <td>15.03</td>\n",
       "      <td>XS</td>\n",
       "      <td>0</td>\n",
       "      <td>1</td>\n",
       "      <td>0</td>\n",
       "      <td>0</td>\n",
       "      <td>1</td>\n",
       "      <td>...</td>\n",
       "      <td>0</td>\n",
       "      <td>0</td>\n",
       "      <td>0</td>\n",
       "      <td>0</td>\n",
       "      <td>1</td>\n",
       "      <td>0</td>\n",
       "      <td>0</td>\n",
       "      <td>0</td>\n",
       "      <td>0</td>\n",
       "      <td>0</td>\n",
       "    </tr>\n",
       "    <tr>\n",
       "      <th>496</th>\n",
       "      <td>2017-09-13</td>\n",
       "      <td>SDH-YU496</td>\n",
       "      <td>3</td>\n",
       "      <td>14.49</td>\n",
       "      <td>M</td>\n",
       "      <td>0</td>\n",
       "      <td>0</td>\n",
       "      <td>0</td>\n",
       "      <td>0</td>\n",
       "      <td>0</td>\n",
       "      <td>...</td>\n",
       "      <td>0</td>\n",
       "      <td>0</td>\n",
       "      <td>1</td>\n",
       "      <td>0</td>\n",
       "      <td>0</td>\n",
       "      <td>0</td>\n",
       "      <td>0</td>\n",
       "      <td>0</td>\n",
       "      <td>0</td>\n",
       "      <td>1</td>\n",
       "    </tr>\n",
       "    <tr>\n",
       "      <th>497</th>\n",
       "      <td>2017-09-14</td>\n",
       "      <td>SDH-YU497</td>\n",
       "      <td>6</td>\n",
       "      <td>15.61</td>\n",
       "      <td>XXL</td>\n",
       "      <td>0</td>\n",
       "      <td>0</td>\n",
       "      <td>1</td>\n",
       "      <td>0</td>\n",
       "      <td>0</td>\n",
       "      <td>...</td>\n",
       "      <td>0</td>\n",
       "      <td>0</td>\n",
       "      <td>0</td>\n",
       "      <td>1</td>\n",
       "      <td>0</td>\n",
       "      <td>0</td>\n",
       "      <td>0</td>\n",
       "      <td>0</td>\n",
       "      <td>0</td>\n",
       "      <td>1</td>\n",
       "    </tr>\n",
       "    <tr>\n",
       "      <th>498</th>\n",
       "      <td>2017-09-15</td>\n",
       "      <td>SDH-YU498</td>\n",
       "      <td>2</td>\n",
       "      <td>13.49</td>\n",
       "      <td>S</td>\n",
       "      <td>0</td>\n",
       "      <td>0</td>\n",
       "      <td>1</td>\n",
       "      <td>0</td>\n",
       "      <td>0</td>\n",
       "      <td>...</td>\n",
       "      <td>1</td>\n",
       "      <td>0</td>\n",
       "      <td>0</td>\n",
       "      <td>0</td>\n",
       "      <td>0</td>\n",
       "      <td>1</td>\n",
       "      <td>0</td>\n",
       "      <td>0</td>\n",
       "      <td>1</td>\n",
       "      <td>0</td>\n",
       "    </tr>\n",
       "    <tr>\n",
       "      <th>499</th>\n",
       "      <td>2017-09-16</td>\n",
       "      <td>SDH-YU499</td>\n",
       "      <td>2</td>\n",
       "      <td>14.75</td>\n",
       "      <td>S</td>\n",
       "      <td>0</td>\n",
       "      <td>0</td>\n",
       "      <td>0</td>\n",
       "      <td>1</td>\n",
       "      <td>0</td>\n",
       "      <td>...</td>\n",
       "      <td>0</td>\n",
       "      <td>0</td>\n",
       "      <td>0</td>\n",
       "      <td>0</td>\n",
       "      <td>0</td>\n",
       "      <td>0</td>\n",
       "      <td>0</td>\n",
       "      <td>0</td>\n",
       "      <td>0</td>\n",
       "      <td>1</td>\n",
       "    </tr>\n",
       "  </tbody>\n",
       "</table>\n",
       "<p>500 rows × 22 columns</p>\n",
       "</div>"
      ],
      "text/plain": [
       "    Date ordered Order number  Size  Price size_inv  Design_checked  \\\n",
       "0     2016-05-05      SDH-YU0     4  14.47        L               0   \n",
       "1     2016-05-06      SDH-YU1     6  16.24      XXL               0   \n",
       "2     2016-05-07      SDH-YU2     5  14.32       XL               0   \n",
       "3     2016-05-08      SDH-YU3     6  14.07      XXL               0   \n",
       "4     2016-05-09      SDH-YU4     5  15.56       XL               0   \n",
       "..           ...          ...   ...    ...      ...             ...   \n",
       "495   2017-09-12    SDH-YU495     1  15.03       XS               0   \n",
       "496   2017-09-13    SDH-YU496     3  14.49        M               0   \n",
       "497   2017-09-14    SDH-YU497     6  15.61      XXL               0   \n",
       "498   2017-09-15    SDH-YU498     2  13.49        S               0   \n",
       "499   2017-09-16    SDH-YU499     2  14.75        S               0   \n",
       "\n",
       "     Design_diamond  Design_plain  Design_spiral  Color_green  ...  Color_red  \\\n",
       "0                 0             0              1            0  ...          1   \n",
       "1                 0             0              1            1  ...          0   \n",
       "2                 0             0              0            0  ...          0   \n",
       "3                 0             1              0            1  ...          0   \n",
       "4                 0             0              1            0  ...          0   \n",
       "..              ...           ...            ...          ...  ...        ...   \n",
       "495               1             0              0            1  ...          0   \n",
       "496               0             0              0            0  ...          0   \n",
       "497               0             1              0            0  ...          0   \n",
       "498               0             1              0            0  ...          1   \n",
       "499               0             0              1            0  ...          0   \n",
       "\n",
       "     Color_white  Brand_BUCK  Brand_Kent  Brand_Wang  Brand_Yolo  \\\n",
       "0              0           0           0           0           1   \n",
       "1              0           0           0           0           1   \n",
       "2              0           0           0           0           0   \n",
       "3              0           0           1           0           0   \n",
       "4              1           1           0           0           0   \n",
       "..           ...         ...         ...         ...         ...   \n",
       "495            0           0           0           1           0   \n",
       "496            0           1           0           0           0   \n",
       "497            0           0           1           0           0   \n",
       "498            0           0           0           0           1   \n",
       "499            0           0           0           0           0   \n",
       "\n",
       "     Delivery status_delayed  Delivery status_delivered  \\\n",
       "0                          0                          0   \n",
       "1                          1                          0   \n",
       "2                          0                          1   \n",
       "3                          0                          0   \n",
       "4                          0                          0   \n",
       "..                       ...                        ...   \n",
       "495                        0                          0   \n",
       "496                        0                          0   \n",
       "497                        0                          0   \n",
       "498                        0                          0   \n",
       "499                        0                          0   \n",
       "\n",
       "     Delivery status_order received  Delivery status_shipping  \n",
       "0                                 0                         0  \n",
       "1                                 0                         0  \n",
       "2                                 0                         0  \n",
       "3                                 0                         0  \n",
       "4                                 1                         0  \n",
       "..                              ...                       ...  \n",
       "495                               0                         0  \n",
       "496                               0                         1  \n",
       "497                               0                         1  \n",
       "498                               1                         0  \n",
       "499                               0                         1  \n",
       "\n",
       "[500 rows x 22 columns]"
      ]
     },
     "execution_count": 21,
     "metadata": {},
     "output_type": "execute_result"
    }
   ],
   "source": [
    "df"
   ]
  },
  {
   "cell_type": "markdown",
   "metadata": {},
   "source": [
    "we use `drop_first` to get k-1 features, due to the last feature will be redundant and correlated with other features so it can cause problems.\n",
    "\n",
    "- Spiral dummy variable has been removed from Design column\n",
    "- Black dummy variable has been removed from Color column\n",
    "- Blot dummy variable has been removed from Brand column"
   ]
  },
  {
   "cell_type": "markdown",
   "metadata": {},
   "source": [
    "**note**<br>\n",
    "you can use `OneHotEncoder` from sklearn to generate the dummy variables from categorical features."
   ]
  },
  {
   "cell_type": "markdown",
   "metadata": {},
   "source": [
    "# Great Work!"
   ]
  }
 ],
 "metadata": {
  "kernelspec": {
   "display_name": "Python 3",
   "language": "python",
   "name": "python3"
  },
  "language_info": {
   "codemirror_mode": {
    "name": "ipython",
    "version": 3
   },
   "file_extension": ".py",
   "mimetype": "text/x-python",
   "name": "python",
   "nbconvert_exporter": "python",
   "pygments_lexer": "ipython3",
   "version": "3.7.6"
  }
 },
 "nbformat": 4,
 "nbformat_minor": 4
}
