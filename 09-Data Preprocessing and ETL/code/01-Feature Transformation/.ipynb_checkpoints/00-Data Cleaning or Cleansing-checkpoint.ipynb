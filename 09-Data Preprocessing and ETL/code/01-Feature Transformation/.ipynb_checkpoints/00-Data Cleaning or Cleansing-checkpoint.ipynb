{
 "cells": [
  {
   "cell_type": "markdown",
   "metadata": {},
   "source": [
    "# Data Cleaning or Cleansing\n",
    "\n",
    "Whenever we have to work with a real world dataset, the first problem that we face is to clean it. The real world dataset never comes clean. It consists lot of discrepancies in the dataset. So, we have to clean the dataset for further processing.\n",
    "\n",
    "Cleaning data is the process of preparing the dataset for analysis. It is very important because the accuracy of machine learning or data mining models are affected because of poor quality of data.\n",
    "\n",
    "So, data scientists spend a large amount of their time cleaning the dataset and transform them into a format with which they can work with. In fact, data scientists spend 80% of their time cleaning the data.\n",
    "\n",
    "A very common scenario is that the dataset contains missing values coded as NaN. Also, the missing values are coded in different ways. The dataset may contain negative or invalid values. It may contain outliers. It may be in the untidy format. All of these are examples of a messy dataset.\n",
    "\n",
    "In this project, I present several useful ways to handle these discrepancies in the dataset."
   ]
  },
  {
   "cell_type": "markdown",
   "metadata": {},
   "source": [
    "## 1) Import the required Python libraries"
   ]
  },
  {
   "cell_type": "code",
   "execution_count": 1,
   "metadata": {},
   "outputs": [],
   "source": [
    "import numpy as np\n",
    "import pandas as pd\n",
    "import matplotlib.pyplot as plt\n",
    "import seaborn as sns\n",
    "\n",
    "%matplotlib inline\n",
    "sns.set(rc={'figure.figsize': [10, 10]}, font_scale=1.3)"
   ]
  },
  {
   "cell_type": "markdown",
   "metadata": {},
   "source": [
    "## 2) Read Data"
   ]
  },
  {
   "cell_type": "code",
   "execution_count": 2,
   "metadata": {},
   "outputs": [],
   "source": [
    "df = pd.read_csv('../dastasets/friends.csv', sep='|')"
   ]
  },
  {
   "cell_type": "code",
   "execution_count": 3,
   "metadata": {},
   "outputs": [
    {
     "data": {
      "text/html": [
       "<div>\n",
       "<style scoped>\n",
       "    .dataframe tbody tr th:only-of-type {\n",
       "        vertical-align: middle;\n",
       "    }\n",
       "\n",
       "    .dataframe tbody tr th {\n",
       "        vertical-align: top;\n",
       "    }\n",
       "\n",
       "    .dataframe thead th {\n",
       "        text-align: right;\n",
       "    }\n",
       "</style>\n",
       "<table border=\"1\" class=\"dataframe\">\n",
       "  <thead>\n",
       "    <tr style=\"text-align: right;\">\n",
       "      <th></th>\n",
       "      <th>fname</th>\n",
       "      <th>lname</th>\n",
       "      <th>age_sex</th>\n",
       "      <th>section</th>\n",
       "      <th>height(cm)</th>\n",
       "      <th>weight(kg)</th>\n",
       "      <th>age</th>\n",
       "      <th>spend_A</th>\n",
       "      <th>spend_B</th>\n",
       "      <th>spend_C</th>\n",
       "    </tr>\n",
       "  </thead>\n",
       "  <tbody>\n",
       "    <tr>\n",
       "      <th>0</th>\n",
       "      <td>Rahul</td>\n",
       "      <td>Pandey</td>\n",
       "      <td>37_M</td>\n",
       "      <td>B</td>\n",
       "      <td>175.4</td>\n",
       "      <td>85.6</td>\n",
       "      <td>37</td>\n",
       "      <td>1500.0</td>\n",
       "      <td>200.0</td>\n",
       "      <td>300</td>\n",
       "    </tr>\n",
       "    <tr>\n",
       "      <th>1</th>\n",
       "      <td>Rakesh</td>\n",
       "      <td>Kumar</td>\n",
       "      <td>38_M</td>\n",
       "      <td>B</td>\n",
       "      <td>NaN</td>\n",
       "      <td>xx</td>\n",
       "      <td>38</td>\n",
       "      <td>NaN</td>\n",
       "      <td>1000.0</td>\n",
       "      <td>NaN</td>\n",
       "    </tr>\n",
       "    <tr>\n",
       "      <th>2</th>\n",
       "      <td>Nitesh</td>\n",
       "      <td>Mondol</td>\n",
       "      <td>35_F</td>\n",
       "      <td>B</td>\n",
       "      <td>165.1</td>\n",
       "      <td>?</td>\n",
       "      <td>35</td>\n",
       "      <td>500.0</td>\n",
       "      <td>-100.0</td>\n",
       "      <td>200</td>\n",
       "    </tr>\n",
       "    <tr>\n",
       "      <th>3</th>\n",
       "      <td>Arvind</td>\n",
       "      <td>Dwivedi</td>\n",
       "      <td>40_M</td>\n",
       "      <td>A</td>\n",
       "      <td>0</td>\n",
       "      <td>55.6</td>\n",
       "      <td>40</td>\n",
       "      <td>300.0</td>\n",
       "      <td>300.0</td>\n",
       "      <td>NaN</td>\n",
       "    </tr>\n",
       "    <tr>\n",
       "      <th>4</th>\n",
       "      <td>Nikhil</td>\n",
       "      <td>Shikharwar</td>\n",
       "      <td>39_M</td>\n",
       "      <td>B</td>\n",
       "      <td>160.8</td>\n",
       "      <td>160</td>\n",
       "      <td>39</td>\n",
       "      <td>200.0</td>\n",
       "      <td>NaN</td>\n",
       "      <td>300</td>\n",
       "    </tr>\n",
       "    <tr>\n",
       "      <th>5</th>\n",
       "      <td>Ashutosh</td>\n",
       "      <td>Merothiya</td>\n",
       "      <td>36_M</td>\n",
       "      <td>A</td>\n",
       "      <td>xx</td>\n",
       "      <td>-60</td>\n",
       "      <td>36</td>\n",
       "      <td>100.0</td>\n",
       "      <td>400.0</td>\n",
       "      <td>NaN</td>\n",
       "    </tr>\n",
       "    <tr>\n",
       "      <th>6</th>\n",
       "      <td>Shubhro</td>\n",
       "      <td>Das</td>\n",
       "      <td>35_F</td>\n",
       "      <td>C</td>\n",
       "      <td>170.3</td>\n",
       "      <td>75.5</td>\n",
       "      <td>35</td>\n",
       "      <td>NaN</td>\n",
       "      <td>500.0</td>\n",
       "      <td>500</td>\n",
       "    </tr>\n",
       "    <tr>\n",
       "      <th>7</th>\n",
       "      <td>Suvendu</td>\n",
       "      <td>Das</td>\n",
       "      <td>34_M</td>\n",
       "      <td>C</td>\n",
       "      <td>155.1</td>\n",
       "      <td>56.8</td>\n",
       "      <td>34</td>\n",
       "      <td>1000.0</td>\n",
       "      <td>100.0</td>\n",
       "      <td>xx</td>\n",
       "    </tr>\n",
       "    <tr>\n",
       "      <th>8</th>\n",
       "      <td>Swadesh</td>\n",
       "      <td>Kumar</td>\n",
       "      <td>36_M</td>\n",
       "      <td>C</td>\n",
       "      <td>154.2</td>\n",
       "      <td>60.6</td>\n",
       "      <td>36</td>\n",
       "      <td>100.0</td>\n",
       "      <td>200.0</td>\n",
       "      <td>300</td>\n",
       "    </tr>\n",
       "    <tr>\n",
       "      <th>9</th>\n",
       "      <td>Arun</td>\n",
       "      <td>Vishwakarma</td>\n",
       "      <td>38_F</td>\n",
       "      <td>A</td>\n",
       "      <td>162.1</td>\n",
       "      <td>58.7</td>\n",
       "      <td>38</td>\n",
       "      <td>600.0</td>\n",
       "      <td>200.0</td>\n",
       "      <td>200</td>\n",
       "    </tr>\n",
       "  </tbody>\n",
       "</table>\n",
       "</div>"
      ],
      "text/plain": [
       "      fname        lname age_sex section height(cm) weight(kg)  age  spend_A  \\\n",
       "0     Rahul       Pandey    37_M       B      175.4       85.6   37   1500.0   \n",
       "1    Rakesh        Kumar    38_M       B        NaN         xx   38      NaN   \n",
       "2    Nitesh       Mondol    35_F       B      165.1          ?   35    500.0   \n",
       "3    Arvind      Dwivedi    40_M       A          0       55.6   40    300.0   \n",
       "4    Nikhil   Shikharwar    39_M       B      160.8        160   39    200.0   \n",
       "5  Ashutosh    Merothiya    36_M       A         xx        -60   36    100.0   \n",
       "6   Shubhro          Das    35_F       C      170.3       75.5   35      NaN   \n",
       "7   Suvendu          Das    34_M       C      155.1       56.8   34   1000.0   \n",
       "8   Swadesh        Kumar    36_M       C      154.2       60.6   36    100.0   \n",
       "9      Arun  Vishwakarma    38_F       A      162.1       58.7   38    600.0   \n",
       "\n",
       "   spend_B spend_C  \n",
       "0    200.0     300  \n",
       "1   1000.0     NaN  \n",
       "2   -100.0     200  \n",
       "3    300.0     NaN  \n",
       "4      NaN     300  \n",
       "5    400.0     NaN  \n",
       "6    500.0     500  \n",
       "7    100.0      xx  \n",
       "8    200.0     300  \n",
       "9    200.0     200  "
      ]
     },
     "execution_count": 3,
     "metadata": {},
     "output_type": "execute_result"
    }
   ],
   "source": [
    "df.head(10)"
   ]
  },
  {
   "cell_type": "code",
   "execution_count": 4,
   "metadata": {},
   "outputs": [
    {
     "name": "stdout",
     "output_type": "stream",
     "text": [
      "<class 'pandas.core.frame.DataFrame'>\n",
      "RangeIndex: 10 entries, 0 to 9\n",
      "Data columns (total 10 columns):\n",
      " #   Column      Non-Null Count  Dtype  \n",
      "---  ------      --------------  -----  \n",
      " 0   fname       10 non-null     object \n",
      " 1   lname       10 non-null     object \n",
      " 2   age_sex     10 non-null     object \n",
      " 3   section     10 non-null     object \n",
      " 4   height(cm)  9 non-null      object \n",
      " 5   weight(kg)  10 non-null     object \n",
      " 6   age         10 non-null     int64  \n",
      " 7   spend_A     8 non-null      float64\n",
      " 8   spend_B     9 non-null      float64\n",
      " 9   spend_C     7 non-null      object \n",
      "dtypes: float64(2), int64(1), object(7)\n",
      "memory usage: 928.0+ bytes\n"
     ]
    }
   ],
   "source": [
    "df.info()"
   ]
  },
  {
   "cell_type": "code",
   "execution_count": 5,
   "metadata": {},
   "outputs": [
    {
     "data": {
      "text/html": [
       "<div>\n",
       "<style scoped>\n",
       "    .dataframe tbody tr th:only-of-type {\n",
       "        vertical-align: middle;\n",
       "    }\n",
       "\n",
       "    .dataframe tbody tr th {\n",
       "        vertical-align: top;\n",
       "    }\n",
       "\n",
       "    .dataframe thead th {\n",
       "        text-align: right;\n",
       "    }\n",
       "</style>\n",
       "<table border=\"1\" class=\"dataframe\">\n",
       "  <thead>\n",
       "    <tr style=\"text-align: right;\">\n",
       "      <th></th>\n",
       "      <th>age</th>\n",
       "      <th>spend_A</th>\n",
       "      <th>spend_B</th>\n",
       "    </tr>\n",
       "  </thead>\n",
       "  <tbody>\n",
       "    <tr>\n",
       "      <th>count</th>\n",
       "      <td>10.000000</td>\n",
       "      <td>8.000000</td>\n",
       "      <td>9.000000</td>\n",
       "    </tr>\n",
       "    <tr>\n",
       "      <th>mean</th>\n",
       "      <td>36.800000</td>\n",
       "      <td>537.500000</td>\n",
       "      <td>311.111111</td>\n",
       "    </tr>\n",
       "    <tr>\n",
       "      <th>std</th>\n",
       "      <td>1.932184</td>\n",
       "      <td>492.624169</td>\n",
       "      <td>310.017921</td>\n",
       "    </tr>\n",
       "    <tr>\n",
       "      <th>min</th>\n",
       "      <td>34.000000</td>\n",
       "      <td>100.000000</td>\n",
       "      <td>-100.000000</td>\n",
       "    </tr>\n",
       "    <tr>\n",
       "      <th>25%</th>\n",
       "      <td>35.250000</td>\n",
       "      <td>175.000000</td>\n",
       "      <td>200.000000</td>\n",
       "    </tr>\n",
       "    <tr>\n",
       "      <th>50%</th>\n",
       "      <td>36.500000</td>\n",
       "      <td>400.000000</td>\n",
       "      <td>200.000000</td>\n",
       "    </tr>\n",
       "    <tr>\n",
       "      <th>75%</th>\n",
       "      <td>38.000000</td>\n",
       "      <td>700.000000</td>\n",
       "      <td>400.000000</td>\n",
       "    </tr>\n",
       "    <tr>\n",
       "      <th>max</th>\n",
       "      <td>40.000000</td>\n",
       "      <td>1500.000000</td>\n",
       "      <td>1000.000000</td>\n",
       "    </tr>\n",
       "  </tbody>\n",
       "</table>\n",
       "</div>"
      ],
      "text/plain": [
       "             age      spend_A      spend_B\n",
       "count  10.000000     8.000000     9.000000\n",
       "mean   36.800000   537.500000   311.111111\n",
       "std     1.932184   492.624169   310.017921\n",
       "min    34.000000   100.000000  -100.000000\n",
       "25%    35.250000   175.000000   200.000000\n",
       "50%    36.500000   400.000000   200.000000\n",
       "75%    38.000000   700.000000   400.000000\n",
       "max    40.000000  1500.000000  1000.000000"
      ]
     },
     "execution_count": 5,
     "metadata": {},
     "output_type": "execute_result"
    }
   ],
   "source": [
    "df.describe()"
   ]
  },
  {
   "cell_type": "code",
   "execution_count": 6,
   "metadata": {},
   "outputs": [
    {
     "data": {
      "text/plain": [
       "array(['85.6', 'xx', '?', '55.6', '160', '-60', '75.5', '56.8', '60.6',\n",
       "       '58.7'], dtype=object)"
      ]
     },
     "execution_count": 6,
     "metadata": {},
     "output_type": "execute_result"
    }
   ],
   "source": [
    "df['weight(kg)'].unique()"
   ]
  },
  {
   "cell_type": "code",
   "execution_count": 7,
   "metadata": {},
   "outputs": [
    {
     "data": {
      "text/plain": [
       "55.6    1\n",
       "-60     1\n",
       "?       1\n",
       "85.6    1\n",
       "xx      1\n",
       "75.5    1\n",
       "58.7    1\n",
       "160     1\n",
       "56.8    1\n",
       "60.6    1\n",
       "Name: weight(kg), dtype: int64"
      ]
     },
     "execution_count": 7,
     "metadata": {},
     "output_type": "execute_result"
    }
   ],
   "source": [
    "df['weight(kg)'].value_counts()"
   ]
  },
  {
   "cell_type": "markdown",
   "metadata": {},
   "source": [
    "**Some feature engineering**"
   ]
  },
  {
   "cell_type": "code",
   "execution_count": 8,
   "metadata": {},
   "outputs": [
    {
     "data": {
      "text/html": [
       "<div>\n",
       "<style scoped>\n",
       "    .dataframe tbody tr th:only-of-type {\n",
       "        vertical-align: middle;\n",
       "    }\n",
       "\n",
       "    .dataframe tbody tr th {\n",
       "        vertical-align: top;\n",
       "    }\n",
       "\n",
       "    .dataframe thead th {\n",
       "        text-align: right;\n",
       "    }\n",
       "</style>\n",
       "<table border=\"1\" class=\"dataframe\">\n",
       "  <thead>\n",
       "    <tr style=\"text-align: right;\">\n",
       "      <th></th>\n",
       "      <th>fname</th>\n",
       "      <th>lname</th>\n",
       "      <th>age_sex</th>\n",
       "      <th>section</th>\n",
       "      <th>height(cm)</th>\n",
       "      <th>weight(kg)</th>\n",
       "      <th>age</th>\n",
       "      <th>spend_A</th>\n",
       "      <th>spend_B</th>\n",
       "      <th>spend_C</th>\n",
       "      <th>sex</th>\n",
       "    </tr>\n",
       "  </thead>\n",
       "  <tbody>\n",
       "    <tr>\n",
       "      <th>0</th>\n",
       "      <td>Rahul</td>\n",
       "      <td>Pandey</td>\n",
       "      <td>37_M</td>\n",
       "      <td>B</td>\n",
       "      <td>175.4</td>\n",
       "      <td>85.6</td>\n",
       "      <td>37</td>\n",
       "      <td>1500.0</td>\n",
       "      <td>200.0</td>\n",
       "      <td>300</td>\n",
       "      <td>M</td>\n",
       "    </tr>\n",
       "    <tr>\n",
       "      <th>1</th>\n",
       "      <td>Rakesh</td>\n",
       "      <td>Kumar</td>\n",
       "      <td>38_M</td>\n",
       "      <td>B</td>\n",
       "      <td>NaN</td>\n",
       "      <td>xx</td>\n",
       "      <td>38</td>\n",
       "      <td>NaN</td>\n",
       "      <td>1000.0</td>\n",
       "      <td>NaN</td>\n",
       "      <td>M</td>\n",
       "    </tr>\n",
       "    <tr>\n",
       "      <th>2</th>\n",
       "      <td>Nitesh</td>\n",
       "      <td>Mondol</td>\n",
       "      <td>35_F</td>\n",
       "      <td>B</td>\n",
       "      <td>165.1</td>\n",
       "      <td>?</td>\n",
       "      <td>35</td>\n",
       "      <td>500.0</td>\n",
       "      <td>-100.0</td>\n",
       "      <td>200</td>\n",
       "      <td>F</td>\n",
       "    </tr>\n",
       "    <tr>\n",
       "      <th>3</th>\n",
       "      <td>Arvind</td>\n",
       "      <td>Dwivedi</td>\n",
       "      <td>40_M</td>\n",
       "      <td>A</td>\n",
       "      <td>0</td>\n",
       "      <td>55.6</td>\n",
       "      <td>40</td>\n",
       "      <td>300.0</td>\n",
       "      <td>300.0</td>\n",
       "      <td>NaN</td>\n",
       "      <td>M</td>\n",
       "    </tr>\n",
       "    <tr>\n",
       "      <th>4</th>\n",
       "      <td>Nikhil</td>\n",
       "      <td>Shikharwar</td>\n",
       "      <td>39_M</td>\n",
       "      <td>B</td>\n",
       "      <td>160.8</td>\n",
       "      <td>160</td>\n",
       "      <td>39</td>\n",
       "      <td>200.0</td>\n",
       "      <td>NaN</td>\n",
       "      <td>300</td>\n",
       "      <td>M</td>\n",
       "    </tr>\n",
       "    <tr>\n",
       "      <th>5</th>\n",
       "      <td>Ashutosh</td>\n",
       "      <td>Merothiya</td>\n",
       "      <td>36_M</td>\n",
       "      <td>A</td>\n",
       "      <td>xx</td>\n",
       "      <td>-60</td>\n",
       "      <td>36</td>\n",
       "      <td>100.0</td>\n",
       "      <td>400.0</td>\n",
       "      <td>NaN</td>\n",
       "      <td>M</td>\n",
       "    </tr>\n",
       "    <tr>\n",
       "      <th>6</th>\n",
       "      <td>Shubhro</td>\n",
       "      <td>Das</td>\n",
       "      <td>35_F</td>\n",
       "      <td>C</td>\n",
       "      <td>170.3</td>\n",
       "      <td>75.5</td>\n",
       "      <td>35</td>\n",
       "      <td>NaN</td>\n",
       "      <td>500.0</td>\n",
       "      <td>500</td>\n",
       "      <td>F</td>\n",
       "    </tr>\n",
       "    <tr>\n",
       "      <th>7</th>\n",
       "      <td>Suvendu</td>\n",
       "      <td>Das</td>\n",
       "      <td>34_M</td>\n",
       "      <td>C</td>\n",
       "      <td>155.1</td>\n",
       "      <td>56.8</td>\n",
       "      <td>34</td>\n",
       "      <td>1000.0</td>\n",
       "      <td>100.0</td>\n",
       "      <td>xx</td>\n",
       "      <td>M</td>\n",
       "    </tr>\n",
       "    <tr>\n",
       "      <th>8</th>\n",
       "      <td>Swadesh</td>\n",
       "      <td>Kumar</td>\n",
       "      <td>36_M</td>\n",
       "      <td>C</td>\n",
       "      <td>154.2</td>\n",
       "      <td>60.6</td>\n",
       "      <td>36</td>\n",
       "      <td>100.0</td>\n",
       "      <td>200.0</td>\n",
       "      <td>300</td>\n",
       "      <td>M</td>\n",
       "    </tr>\n",
       "    <tr>\n",
       "      <th>9</th>\n",
       "      <td>Arun</td>\n",
       "      <td>Vishwakarma</td>\n",
       "      <td>38_F</td>\n",
       "      <td>A</td>\n",
       "      <td>162.1</td>\n",
       "      <td>58.7</td>\n",
       "      <td>38</td>\n",
       "      <td>600.0</td>\n",
       "      <td>200.0</td>\n",
       "      <td>200</td>\n",
       "      <td>F</td>\n",
       "    </tr>\n",
       "  </tbody>\n",
       "</table>\n",
       "</div>"
      ],
      "text/plain": [
       "      fname        lname age_sex section height(cm) weight(kg)  age  spend_A  \\\n",
       "0     Rahul       Pandey    37_M       B      175.4       85.6   37   1500.0   \n",
       "1    Rakesh        Kumar    38_M       B        NaN         xx   38      NaN   \n",
       "2    Nitesh       Mondol    35_F       B      165.1          ?   35    500.0   \n",
       "3    Arvind      Dwivedi    40_M       A          0       55.6   40    300.0   \n",
       "4    Nikhil   Shikharwar    39_M       B      160.8        160   39    200.0   \n",
       "5  Ashutosh    Merothiya    36_M       A         xx        -60   36    100.0   \n",
       "6   Shubhro          Das    35_F       C      170.3       75.5   35      NaN   \n",
       "7   Suvendu          Das    34_M       C      155.1       56.8   34   1000.0   \n",
       "8   Swadesh        Kumar    36_M       C      154.2       60.6   36    100.0   \n",
       "9      Arun  Vishwakarma    38_F       A      162.1       58.7   38    600.0   \n",
       "\n",
       "   spend_B spend_C sex  \n",
       "0    200.0     300   M  \n",
       "1   1000.0     NaN   M  \n",
       "2   -100.0     200   F  \n",
       "3    300.0     NaN   M  \n",
       "4      NaN     300   M  \n",
       "5    400.0     NaN   M  \n",
       "6    500.0     500   F  \n",
       "7    100.0      xx   M  \n",
       "8    200.0     300   M  \n",
       "9    200.0     200   F  "
      ]
     },
     "execution_count": 8,
     "metadata": {},
     "output_type": "execute_result"
    }
   ],
   "source": [
    "df['sex'] = df['age_sex'].apply(lambda x: x.split('_')[1])\n",
    "df.head(10)"
   ]
  },
  {
   "cell_type": "code",
   "execution_count": 9,
   "metadata": {},
   "outputs": [
    {
     "data": {
      "text/html": [
       "<div>\n",
       "<style scoped>\n",
       "    .dataframe tbody tr th:only-of-type {\n",
       "        vertical-align: middle;\n",
       "    }\n",
       "\n",
       "    .dataframe tbody tr th {\n",
       "        vertical-align: top;\n",
       "    }\n",
       "\n",
       "    .dataframe thead th {\n",
       "        text-align: right;\n",
       "    }\n",
       "</style>\n",
       "<table border=\"1\" class=\"dataframe\">\n",
       "  <thead>\n",
       "    <tr style=\"text-align: right;\">\n",
       "      <th></th>\n",
       "      <th>fname</th>\n",
       "      <th>lname</th>\n",
       "      <th>section</th>\n",
       "      <th>height(cm)</th>\n",
       "      <th>weight(kg)</th>\n",
       "      <th>age</th>\n",
       "      <th>spend_A</th>\n",
       "      <th>spend_B</th>\n",
       "      <th>spend_C</th>\n",
       "      <th>sex</th>\n",
       "    </tr>\n",
       "  </thead>\n",
       "  <tbody>\n",
       "    <tr>\n",
       "      <th>0</th>\n",
       "      <td>Rahul</td>\n",
       "      <td>Pandey</td>\n",
       "      <td>B</td>\n",
       "      <td>175.4</td>\n",
       "      <td>85.6</td>\n",
       "      <td>37</td>\n",
       "      <td>1500.0</td>\n",
       "      <td>200.0</td>\n",
       "      <td>300</td>\n",
       "      <td>M</td>\n",
       "    </tr>\n",
       "    <tr>\n",
       "      <th>1</th>\n",
       "      <td>Rakesh</td>\n",
       "      <td>Kumar</td>\n",
       "      <td>B</td>\n",
       "      <td>NaN</td>\n",
       "      <td>xx</td>\n",
       "      <td>38</td>\n",
       "      <td>NaN</td>\n",
       "      <td>1000.0</td>\n",
       "      <td>NaN</td>\n",
       "      <td>M</td>\n",
       "    </tr>\n",
       "    <tr>\n",
       "      <th>2</th>\n",
       "      <td>Nitesh</td>\n",
       "      <td>Mondol</td>\n",
       "      <td>B</td>\n",
       "      <td>165.1</td>\n",
       "      <td>?</td>\n",
       "      <td>35</td>\n",
       "      <td>500.0</td>\n",
       "      <td>-100.0</td>\n",
       "      <td>200</td>\n",
       "      <td>F</td>\n",
       "    </tr>\n",
       "    <tr>\n",
       "      <th>3</th>\n",
       "      <td>Arvind</td>\n",
       "      <td>Dwivedi</td>\n",
       "      <td>A</td>\n",
       "      <td>0</td>\n",
       "      <td>55.6</td>\n",
       "      <td>40</td>\n",
       "      <td>300.0</td>\n",
       "      <td>300.0</td>\n",
       "      <td>NaN</td>\n",
       "      <td>M</td>\n",
       "    </tr>\n",
       "    <tr>\n",
       "      <th>4</th>\n",
       "      <td>Nikhil</td>\n",
       "      <td>Shikharwar</td>\n",
       "      <td>B</td>\n",
       "      <td>160.8</td>\n",
       "      <td>160</td>\n",
       "      <td>39</td>\n",
       "      <td>200.0</td>\n",
       "      <td>NaN</td>\n",
       "      <td>300</td>\n",
       "      <td>M</td>\n",
       "    </tr>\n",
       "    <tr>\n",
       "      <th>5</th>\n",
       "      <td>Ashutosh</td>\n",
       "      <td>Merothiya</td>\n",
       "      <td>A</td>\n",
       "      <td>xx</td>\n",
       "      <td>-60</td>\n",
       "      <td>36</td>\n",
       "      <td>100.0</td>\n",
       "      <td>400.0</td>\n",
       "      <td>NaN</td>\n",
       "      <td>M</td>\n",
       "    </tr>\n",
       "    <tr>\n",
       "      <th>6</th>\n",
       "      <td>Shubhro</td>\n",
       "      <td>Das</td>\n",
       "      <td>C</td>\n",
       "      <td>170.3</td>\n",
       "      <td>75.5</td>\n",
       "      <td>35</td>\n",
       "      <td>NaN</td>\n",
       "      <td>500.0</td>\n",
       "      <td>500</td>\n",
       "      <td>F</td>\n",
       "    </tr>\n",
       "    <tr>\n",
       "      <th>7</th>\n",
       "      <td>Suvendu</td>\n",
       "      <td>Das</td>\n",
       "      <td>C</td>\n",
       "      <td>155.1</td>\n",
       "      <td>56.8</td>\n",
       "      <td>34</td>\n",
       "      <td>1000.0</td>\n",
       "      <td>100.0</td>\n",
       "      <td>xx</td>\n",
       "      <td>M</td>\n",
       "    </tr>\n",
       "    <tr>\n",
       "      <th>8</th>\n",
       "      <td>Swadesh</td>\n",
       "      <td>Kumar</td>\n",
       "      <td>C</td>\n",
       "      <td>154.2</td>\n",
       "      <td>60.6</td>\n",
       "      <td>36</td>\n",
       "      <td>100.0</td>\n",
       "      <td>200.0</td>\n",
       "      <td>300</td>\n",
       "      <td>M</td>\n",
       "    </tr>\n",
       "    <tr>\n",
       "      <th>9</th>\n",
       "      <td>Arun</td>\n",
       "      <td>Vishwakarma</td>\n",
       "      <td>A</td>\n",
       "      <td>162.1</td>\n",
       "      <td>58.7</td>\n",
       "      <td>38</td>\n",
       "      <td>600.0</td>\n",
       "      <td>200.0</td>\n",
       "      <td>200</td>\n",
       "      <td>F</td>\n",
       "    </tr>\n",
       "  </tbody>\n",
       "</table>\n",
       "</div>"
      ],
      "text/plain": [
       "      fname        lname section height(cm) weight(kg)  age  spend_A  spend_B  \\\n",
       "0     Rahul       Pandey       B      175.4       85.6   37   1500.0    200.0   \n",
       "1    Rakesh        Kumar       B        NaN         xx   38      NaN   1000.0   \n",
       "2    Nitesh       Mondol       B      165.1          ?   35    500.0   -100.0   \n",
       "3    Arvind      Dwivedi       A          0       55.6   40    300.0    300.0   \n",
       "4    Nikhil   Shikharwar       B      160.8        160   39    200.0      NaN   \n",
       "5  Ashutosh    Merothiya       A         xx        -60   36    100.0    400.0   \n",
       "6   Shubhro          Das       C      170.3       75.5   35      NaN    500.0   \n",
       "7   Suvendu          Das       C      155.1       56.8   34   1000.0    100.0   \n",
       "8   Swadesh        Kumar       C      154.2       60.6   36    100.0    200.0   \n",
       "9      Arun  Vishwakarma       A      162.1       58.7   38    600.0    200.0   \n",
       "\n",
       "  spend_C sex  \n",
       "0     300   M  \n",
       "1     NaN   M  \n",
       "2     200   F  \n",
       "3     NaN   M  \n",
       "4     300   M  \n",
       "5     NaN   M  \n",
       "6     500   F  \n",
       "7      xx   M  \n",
       "8     300   M  \n",
       "9     200   F  "
      ]
     },
     "execution_count": 9,
     "metadata": {},
     "output_type": "execute_result"
    }
   ],
   "source": [
    "df.drop('age_sex', axis=1, inplace=True)\n",
    "df.head(10)"
   ]
  },
  {
   "cell_type": "code",
   "execution_count": 10,
   "metadata": {},
   "outputs": [
    {
     "data": {
      "text/html": [
       "<div>\n",
       "<style scoped>\n",
       "    .dataframe tbody tr th:only-of-type {\n",
       "        vertical-align: middle;\n",
       "    }\n",
       "\n",
       "    .dataframe tbody tr th {\n",
       "        vertical-align: top;\n",
       "    }\n",
       "\n",
       "    .dataframe thead th {\n",
       "        text-align: right;\n",
       "    }\n",
       "</style>\n",
       "<table border=\"1\" class=\"dataframe\">\n",
       "  <thead>\n",
       "    <tr style=\"text-align: right;\">\n",
       "      <th></th>\n",
       "      <th>fname</th>\n",
       "      <th>lname</th>\n",
       "      <th>section</th>\n",
       "      <th>height(cm)</th>\n",
       "      <th>weight(kg)</th>\n",
       "      <th>age</th>\n",
       "      <th>sex</th>\n",
       "      <th>spend_A</th>\n",
       "      <th>spend_B</th>\n",
       "      <th>spend_C</th>\n",
       "    </tr>\n",
       "  </thead>\n",
       "  <tbody>\n",
       "    <tr>\n",
       "      <th>0</th>\n",
       "      <td>Rahul</td>\n",
       "      <td>Pandey</td>\n",
       "      <td>B</td>\n",
       "      <td>175.4</td>\n",
       "      <td>85.6</td>\n",
       "      <td>37</td>\n",
       "      <td>M</td>\n",
       "      <td>1500.0</td>\n",
       "      <td>200.0</td>\n",
       "      <td>300</td>\n",
       "    </tr>\n",
       "    <tr>\n",
       "      <th>1</th>\n",
       "      <td>Rakesh</td>\n",
       "      <td>Kumar</td>\n",
       "      <td>B</td>\n",
       "      <td>NaN</td>\n",
       "      <td>xx</td>\n",
       "      <td>38</td>\n",
       "      <td>M</td>\n",
       "      <td>NaN</td>\n",
       "      <td>1000.0</td>\n",
       "      <td>NaN</td>\n",
       "    </tr>\n",
       "    <tr>\n",
       "      <th>2</th>\n",
       "      <td>Nitesh</td>\n",
       "      <td>Mondol</td>\n",
       "      <td>B</td>\n",
       "      <td>165.1</td>\n",
       "      <td>?</td>\n",
       "      <td>35</td>\n",
       "      <td>F</td>\n",
       "      <td>500.0</td>\n",
       "      <td>-100.0</td>\n",
       "      <td>200</td>\n",
       "    </tr>\n",
       "    <tr>\n",
       "      <th>3</th>\n",
       "      <td>Arvind</td>\n",
       "      <td>Dwivedi</td>\n",
       "      <td>A</td>\n",
       "      <td>0</td>\n",
       "      <td>55.6</td>\n",
       "      <td>40</td>\n",
       "      <td>M</td>\n",
       "      <td>300.0</td>\n",
       "      <td>300.0</td>\n",
       "      <td>NaN</td>\n",
       "    </tr>\n",
       "    <tr>\n",
       "      <th>4</th>\n",
       "      <td>Nikhil</td>\n",
       "      <td>Shikharwar</td>\n",
       "      <td>B</td>\n",
       "      <td>160.8</td>\n",
       "      <td>160</td>\n",
       "      <td>39</td>\n",
       "      <td>M</td>\n",
       "      <td>200.0</td>\n",
       "      <td>NaN</td>\n",
       "      <td>300</td>\n",
       "    </tr>\n",
       "    <tr>\n",
       "      <th>5</th>\n",
       "      <td>Ashutosh</td>\n",
       "      <td>Merothiya</td>\n",
       "      <td>A</td>\n",
       "      <td>xx</td>\n",
       "      <td>-60</td>\n",
       "      <td>36</td>\n",
       "      <td>M</td>\n",
       "      <td>100.0</td>\n",
       "      <td>400.0</td>\n",
       "      <td>NaN</td>\n",
       "    </tr>\n",
       "    <tr>\n",
       "      <th>6</th>\n",
       "      <td>Shubhro</td>\n",
       "      <td>Das</td>\n",
       "      <td>C</td>\n",
       "      <td>170.3</td>\n",
       "      <td>75.5</td>\n",
       "      <td>35</td>\n",
       "      <td>F</td>\n",
       "      <td>NaN</td>\n",
       "      <td>500.0</td>\n",
       "      <td>500</td>\n",
       "    </tr>\n",
       "    <tr>\n",
       "      <th>7</th>\n",
       "      <td>Suvendu</td>\n",
       "      <td>Das</td>\n",
       "      <td>C</td>\n",
       "      <td>155.1</td>\n",
       "      <td>56.8</td>\n",
       "      <td>34</td>\n",
       "      <td>M</td>\n",
       "      <td>1000.0</td>\n",
       "      <td>100.0</td>\n",
       "      <td>xx</td>\n",
       "    </tr>\n",
       "    <tr>\n",
       "      <th>8</th>\n",
       "      <td>Swadesh</td>\n",
       "      <td>Kumar</td>\n",
       "      <td>C</td>\n",
       "      <td>154.2</td>\n",
       "      <td>60.6</td>\n",
       "      <td>36</td>\n",
       "      <td>M</td>\n",
       "      <td>100.0</td>\n",
       "      <td>200.0</td>\n",
       "      <td>300</td>\n",
       "    </tr>\n",
       "    <tr>\n",
       "      <th>9</th>\n",
       "      <td>Arun</td>\n",
       "      <td>Vishwakarma</td>\n",
       "      <td>A</td>\n",
       "      <td>162.1</td>\n",
       "      <td>58.7</td>\n",
       "      <td>38</td>\n",
       "      <td>F</td>\n",
       "      <td>600.0</td>\n",
       "      <td>200.0</td>\n",
       "      <td>200</td>\n",
       "    </tr>\n",
       "  </tbody>\n",
       "</table>\n",
       "</div>"
      ],
      "text/plain": [
       "      fname        lname section height(cm) weight(kg)  age sex  spend_A  \\\n",
       "0     Rahul       Pandey       B      175.4       85.6   37   M   1500.0   \n",
       "1    Rakesh        Kumar       B        NaN         xx   38   M      NaN   \n",
       "2    Nitesh       Mondol       B      165.1          ?   35   F    500.0   \n",
       "3    Arvind      Dwivedi       A          0       55.6   40   M    300.0   \n",
       "4    Nikhil   Shikharwar       B      160.8        160   39   M    200.0   \n",
       "5  Ashutosh    Merothiya       A         xx        -60   36   M    100.0   \n",
       "6   Shubhro          Das       C      170.3       75.5   35   F      NaN   \n",
       "7   Suvendu          Das       C      155.1       56.8   34   M   1000.0   \n",
       "8   Swadesh        Kumar       C      154.2       60.6   36   M    100.0   \n",
       "9      Arun  Vishwakarma       A      162.1       58.7   38   F    600.0   \n",
       "\n",
       "   spend_B spend_C  \n",
       "0    200.0     300  \n",
       "1   1000.0     NaN  \n",
       "2   -100.0     200  \n",
       "3    300.0     NaN  \n",
       "4      NaN     300  \n",
       "5    400.0     NaN  \n",
       "6    500.0     500  \n",
       "7    100.0      xx  \n",
       "8    200.0     300  \n",
       "9    200.0     200  "
      ]
     },
     "execution_count": 10,
     "metadata": {},
     "output_type": "execute_result"
    }
   ],
   "source": [
    "df = df[['fname', 'lname', 'section', 'height(cm)', 'weight(kg)', 'age', 'sex', 'spend_A', 'spend_B', 'spend_C']]\n",
    "df.head(10)"
   ]
  },
  {
   "cell_type": "code",
   "execution_count": 11,
   "metadata": {},
   "outputs": [
    {
     "name": "stdout",
     "output_type": "stream",
     "text": [
      "<class 'pandas.core.frame.DataFrame'>\n",
      "RangeIndex: 10 entries, 0 to 9\n",
      "Data columns (total 10 columns):\n",
      " #   Column      Non-Null Count  Dtype  \n",
      "---  ------      --------------  -----  \n",
      " 0   fname       10 non-null     object \n",
      " 1   lname       10 non-null     object \n",
      " 2   section     10 non-null     object \n",
      " 3   height(cm)  9 non-null      object \n",
      " 4   weight(kg)  10 non-null     object \n",
      " 5   age         10 non-null     int64  \n",
      " 6   sex         10 non-null     object \n",
      " 7   spend_A     8 non-null      float64\n",
      " 8   spend_B     9 non-null      float64\n",
      " 9   spend_C     7 non-null      object \n",
      "dtypes: float64(2), int64(1), object(7)\n",
      "memory usage: 928.0+ bytes\n"
     ]
    }
   ],
   "source": [
    "df.info()"
   ]
  },
  {
   "cell_type": "code",
   "execution_count": 12,
   "metadata": {},
   "outputs": [
    {
     "data": {
      "text/html": [
       "<div>\n",
       "<style scoped>\n",
       "    .dataframe tbody tr th:only-of-type {\n",
       "        vertical-align: middle;\n",
       "    }\n",
       "\n",
       "    .dataframe tbody tr th {\n",
       "        vertical-align: top;\n",
       "    }\n",
       "\n",
       "    .dataframe thead th {\n",
       "        text-align: right;\n",
       "    }\n",
       "</style>\n",
       "<table border=\"1\" class=\"dataframe\">\n",
       "  <thead>\n",
       "    <tr style=\"text-align: right;\">\n",
       "      <th></th>\n",
       "      <th>age</th>\n",
       "      <th>spend_A</th>\n",
       "      <th>spend_B</th>\n",
       "    </tr>\n",
       "  </thead>\n",
       "  <tbody>\n",
       "    <tr>\n",
       "      <th>count</th>\n",
       "      <td>10.000000</td>\n",
       "      <td>8.000000</td>\n",
       "      <td>9.000000</td>\n",
       "    </tr>\n",
       "    <tr>\n",
       "      <th>mean</th>\n",
       "      <td>36.800000</td>\n",
       "      <td>537.500000</td>\n",
       "      <td>311.111111</td>\n",
       "    </tr>\n",
       "    <tr>\n",
       "      <th>std</th>\n",
       "      <td>1.932184</td>\n",
       "      <td>492.624169</td>\n",
       "      <td>310.017921</td>\n",
       "    </tr>\n",
       "    <tr>\n",
       "      <th>min</th>\n",
       "      <td>34.000000</td>\n",
       "      <td>100.000000</td>\n",
       "      <td>-100.000000</td>\n",
       "    </tr>\n",
       "    <tr>\n",
       "      <th>25%</th>\n",
       "      <td>35.250000</td>\n",
       "      <td>175.000000</td>\n",
       "      <td>200.000000</td>\n",
       "    </tr>\n",
       "    <tr>\n",
       "      <th>50%</th>\n",
       "      <td>36.500000</td>\n",
       "      <td>400.000000</td>\n",
       "      <td>200.000000</td>\n",
       "    </tr>\n",
       "    <tr>\n",
       "      <th>75%</th>\n",
       "      <td>38.000000</td>\n",
       "      <td>700.000000</td>\n",
       "      <td>400.000000</td>\n",
       "    </tr>\n",
       "    <tr>\n",
       "      <th>max</th>\n",
       "      <td>40.000000</td>\n",
       "      <td>1500.000000</td>\n",
       "      <td>1000.000000</td>\n",
       "    </tr>\n",
       "  </tbody>\n",
       "</table>\n",
       "</div>"
      ],
      "text/plain": [
       "             age      spend_A      spend_B\n",
       "count  10.000000     8.000000     9.000000\n",
       "mean   36.800000   537.500000   311.111111\n",
       "std     1.932184   492.624169   310.017921\n",
       "min    34.000000   100.000000  -100.000000\n",
       "25%    35.250000   175.000000   200.000000\n",
       "50%    36.500000   400.000000   200.000000\n",
       "75%    38.000000   700.000000   400.000000\n",
       "max    40.000000  1500.000000  1000.000000"
      ]
     },
     "execution_count": 12,
     "metadata": {},
     "output_type": "execute_result"
    }
   ],
   "source": [
    "df.describe()"
   ]
  },
  {
   "cell_type": "markdown",
   "metadata": {},
   "source": [
    "**Problems**\n",
    "- Weight, height, spend_A, spend_B, spend_C are not shown in describe because they are not numeric"
   ]
  },
  {
   "cell_type": "code",
   "execution_count": 13,
   "metadata": {},
   "outputs": [
    {
     "name": "stdout",
     "output_type": "stream",
     "text": [
      "<class 'pandas.core.frame.DataFrame'>\n",
      "RangeIndex: 10 entries, 0 to 9\n",
      "Data columns (total 10 columns):\n",
      " #   Column      Non-Null Count  Dtype  \n",
      "---  ------      --------------  -----  \n",
      " 0   fname       10 non-null     object \n",
      " 1   lname       10 non-null     object \n",
      " 2   section     10 non-null     object \n",
      " 3   height(cm)  9 non-null      object \n",
      " 4   weight(kg)  10 non-null     object \n",
      " 5   age         10 non-null     int64  \n",
      " 6   sex         10 non-null     object \n",
      " 7   spend_A     8 non-null      float64\n",
      " 8   spend_B     9 non-null      float64\n",
      " 9   spend_C     7 non-null      object \n",
      "dtypes: float64(2), int64(1), object(7)\n",
      "memory usage: 928.0+ bytes\n"
     ]
    }
   ],
   "source": [
    "df.info()"
   ]
  },
  {
   "cell_type": "markdown",
   "metadata": {},
   "source": [
    "## 3) Start Cleaning"
   ]
  },
  {
   "cell_type": "code",
   "execution_count": 14,
   "metadata": {},
   "outputs": [
    {
     "name": "stdout",
     "output_type": "stream",
     "text": [
      "<class 'pandas.core.frame.DataFrame'>\n",
      "RangeIndex: 10 entries, 0 to 9\n",
      "Data columns (total 10 columns):\n",
      " #   Column      Non-Null Count  Dtype  \n",
      "---  ------      --------------  -----  \n",
      " 0   fname       10 non-null     object \n",
      " 1   lname       10 non-null     object \n",
      " 2   section     10 non-null     object \n",
      " 3   height(cm)  9 non-null      object \n",
      " 4   weight(kg)  10 non-null     object \n",
      " 5   age         10 non-null     int64  \n",
      " 6   sex         10 non-null     object \n",
      " 7   spend_A     8 non-null      float64\n",
      " 8   spend_B     9 non-null      float64\n",
      " 9   spend_C     7 non-null      object \n",
      "dtypes: float64(2), int64(1), object(7)\n",
      "memory usage: 928.0+ bytes\n"
     ]
    }
   ],
   "source": [
    "df.info()"
   ]
  },
  {
   "cell_type": "code",
   "execution_count": 15,
   "metadata": {},
   "outputs": [
    {
     "data": {
      "text/html": [
       "<div>\n",
       "<style scoped>\n",
       "    .dataframe tbody tr th:only-of-type {\n",
       "        vertical-align: middle;\n",
       "    }\n",
       "\n",
       "    .dataframe tbody tr th {\n",
       "        vertical-align: top;\n",
       "    }\n",
       "\n",
       "    .dataframe thead th {\n",
       "        text-align: right;\n",
       "    }\n",
       "</style>\n",
       "<table border=\"1\" class=\"dataframe\">\n",
       "  <thead>\n",
       "    <tr style=\"text-align: right;\">\n",
       "      <th></th>\n",
       "      <th>fname</th>\n",
       "      <th>lname</th>\n",
       "      <th>section</th>\n",
       "      <th>height(cm)</th>\n",
       "      <th>weight(kg)</th>\n",
       "      <th>age</th>\n",
       "      <th>sex</th>\n",
       "      <th>spend_A</th>\n",
       "      <th>spend_B</th>\n",
       "      <th>spend_C</th>\n",
       "    </tr>\n",
       "  </thead>\n",
       "  <tbody>\n",
       "    <tr>\n",
       "      <th>0</th>\n",
       "      <td>Rahul</td>\n",
       "      <td>Pandey</td>\n",
       "      <td>B</td>\n",
       "      <td>175.4</td>\n",
       "      <td>85.6</td>\n",
       "      <td>37</td>\n",
       "      <td>M</td>\n",
       "      <td>1500.0</td>\n",
       "      <td>200.0</td>\n",
       "      <td>300</td>\n",
       "    </tr>\n",
       "    <tr>\n",
       "      <th>1</th>\n",
       "      <td>Rakesh</td>\n",
       "      <td>Kumar</td>\n",
       "      <td>B</td>\n",
       "      <td>NaN</td>\n",
       "      <td>xx</td>\n",
       "      <td>38</td>\n",
       "      <td>M</td>\n",
       "      <td>NaN</td>\n",
       "      <td>1000.0</td>\n",
       "      <td>NaN</td>\n",
       "    </tr>\n",
       "    <tr>\n",
       "      <th>2</th>\n",
       "      <td>Nitesh</td>\n",
       "      <td>Mondol</td>\n",
       "      <td>B</td>\n",
       "      <td>165.1</td>\n",
       "      <td>?</td>\n",
       "      <td>35</td>\n",
       "      <td>F</td>\n",
       "      <td>500.0</td>\n",
       "      <td>-100.0</td>\n",
       "      <td>200</td>\n",
       "    </tr>\n",
       "    <tr>\n",
       "      <th>3</th>\n",
       "      <td>Arvind</td>\n",
       "      <td>Dwivedi</td>\n",
       "      <td>A</td>\n",
       "      <td>0</td>\n",
       "      <td>55.6</td>\n",
       "      <td>40</td>\n",
       "      <td>M</td>\n",
       "      <td>300.0</td>\n",
       "      <td>300.0</td>\n",
       "      <td>NaN</td>\n",
       "    </tr>\n",
       "    <tr>\n",
       "      <th>4</th>\n",
       "      <td>Nikhil</td>\n",
       "      <td>Shikharwar</td>\n",
       "      <td>B</td>\n",
       "      <td>160.8</td>\n",
       "      <td>160</td>\n",
       "      <td>39</td>\n",
       "      <td>M</td>\n",
       "      <td>200.0</td>\n",
       "      <td>NaN</td>\n",
       "      <td>300</td>\n",
       "    </tr>\n",
       "    <tr>\n",
       "      <th>5</th>\n",
       "      <td>Ashutosh</td>\n",
       "      <td>Merothiya</td>\n",
       "      <td>A</td>\n",
       "      <td>xx</td>\n",
       "      <td>-60</td>\n",
       "      <td>36</td>\n",
       "      <td>M</td>\n",
       "      <td>100.0</td>\n",
       "      <td>400.0</td>\n",
       "      <td>NaN</td>\n",
       "    </tr>\n",
       "    <tr>\n",
       "      <th>6</th>\n",
       "      <td>Shubhro</td>\n",
       "      <td>Das</td>\n",
       "      <td>C</td>\n",
       "      <td>170.3</td>\n",
       "      <td>75.5</td>\n",
       "      <td>35</td>\n",
       "      <td>F</td>\n",
       "      <td>NaN</td>\n",
       "      <td>500.0</td>\n",
       "      <td>500</td>\n",
       "    </tr>\n",
       "    <tr>\n",
       "      <th>7</th>\n",
       "      <td>Suvendu</td>\n",
       "      <td>Das</td>\n",
       "      <td>C</td>\n",
       "      <td>155.1</td>\n",
       "      <td>56.8</td>\n",
       "      <td>34</td>\n",
       "      <td>M</td>\n",
       "      <td>1000.0</td>\n",
       "      <td>100.0</td>\n",
       "      <td>xx</td>\n",
       "    </tr>\n",
       "    <tr>\n",
       "      <th>8</th>\n",
       "      <td>Swadesh</td>\n",
       "      <td>Kumar</td>\n",
       "      <td>C</td>\n",
       "      <td>154.2</td>\n",
       "      <td>60.6</td>\n",
       "      <td>36</td>\n",
       "      <td>M</td>\n",
       "      <td>100.0</td>\n",
       "      <td>200.0</td>\n",
       "      <td>300</td>\n",
       "    </tr>\n",
       "    <tr>\n",
       "      <th>9</th>\n",
       "      <td>Arun</td>\n",
       "      <td>Vishwakarma</td>\n",
       "      <td>A</td>\n",
       "      <td>162.1</td>\n",
       "      <td>58.7</td>\n",
       "      <td>38</td>\n",
       "      <td>F</td>\n",
       "      <td>600.0</td>\n",
       "      <td>200.0</td>\n",
       "      <td>200</td>\n",
       "    </tr>\n",
       "  </tbody>\n",
       "</table>\n",
       "</div>"
      ],
      "text/plain": [
       "      fname        lname section height(cm) weight(kg)  age sex  spend_A  \\\n",
       "0     Rahul       Pandey       B      175.4       85.6   37   M   1500.0   \n",
       "1    Rakesh        Kumar       B        NaN         xx   38   M      NaN   \n",
       "2    Nitesh       Mondol       B      165.1          ?   35   F    500.0   \n",
       "3    Arvind      Dwivedi       A          0       55.6   40   M    300.0   \n",
       "4    Nikhil   Shikharwar       B      160.8        160   39   M    200.0   \n",
       "5  Ashutosh    Merothiya       A         xx        -60   36   M    100.0   \n",
       "6   Shubhro          Das       C      170.3       75.5   35   F      NaN   \n",
       "7   Suvendu          Das       C      155.1       56.8   34   M   1000.0   \n",
       "8   Swadesh        Kumar       C      154.2       60.6   36   M    100.0   \n",
       "9      Arun  Vishwakarma       A      162.1       58.7   38   F    600.0   \n",
       "\n",
       "   spend_B spend_C  \n",
       "0    200.0     300  \n",
       "1   1000.0     NaN  \n",
       "2   -100.0     200  \n",
       "3    300.0     NaN  \n",
       "4      NaN     300  \n",
       "5    400.0     NaN  \n",
       "6    500.0     500  \n",
       "7    100.0      xx  \n",
       "8    200.0     300  \n",
       "9    200.0     200  "
      ]
     },
     "execution_count": 15,
     "metadata": {},
     "output_type": "execute_result"
    }
   ],
   "source": [
    "df.head(10)"
   ]
  },
  {
   "cell_type": "markdown",
   "metadata": {},
   "source": [
    "first start with changing columns data type for the right one and using **errors='coerce'** you will be sure any data that not in format will be NaN"
   ]
  },
  {
   "cell_type": "code",
   "execution_count": 16,
   "metadata": {},
   "outputs": [],
   "source": [
    "df[\"age\"] = pd.to_numeric(df[\"age\"], errors='coerce')\n",
    "df[\"height(cm)\"] = pd.to_numeric(df[\"height(cm)\"], errors='coerce')\n",
    "df[\"weight(kg)\"] = pd.to_numeric(df[\"weight(kg)\"], errors='coerce')\n",
    "df[\"spend_A\"] = pd.to_numeric(df[\"spend_A\"], errors='coerce')\n",
    "df[\"spend_B\"] = pd.to_numeric(df[\"spend_B\"], errors='coerce')\n",
    "df[\"spend_C\"] = pd.to_numeric(df[\"spend_C\"], errors='coerce')"
   ]
  },
  {
   "cell_type": "code",
   "execution_count": 17,
   "metadata": {},
   "outputs": [],
   "source": [
    "numerical_colms = ['age', 'height(cm)', 'weight(kg)', 'spend_A', 'spend_B', 'spend_C']\n",
    "\n",
    "for col in numerical_colms:\n",
    "    df[col] = pd.to_numeric(df[col], errors='coerce')"
   ]
  },
  {
   "cell_type": "code",
   "execution_count": 18,
   "metadata": {},
   "outputs": [
    {
     "data": {
      "text/html": [
       "<div>\n",
       "<style scoped>\n",
       "    .dataframe tbody tr th:only-of-type {\n",
       "        vertical-align: middle;\n",
       "    }\n",
       "\n",
       "    .dataframe tbody tr th {\n",
       "        vertical-align: top;\n",
       "    }\n",
       "\n",
       "    .dataframe thead th {\n",
       "        text-align: right;\n",
       "    }\n",
       "</style>\n",
       "<table border=\"1\" class=\"dataframe\">\n",
       "  <thead>\n",
       "    <tr style=\"text-align: right;\">\n",
       "      <th></th>\n",
       "      <th>fname</th>\n",
       "      <th>lname</th>\n",
       "      <th>section</th>\n",
       "      <th>height(cm)</th>\n",
       "      <th>weight(kg)</th>\n",
       "      <th>age</th>\n",
       "      <th>sex</th>\n",
       "      <th>spend_A</th>\n",
       "      <th>spend_B</th>\n",
       "      <th>spend_C</th>\n",
       "    </tr>\n",
       "  </thead>\n",
       "  <tbody>\n",
       "    <tr>\n",
       "      <th>0</th>\n",
       "      <td>Rahul</td>\n",
       "      <td>Pandey</td>\n",
       "      <td>B</td>\n",
       "      <td>175.4</td>\n",
       "      <td>85.6</td>\n",
       "      <td>37</td>\n",
       "      <td>M</td>\n",
       "      <td>1500.0</td>\n",
       "      <td>200.0</td>\n",
       "      <td>300.0</td>\n",
       "    </tr>\n",
       "    <tr>\n",
       "      <th>1</th>\n",
       "      <td>Rakesh</td>\n",
       "      <td>Kumar</td>\n",
       "      <td>B</td>\n",
       "      <td>NaN</td>\n",
       "      <td>NaN</td>\n",
       "      <td>38</td>\n",
       "      <td>M</td>\n",
       "      <td>NaN</td>\n",
       "      <td>1000.0</td>\n",
       "      <td>NaN</td>\n",
       "    </tr>\n",
       "    <tr>\n",
       "      <th>2</th>\n",
       "      <td>Nitesh</td>\n",
       "      <td>Mondol</td>\n",
       "      <td>B</td>\n",
       "      <td>165.1</td>\n",
       "      <td>NaN</td>\n",
       "      <td>35</td>\n",
       "      <td>F</td>\n",
       "      <td>500.0</td>\n",
       "      <td>-100.0</td>\n",
       "      <td>200.0</td>\n",
       "    </tr>\n",
       "    <tr>\n",
       "      <th>3</th>\n",
       "      <td>Arvind</td>\n",
       "      <td>Dwivedi</td>\n",
       "      <td>A</td>\n",
       "      <td>0.0</td>\n",
       "      <td>55.6</td>\n",
       "      <td>40</td>\n",
       "      <td>M</td>\n",
       "      <td>300.0</td>\n",
       "      <td>300.0</td>\n",
       "      <td>NaN</td>\n",
       "    </tr>\n",
       "    <tr>\n",
       "      <th>4</th>\n",
       "      <td>Nikhil</td>\n",
       "      <td>Shikharwar</td>\n",
       "      <td>B</td>\n",
       "      <td>160.8</td>\n",
       "      <td>160.0</td>\n",
       "      <td>39</td>\n",
       "      <td>M</td>\n",
       "      <td>200.0</td>\n",
       "      <td>NaN</td>\n",
       "      <td>300.0</td>\n",
       "    </tr>\n",
       "    <tr>\n",
       "      <th>5</th>\n",
       "      <td>Ashutosh</td>\n",
       "      <td>Merothiya</td>\n",
       "      <td>A</td>\n",
       "      <td>NaN</td>\n",
       "      <td>-60.0</td>\n",
       "      <td>36</td>\n",
       "      <td>M</td>\n",
       "      <td>100.0</td>\n",
       "      <td>400.0</td>\n",
       "      <td>NaN</td>\n",
       "    </tr>\n",
       "    <tr>\n",
       "      <th>6</th>\n",
       "      <td>Shubhro</td>\n",
       "      <td>Das</td>\n",
       "      <td>C</td>\n",
       "      <td>170.3</td>\n",
       "      <td>75.5</td>\n",
       "      <td>35</td>\n",
       "      <td>F</td>\n",
       "      <td>NaN</td>\n",
       "      <td>500.0</td>\n",
       "      <td>500.0</td>\n",
       "    </tr>\n",
       "    <tr>\n",
       "      <th>7</th>\n",
       "      <td>Suvendu</td>\n",
       "      <td>Das</td>\n",
       "      <td>C</td>\n",
       "      <td>155.1</td>\n",
       "      <td>56.8</td>\n",
       "      <td>34</td>\n",
       "      <td>M</td>\n",
       "      <td>1000.0</td>\n",
       "      <td>100.0</td>\n",
       "      <td>NaN</td>\n",
       "    </tr>\n",
       "    <tr>\n",
       "      <th>8</th>\n",
       "      <td>Swadesh</td>\n",
       "      <td>Kumar</td>\n",
       "      <td>C</td>\n",
       "      <td>154.2</td>\n",
       "      <td>60.6</td>\n",
       "      <td>36</td>\n",
       "      <td>M</td>\n",
       "      <td>100.0</td>\n",
       "      <td>200.0</td>\n",
       "      <td>300.0</td>\n",
       "    </tr>\n",
       "    <tr>\n",
       "      <th>9</th>\n",
       "      <td>Arun</td>\n",
       "      <td>Vishwakarma</td>\n",
       "      <td>A</td>\n",
       "      <td>162.1</td>\n",
       "      <td>58.7</td>\n",
       "      <td>38</td>\n",
       "      <td>F</td>\n",
       "      <td>600.0</td>\n",
       "      <td>200.0</td>\n",
       "      <td>200.0</td>\n",
       "    </tr>\n",
       "  </tbody>\n",
       "</table>\n",
       "</div>"
      ],
      "text/plain": [
       "      fname        lname section  height(cm)  weight(kg)  age sex  spend_A  \\\n",
       "0     Rahul       Pandey       B       175.4        85.6   37   M   1500.0   \n",
       "1    Rakesh        Kumar       B         NaN         NaN   38   M      NaN   \n",
       "2    Nitesh       Mondol       B       165.1         NaN   35   F    500.0   \n",
       "3    Arvind      Dwivedi       A         0.0        55.6   40   M    300.0   \n",
       "4    Nikhil   Shikharwar       B       160.8       160.0   39   M    200.0   \n",
       "5  Ashutosh    Merothiya       A         NaN       -60.0   36   M    100.0   \n",
       "6   Shubhro          Das       C       170.3        75.5   35   F      NaN   \n",
       "7   Suvendu          Das       C       155.1        56.8   34   M   1000.0   \n",
       "8   Swadesh        Kumar       C       154.2        60.6   36   M    100.0   \n",
       "9      Arun  Vishwakarma       A       162.1        58.7   38   F    600.0   \n",
       "\n",
       "   spend_B  spend_C  \n",
       "0    200.0    300.0  \n",
       "1   1000.0      NaN  \n",
       "2   -100.0    200.0  \n",
       "3    300.0      NaN  \n",
       "4      NaN    300.0  \n",
       "5    400.0      NaN  \n",
       "6    500.0    500.0  \n",
       "7    100.0      NaN  \n",
       "8    200.0    300.0  \n",
       "9    200.0    200.0  "
      ]
     },
     "execution_count": 18,
     "metadata": {},
     "output_type": "execute_result"
    }
   ],
   "source": [
    "df.head(10)"
   ]
  },
  {
   "cell_type": "code",
   "execution_count": 19,
   "metadata": {},
   "outputs": [
    {
     "name": "stdout",
     "output_type": "stream",
     "text": [
      "<class 'pandas.core.frame.DataFrame'>\n",
      "RangeIndex: 10 entries, 0 to 9\n",
      "Data columns (total 10 columns):\n",
      " #   Column      Non-Null Count  Dtype  \n",
      "---  ------      --------------  -----  \n",
      " 0   fname       10 non-null     object \n",
      " 1   lname       10 non-null     object \n",
      " 2   section     10 non-null     object \n",
      " 3   height(cm)  8 non-null      float64\n",
      " 4   weight(kg)  8 non-null      float64\n",
      " 5   age         10 non-null     int64  \n",
      " 6   sex         10 non-null     object \n",
      " 7   spend_A     8 non-null      float64\n",
      " 8   spend_B     9 non-null      float64\n",
      " 9   spend_C     6 non-null      float64\n",
      "dtypes: float64(5), int64(1), object(4)\n",
      "memory usage: 928.0+ bytes\n"
     ]
    }
   ],
   "source": [
    "df.info()"
   ]
  },
  {
   "cell_type": "code",
   "execution_count": 20,
   "metadata": {},
   "outputs": [
    {
     "data": {
      "text/html": [
       "<div>\n",
       "<style scoped>\n",
       "    .dataframe tbody tr th:only-of-type {\n",
       "        vertical-align: middle;\n",
       "    }\n",
       "\n",
       "    .dataframe tbody tr th {\n",
       "        vertical-align: top;\n",
       "    }\n",
       "\n",
       "    .dataframe thead th {\n",
       "        text-align: right;\n",
       "    }\n",
       "</style>\n",
       "<table border=\"1\" class=\"dataframe\">\n",
       "  <thead>\n",
       "    <tr style=\"text-align: right;\">\n",
       "      <th></th>\n",
       "      <th>height(cm)</th>\n",
       "      <th>weight(kg)</th>\n",
       "      <th>age</th>\n",
       "      <th>spend_A</th>\n",
       "      <th>spend_B</th>\n",
       "      <th>spend_C</th>\n",
       "    </tr>\n",
       "  </thead>\n",
       "  <tbody>\n",
       "    <tr>\n",
       "      <th>count</th>\n",
       "      <td>8.0000</td>\n",
       "      <td>8.000000</td>\n",
       "      <td>10.000000</td>\n",
       "      <td>8.000000</td>\n",
       "      <td>9.000000</td>\n",
       "      <td>6.000000</td>\n",
       "    </tr>\n",
       "    <tr>\n",
       "      <th>mean</th>\n",
       "      <td>142.8750</td>\n",
       "      <td>61.600000</td>\n",
       "      <td>36.800000</td>\n",
       "      <td>537.500000</td>\n",
       "      <td>311.111111</td>\n",
       "      <td>300.000000</td>\n",
       "    </tr>\n",
       "    <tr>\n",
       "      <th>std</th>\n",
       "      <td>58.1695</td>\n",
       "      <td>60.126985</td>\n",
       "      <td>1.932184</td>\n",
       "      <td>492.624169</td>\n",
       "      <td>310.017921</td>\n",
       "      <td>109.544512</td>\n",
       "    </tr>\n",
       "    <tr>\n",
       "      <th>min</th>\n",
       "      <td>0.0000</td>\n",
       "      <td>-60.000000</td>\n",
       "      <td>34.000000</td>\n",
       "      <td>100.000000</td>\n",
       "      <td>-100.000000</td>\n",
       "      <td>200.000000</td>\n",
       "    </tr>\n",
       "    <tr>\n",
       "      <th>25%</th>\n",
       "      <td>154.8750</td>\n",
       "      <td>56.500000</td>\n",
       "      <td>35.250000</td>\n",
       "      <td>175.000000</td>\n",
       "      <td>200.000000</td>\n",
       "      <td>225.000000</td>\n",
       "    </tr>\n",
       "    <tr>\n",
       "      <th>50%</th>\n",
       "      <td>161.4500</td>\n",
       "      <td>59.650000</td>\n",
       "      <td>36.500000</td>\n",
       "      <td>400.000000</td>\n",
       "      <td>200.000000</td>\n",
       "      <td>300.000000</td>\n",
       "    </tr>\n",
       "    <tr>\n",
       "      <th>75%</th>\n",
       "      <td>166.4000</td>\n",
       "      <td>78.025000</td>\n",
       "      <td>38.000000</td>\n",
       "      <td>700.000000</td>\n",
       "      <td>400.000000</td>\n",
       "      <td>300.000000</td>\n",
       "    </tr>\n",
       "    <tr>\n",
       "      <th>max</th>\n",
       "      <td>175.4000</td>\n",
       "      <td>160.000000</td>\n",
       "      <td>40.000000</td>\n",
       "      <td>1500.000000</td>\n",
       "      <td>1000.000000</td>\n",
       "      <td>500.000000</td>\n",
       "    </tr>\n",
       "  </tbody>\n",
       "</table>\n",
       "</div>"
      ],
      "text/plain": [
       "       height(cm)  weight(kg)        age      spend_A      spend_B     spend_C\n",
       "count      8.0000    8.000000  10.000000     8.000000     9.000000    6.000000\n",
       "mean     142.8750   61.600000  36.800000   537.500000   311.111111  300.000000\n",
       "std       58.1695   60.126985   1.932184   492.624169   310.017921  109.544512\n",
       "min        0.0000  -60.000000  34.000000   100.000000  -100.000000  200.000000\n",
       "25%      154.8750   56.500000  35.250000   175.000000   200.000000  225.000000\n",
       "50%      161.4500   59.650000  36.500000   400.000000   200.000000  300.000000\n",
       "75%      166.4000   78.025000  38.000000   700.000000   400.000000  300.000000\n",
       "max      175.4000  160.000000  40.000000  1500.000000  1000.000000  500.000000"
      ]
     },
     "execution_count": 20,
     "metadata": {},
     "output_type": "execute_result"
    }
   ],
   "source": [
    "df.describe()"
   ]
  },
  {
   "cell_type": "markdown",
   "metadata": {},
   "source": [
    "**Problems**\n",
    "- Weight column has -60 kg and that's wrong.\n",
    "- Height column has min value of 0 and that's wrong also.\n",
    "- Spend_B columns has min value of -100 that make no sense."
   ]
  },
  {
   "cell_type": "code",
   "execution_count": 21,
   "metadata": {},
   "outputs": [],
   "source": [
    "df['weight(kg)'] = df['weight(kg)'].apply(lambda x: abs(x))\n",
    "df['spend_B'] = df['spend_B'].apply(lambda x: abs(x))"
   ]
  },
  {
   "cell_type": "code",
   "execution_count": 22,
   "metadata": {},
   "outputs": [
    {
     "data": {
      "text/html": [
       "<div>\n",
       "<style scoped>\n",
       "    .dataframe tbody tr th:only-of-type {\n",
       "        vertical-align: middle;\n",
       "    }\n",
       "\n",
       "    .dataframe tbody tr th {\n",
       "        vertical-align: top;\n",
       "    }\n",
       "\n",
       "    .dataframe thead th {\n",
       "        text-align: right;\n",
       "    }\n",
       "</style>\n",
       "<table border=\"1\" class=\"dataframe\">\n",
       "  <thead>\n",
       "    <tr style=\"text-align: right;\">\n",
       "      <th></th>\n",
       "      <th>height(cm)</th>\n",
       "      <th>weight(kg)</th>\n",
       "      <th>age</th>\n",
       "      <th>spend_A</th>\n",
       "      <th>spend_B</th>\n",
       "      <th>spend_C</th>\n",
       "    </tr>\n",
       "  </thead>\n",
       "  <tbody>\n",
       "    <tr>\n",
       "      <th>count</th>\n",
       "      <td>8.0000</td>\n",
       "      <td>8.000000</td>\n",
       "      <td>10.000000</td>\n",
       "      <td>8.000000</td>\n",
       "      <td>9.000000</td>\n",
       "      <td>6.000000</td>\n",
       "    </tr>\n",
       "    <tr>\n",
       "      <th>mean</th>\n",
       "      <td>142.8750</td>\n",
       "      <td>76.600000</td>\n",
       "      <td>36.800000</td>\n",
       "      <td>537.500000</td>\n",
       "      <td>333.333333</td>\n",
       "      <td>300.000000</td>\n",
       "    </tr>\n",
       "    <tr>\n",
       "      <th>std</th>\n",
       "      <td>58.1695</td>\n",
       "      <td>35.300304</td>\n",
       "      <td>1.932184</td>\n",
       "      <td>492.624169</td>\n",
       "      <td>282.842712</td>\n",
       "      <td>109.544512</td>\n",
       "    </tr>\n",
       "    <tr>\n",
       "      <th>min</th>\n",
       "      <td>0.0000</td>\n",
       "      <td>55.600000</td>\n",
       "      <td>34.000000</td>\n",
       "      <td>100.000000</td>\n",
       "      <td>100.000000</td>\n",
       "      <td>200.000000</td>\n",
       "    </tr>\n",
       "    <tr>\n",
       "      <th>25%</th>\n",
       "      <td>154.8750</td>\n",
       "      <td>58.225000</td>\n",
       "      <td>35.250000</td>\n",
       "      <td>175.000000</td>\n",
       "      <td>200.000000</td>\n",
       "      <td>225.000000</td>\n",
       "    </tr>\n",
       "    <tr>\n",
       "      <th>50%</th>\n",
       "      <td>161.4500</td>\n",
       "      <td>60.300000</td>\n",
       "      <td>36.500000</td>\n",
       "      <td>400.000000</td>\n",
       "      <td>200.000000</td>\n",
       "      <td>300.000000</td>\n",
       "    </tr>\n",
       "    <tr>\n",
       "      <th>75%</th>\n",
       "      <td>166.4000</td>\n",
       "      <td>78.025000</td>\n",
       "      <td>38.000000</td>\n",
       "      <td>700.000000</td>\n",
       "      <td>400.000000</td>\n",
       "      <td>300.000000</td>\n",
       "    </tr>\n",
       "    <tr>\n",
       "      <th>max</th>\n",
       "      <td>175.4000</td>\n",
       "      <td>160.000000</td>\n",
       "      <td>40.000000</td>\n",
       "      <td>1500.000000</td>\n",
       "      <td>1000.000000</td>\n",
       "      <td>500.000000</td>\n",
       "    </tr>\n",
       "  </tbody>\n",
       "</table>\n",
       "</div>"
      ],
      "text/plain": [
       "       height(cm)  weight(kg)        age      spend_A      spend_B     spend_C\n",
       "count      8.0000    8.000000  10.000000     8.000000     9.000000    6.000000\n",
       "mean     142.8750   76.600000  36.800000   537.500000   333.333333  300.000000\n",
       "std       58.1695   35.300304   1.932184   492.624169   282.842712  109.544512\n",
       "min        0.0000   55.600000  34.000000   100.000000   100.000000  200.000000\n",
       "25%      154.8750   58.225000  35.250000   175.000000   200.000000  225.000000\n",
       "50%      161.4500   60.300000  36.500000   400.000000   200.000000  300.000000\n",
       "75%      166.4000   78.025000  38.000000   700.000000   400.000000  300.000000\n",
       "max      175.4000  160.000000  40.000000  1500.000000  1000.000000  500.000000"
      ]
     },
     "execution_count": 22,
     "metadata": {},
     "output_type": "execute_result"
    }
   ],
   "source": [
    "df.describe()"
   ]
  },
  {
   "cell_type": "code",
   "execution_count": 23,
   "metadata": {},
   "outputs": [
    {
     "data": {
      "text/plain": [
       "155.1    1\n",
       "175.4    1\n",
       "165.1    1\n",
       "160.8    1\n",
       "154.2    1\n",
       "162.1    1\n",
       "170.3    1\n",
       "0.0      1\n",
       "Name: height(cm), dtype: int64"
      ]
     },
     "execution_count": 23,
     "metadata": {},
     "output_type": "execute_result"
    }
   ],
   "source": [
    "df['height(cm)'].value_counts()"
   ]
  },
  {
   "cell_type": "code",
   "execution_count": 24,
   "metadata": {},
   "outputs": [
    {
     "data": {
      "text/plain": [
       "161.45"
      ]
     },
     "execution_count": 24,
     "metadata": {},
     "output_type": "execute_result"
    }
   ],
   "source": [
    "median_of_height = df['height(cm)'].median()\n",
    "median_of_height"
   ]
  },
  {
   "cell_type": "code",
   "execution_count": 32,
   "metadata": {},
   "outputs": [
    {
     "data": {
      "text/plain": [
       "3    0.0\n",
       "Name: height(cm), dtype: float64"
      ]
     },
     "execution_count": 32,
     "metadata": {},
     "output_type": "execute_result"
    }
   ],
   "source": [
    "df.loc[df['height(cm)'] == 0.0, 'height(cm)']"
   ]
  },
  {
   "cell_type": "code",
   "execution_count": 33,
   "metadata": {},
   "outputs": [
    {
     "data": {
      "text/html": [
       "<div>\n",
       "<style scoped>\n",
       "    .dataframe tbody tr th:only-of-type {\n",
       "        vertical-align: middle;\n",
       "    }\n",
       "\n",
       "    .dataframe tbody tr th {\n",
       "        vertical-align: top;\n",
       "    }\n",
       "\n",
       "    .dataframe thead th {\n",
       "        text-align: right;\n",
       "    }\n",
       "</style>\n",
       "<table border=\"1\" class=\"dataframe\">\n",
       "  <thead>\n",
       "    <tr style=\"text-align: right;\">\n",
       "      <th></th>\n",
       "      <th>fname</th>\n",
       "      <th>lname</th>\n",
       "      <th>section</th>\n",
       "      <th>height(cm)</th>\n",
       "      <th>weight(kg)</th>\n",
       "      <th>age</th>\n",
       "      <th>sex</th>\n",
       "      <th>spend_A</th>\n",
       "      <th>spend_B</th>\n",
       "      <th>spend_C</th>\n",
       "    </tr>\n",
       "  </thead>\n",
       "  <tbody>\n",
       "    <tr>\n",
       "      <th>0</th>\n",
       "      <td>Rahul</td>\n",
       "      <td>Pandey</td>\n",
       "      <td>B</td>\n",
       "      <td>175.40</td>\n",
       "      <td>85.6</td>\n",
       "      <td>37</td>\n",
       "      <td>M</td>\n",
       "      <td>1500.0</td>\n",
       "      <td>200.0</td>\n",
       "      <td>300.0</td>\n",
       "    </tr>\n",
       "    <tr>\n",
       "      <th>1</th>\n",
       "      <td>Rakesh</td>\n",
       "      <td>Kumar</td>\n",
       "      <td>B</td>\n",
       "      <td>NaN</td>\n",
       "      <td>NaN</td>\n",
       "      <td>38</td>\n",
       "      <td>M</td>\n",
       "      <td>NaN</td>\n",
       "      <td>1000.0</td>\n",
       "      <td>NaN</td>\n",
       "    </tr>\n",
       "    <tr>\n",
       "      <th>2</th>\n",
       "      <td>Nitesh</td>\n",
       "      <td>Mondol</td>\n",
       "      <td>B</td>\n",
       "      <td>165.10</td>\n",
       "      <td>NaN</td>\n",
       "      <td>35</td>\n",
       "      <td>F</td>\n",
       "      <td>500.0</td>\n",
       "      <td>100.0</td>\n",
       "      <td>200.0</td>\n",
       "    </tr>\n",
       "    <tr>\n",
       "      <th>3</th>\n",
       "      <td>Arvind</td>\n",
       "      <td>Dwivedi</td>\n",
       "      <td>A</td>\n",
       "      <td>161.45</td>\n",
       "      <td>55.6</td>\n",
       "      <td>40</td>\n",
       "      <td>M</td>\n",
       "      <td>300.0</td>\n",
       "      <td>300.0</td>\n",
       "      <td>NaN</td>\n",
       "    </tr>\n",
       "    <tr>\n",
       "      <th>4</th>\n",
       "      <td>Nikhil</td>\n",
       "      <td>Shikharwar</td>\n",
       "      <td>B</td>\n",
       "      <td>160.80</td>\n",
       "      <td>160.0</td>\n",
       "      <td>39</td>\n",
       "      <td>M</td>\n",
       "      <td>200.0</td>\n",
       "      <td>NaN</td>\n",
       "      <td>300.0</td>\n",
       "    </tr>\n",
       "    <tr>\n",
       "      <th>5</th>\n",
       "      <td>Ashutosh</td>\n",
       "      <td>Merothiya</td>\n",
       "      <td>A</td>\n",
       "      <td>NaN</td>\n",
       "      <td>60.0</td>\n",
       "      <td>36</td>\n",
       "      <td>M</td>\n",
       "      <td>100.0</td>\n",
       "      <td>400.0</td>\n",
       "      <td>NaN</td>\n",
       "    </tr>\n",
       "    <tr>\n",
       "      <th>6</th>\n",
       "      <td>Shubhro</td>\n",
       "      <td>Das</td>\n",
       "      <td>C</td>\n",
       "      <td>170.30</td>\n",
       "      <td>75.5</td>\n",
       "      <td>35</td>\n",
       "      <td>F</td>\n",
       "      <td>NaN</td>\n",
       "      <td>500.0</td>\n",
       "      <td>500.0</td>\n",
       "    </tr>\n",
       "    <tr>\n",
       "      <th>7</th>\n",
       "      <td>Suvendu</td>\n",
       "      <td>Das</td>\n",
       "      <td>C</td>\n",
       "      <td>155.10</td>\n",
       "      <td>56.8</td>\n",
       "      <td>34</td>\n",
       "      <td>M</td>\n",
       "      <td>1000.0</td>\n",
       "      <td>100.0</td>\n",
       "      <td>NaN</td>\n",
       "    </tr>\n",
       "    <tr>\n",
       "      <th>8</th>\n",
       "      <td>Swadesh</td>\n",
       "      <td>Kumar</td>\n",
       "      <td>C</td>\n",
       "      <td>154.20</td>\n",
       "      <td>60.6</td>\n",
       "      <td>36</td>\n",
       "      <td>M</td>\n",
       "      <td>100.0</td>\n",
       "      <td>200.0</td>\n",
       "      <td>300.0</td>\n",
       "    </tr>\n",
       "    <tr>\n",
       "      <th>9</th>\n",
       "      <td>Arun</td>\n",
       "      <td>Vishwakarma</td>\n",
       "      <td>A</td>\n",
       "      <td>162.10</td>\n",
       "      <td>58.7</td>\n",
       "      <td>38</td>\n",
       "      <td>F</td>\n",
       "      <td>600.0</td>\n",
       "      <td>200.0</td>\n",
       "      <td>200.0</td>\n",
       "    </tr>\n",
       "  </tbody>\n",
       "</table>\n",
       "</div>"
      ],
      "text/plain": [
       "      fname        lname section  height(cm)  weight(kg)  age sex  spend_A  \\\n",
       "0     Rahul       Pandey       B      175.40        85.6   37   M   1500.0   \n",
       "1    Rakesh        Kumar       B         NaN         NaN   38   M      NaN   \n",
       "2    Nitesh       Mondol       B      165.10         NaN   35   F    500.0   \n",
       "3    Arvind      Dwivedi       A      161.45        55.6   40   M    300.0   \n",
       "4    Nikhil   Shikharwar       B      160.80       160.0   39   M    200.0   \n",
       "5  Ashutosh    Merothiya       A         NaN        60.0   36   M    100.0   \n",
       "6   Shubhro          Das       C      170.30        75.5   35   F      NaN   \n",
       "7   Suvendu          Das       C      155.10        56.8   34   M   1000.0   \n",
       "8   Swadesh        Kumar       C      154.20        60.6   36   M    100.0   \n",
       "9      Arun  Vishwakarma       A      162.10        58.7   38   F    600.0   \n",
       "\n",
       "   spend_B  spend_C  \n",
       "0    200.0    300.0  \n",
       "1   1000.0      NaN  \n",
       "2    100.0    200.0  \n",
       "3    300.0      NaN  \n",
       "4      NaN    300.0  \n",
       "5    400.0      NaN  \n",
       "6    500.0    500.0  \n",
       "7    100.0      NaN  \n",
       "8    200.0    300.0  \n",
       "9    200.0    200.0  "
      ]
     },
     "execution_count": 33,
     "metadata": {},
     "output_type": "execute_result"
    }
   ],
   "source": [
    "df.loc[df['height(cm)'] == 0.0, 'height(cm)'] = median_of_height\n",
    "df.head(10)"
   ]
  },
  {
   "cell_type": "code",
   "execution_count": null,
   "metadata": {},
   "outputs": [],
   "source": [
    "# Method using apply\n",
    "# def non_zero_height(x):\n",
    "#     if x == 0.0:\n",
    "#         return median_of_height\n",
    "#     else:\n",
    "#         return x\n",
    "\n",
    "# df['height(cm)'] = df['height(cm)'].apply(non_zero_height)\n",
    "# df['height(cm)'] = df['height(cm)'].apply(lambda x: median_of_height if x == 0.0 else x)"
   ]
  },
  {
   "cell_type": "code",
   "execution_count": 34,
   "metadata": {},
   "outputs": [
    {
     "data": {
      "text/plain": [
       "155.10    1\n",
       "175.40    1\n",
       "165.10    1\n",
       "154.20    1\n",
       "160.80    1\n",
       "161.45    1\n",
       "162.10    1\n",
       "170.30    1\n",
       "Name: height(cm), dtype: int64"
      ]
     },
     "execution_count": 34,
     "metadata": {},
     "output_type": "execute_result"
    }
   ],
   "source": [
    "df['height(cm)'].value_counts()"
   ]
  },
  {
   "cell_type": "code",
   "execution_count": 36,
   "metadata": {},
   "outputs": [
    {
     "data": {
      "text/html": [
       "<div>\n",
       "<style scoped>\n",
       "    .dataframe tbody tr th:only-of-type {\n",
       "        vertical-align: middle;\n",
       "    }\n",
       "\n",
       "    .dataframe tbody tr th {\n",
       "        vertical-align: top;\n",
       "    }\n",
       "\n",
       "    .dataframe thead th {\n",
       "        text-align: right;\n",
       "    }\n",
       "</style>\n",
       "<table border=\"1\" class=\"dataframe\">\n",
       "  <thead>\n",
       "    <tr style=\"text-align: right;\">\n",
       "      <th></th>\n",
       "      <th>height(cm)</th>\n",
       "      <th>weight(kg)</th>\n",
       "      <th>age</th>\n",
       "      <th>spend_A</th>\n",
       "      <th>spend_B</th>\n",
       "      <th>spend_C</th>\n",
       "    </tr>\n",
       "  </thead>\n",
       "  <tbody>\n",
       "    <tr>\n",
       "      <th>count</th>\n",
       "      <td>8.000000</td>\n",
       "      <td>8.000000</td>\n",
       "      <td>10.000000</td>\n",
       "      <td>8.000000</td>\n",
       "      <td>9.000000</td>\n",
       "      <td>6.000000</td>\n",
       "    </tr>\n",
       "    <tr>\n",
       "      <th>mean</th>\n",
       "      <td>163.056250</td>\n",
       "      <td>76.600000</td>\n",
       "      <td>36.800000</td>\n",
       "      <td>537.500000</td>\n",
       "      <td>333.333333</td>\n",
       "      <td>300.000000</td>\n",
       "    </tr>\n",
       "    <tr>\n",
       "      <th>std</th>\n",
       "      <td>7.164767</td>\n",
       "      <td>35.300304</td>\n",
       "      <td>1.932184</td>\n",
       "      <td>492.624169</td>\n",
       "      <td>282.842712</td>\n",
       "      <td>109.544512</td>\n",
       "    </tr>\n",
       "    <tr>\n",
       "      <th>min</th>\n",
       "      <td>154.200000</td>\n",
       "      <td>55.600000</td>\n",
       "      <td>34.000000</td>\n",
       "      <td>100.000000</td>\n",
       "      <td>100.000000</td>\n",
       "      <td>200.000000</td>\n",
       "    </tr>\n",
       "    <tr>\n",
       "      <th>25%</th>\n",
       "      <td>159.375000</td>\n",
       "      <td>58.225000</td>\n",
       "      <td>35.250000</td>\n",
       "      <td>175.000000</td>\n",
       "      <td>200.000000</td>\n",
       "      <td>225.000000</td>\n",
       "    </tr>\n",
       "    <tr>\n",
       "      <th>50%</th>\n",
       "      <td>161.775000</td>\n",
       "      <td>60.300000</td>\n",
       "      <td>36.500000</td>\n",
       "      <td>400.000000</td>\n",
       "      <td>200.000000</td>\n",
       "      <td>300.000000</td>\n",
       "    </tr>\n",
       "    <tr>\n",
       "      <th>75%</th>\n",
       "      <td>166.400000</td>\n",
       "      <td>78.025000</td>\n",
       "      <td>38.000000</td>\n",
       "      <td>700.000000</td>\n",
       "      <td>400.000000</td>\n",
       "      <td>300.000000</td>\n",
       "    </tr>\n",
       "    <tr>\n",
       "      <th>max</th>\n",
       "      <td>175.400000</td>\n",
       "      <td>160.000000</td>\n",
       "      <td>40.000000</td>\n",
       "      <td>1500.000000</td>\n",
       "      <td>1000.000000</td>\n",
       "      <td>500.000000</td>\n",
       "    </tr>\n",
       "  </tbody>\n",
       "</table>\n",
       "</div>"
      ],
      "text/plain": [
       "       height(cm)  weight(kg)        age      spend_A      spend_B     spend_C\n",
       "count    8.000000    8.000000  10.000000     8.000000     9.000000    6.000000\n",
       "mean   163.056250   76.600000  36.800000   537.500000   333.333333  300.000000\n",
       "std      7.164767   35.300304   1.932184   492.624169   282.842712  109.544512\n",
       "min    154.200000   55.600000  34.000000   100.000000   100.000000  200.000000\n",
       "25%    159.375000   58.225000  35.250000   175.000000   200.000000  225.000000\n",
       "50%    161.775000   60.300000  36.500000   400.000000   200.000000  300.000000\n",
       "75%    166.400000   78.025000  38.000000   700.000000   400.000000  300.000000\n",
       "max    175.400000  160.000000  40.000000  1500.000000  1000.000000  500.000000"
      ]
     },
     "execution_count": 36,
     "metadata": {},
     "output_type": "execute_result"
    }
   ],
   "source": [
    "df.describe()"
   ]
  },
  {
   "cell_type": "markdown",
   "metadata": {},
   "source": [
    "## Some Visualizations"
   ]
  },
  {
   "cell_type": "code",
   "execution_count": 37,
   "metadata": {},
   "outputs": [
    {
     "data": {
      "text/html": [
       "<div>\n",
       "<style scoped>\n",
       "    .dataframe tbody tr th:only-of-type {\n",
       "        vertical-align: middle;\n",
       "    }\n",
       "\n",
       "    .dataframe tbody tr th {\n",
       "        vertical-align: top;\n",
       "    }\n",
       "\n",
       "    .dataframe thead th {\n",
       "        text-align: right;\n",
       "    }\n",
       "</style>\n",
       "<table border=\"1\" class=\"dataframe\">\n",
       "  <thead>\n",
       "    <tr style=\"text-align: right;\">\n",
       "      <th></th>\n",
       "      <th>fname</th>\n",
       "      <th>lname</th>\n",
       "      <th>section</th>\n",
       "      <th>height(cm)</th>\n",
       "      <th>weight(kg)</th>\n",
       "      <th>age</th>\n",
       "      <th>sex</th>\n",
       "      <th>spend_A</th>\n",
       "      <th>spend_B</th>\n",
       "      <th>spend_C</th>\n",
       "    </tr>\n",
       "  </thead>\n",
       "  <tbody>\n",
       "    <tr>\n",
       "      <th>0</th>\n",
       "      <td>Rahul</td>\n",
       "      <td>Pandey</td>\n",
       "      <td>B</td>\n",
       "      <td>175.40</td>\n",
       "      <td>85.6</td>\n",
       "      <td>37</td>\n",
       "      <td>M</td>\n",
       "      <td>1500.0</td>\n",
       "      <td>200.0</td>\n",
       "      <td>300.0</td>\n",
       "    </tr>\n",
       "    <tr>\n",
       "      <th>1</th>\n",
       "      <td>Rakesh</td>\n",
       "      <td>Kumar</td>\n",
       "      <td>B</td>\n",
       "      <td>NaN</td>\n",
       "      <td>NaN</td>\n",
       "      <td>38</td>\n",
       "      <td>M</td>\n",
       "      <td>NaN</td>\n",
       "      <td>1000.0</td>\n",
       "      <td>NaN</td>\n",
       "    </tr>\n",
       "    <tr>\n",
       "      <th>2</th>\n",
       "      <td>Nitesh</td>\n",
       "      <td>Mondol</td>\n",
       "      <td>B</td>\n",
       "      <td>165.10</td>\n",
       "      <td>NaN</td>\n",
       "      <td>35</td>\n",
       "      <td>F</td>\n",
       "      <td>500.0</td>\n",
       "      <td>100.0</td>\n",
       "      <td>200.0</td>\n",
       "    </tr>\n",
       "    <tr>\n",
       "      <th>3</th>\n",
       "      <td>Arvind</td>\n",
       "      <td>Dwivedi</td>\n",
       "      <td>A</td>\n",
       "      <td>161.45</td>\n",
       "      <td>55.6</td>\n",
       "      <td>40</td>\n",
       "      <td>M</td>\n",
       "      <td>300.0</td>\n",
       "      <td>300.0</td>\n",
       "      <td>NaN</td>\n",
       "    </tr>\n",
       "    <tr>\n",
       "      <th>4</th>\n",
       "      <td>Nikhil</td>\n",
       "      <td>Shikharwar</td>\n",
       "      <td>B</td>\n",
       "      <td>160.80</td>\n",
       "      <td>160.0</td>\n",
       "      <td>39</td>\n",
       "      <td>M</td>\n",
       "      <td>200.0</td>\n",
       "      <td>NaN</td>\n",
       "      <td>300.0</td>\n",
       "    </tr>\n",
       "    <tr>\n",
       "      <th>5</th>\n",
       "      <td>Ashutosh</td>\n",
       "      <td>Merothiya</td>\n",
       "      <td>A</td>\n",
       "      <td>NaN</td>\n",
       "      <td>60.0</td>\n",
       "      <td>36</td>\n",
       "      <td>M</td>\n",
       "      <td>100.0</td>\n",
       "      <td>400.0</td>\n",
       "      <td>NaN</td>\n",
       "    </tr>\n",
       "    <tr>\n",
       "      <th>6</th>\n",
       "      <td>Shubhro</td>\n",
       "      <td>Das</td>\n",
       "      <td>C</td>\n",
       "      <td>170.30</td>\n",
       "      <td>75.5</td>\n",
       "      <td>35</td>\n",
       "      <td>F</td>\n",
       "      <td>NaN</td>\n",
       "      <td>500.0</td>\n",
       "      <td>500.0</td>\n",
       "    </tr>\n",
       "    <tr>\n",
       "      <th>7</th>\n",
       "      <td>Suvendu</td>\n",
       "      <td>Das</td>\n",
       "      <td>C</td>\n",
       "      <td>155.10</td>\n",
       "      <td>56.8</td>\n",
       "      <td>34</td>\n",
       "      <td>M</td>\n",
       "      <td>1000.0</td>\n",
       "      <td>100.0</td>\n",
       "      <td>NaN</td>\n",
       "    </tr>\n",
       "    <tr>\n",
       "      <th>8</th>\n",
       "      <td>Swadesh</td>\n",
       "      <td>Kumar</td>\n",
       "      <td>C</td>\n",
       "      <td>154.20</td>\n",
       "      <td>60.6</td>\n",
       "      <td>36</td>\n",
       "      <td>M</td>\n",
       "      <td>100.0</td>\n",
       "      <td>200.0</td>\n",
       "      <td>300.0</td>\n",
       "    </tr>\n",
       "    <tr>\n",
       "      <th>9</th>\n",
       "      <td>Arun</td>\n",
       "      <td>Vishwakarma</td>\n",
       "      <td>A</td>\n",
       "      <td>162.10</td>\n",
       "      <td>58.7</td>\n",
       "      <td>38</td>\n",
       "      <td>F</td>\n",
       "      <td>600.0</td>\n",
       "      <td>200.0</td>\n",
       "      <td>200.0</td>\n",
       "    </tr>\n",
       "  </tbody>\n",
       "</table>\n",
       "</div>"
      ],
      "text/plain": [
       "      fname        lname section  height(cm)  weight(kg)  age sex  spend_A  \\\n",
       "0     Rahul       Pandey       B      175.40        85.6   37   M   1500.0   \n",
       "1    Rakesh        Kumar       B         NaN         NaN   38   M      NaN   \n",
       "2    Nitesh       Mondol       B      165.10         NaN   35   F    500.0   \n",
       "3    Arvind      Dwivedi       A      161.45        55.6   40   M    300.0   \n",
       "4    Nikhil   Shikharwar       B      160.80       160.0   39   M    200.0   \n",
       "5  Ashutosh    Merothiya       A         NaN        60.0   36   M    100.0   \n",
       "6   Shubhro          Das       C      170.30        75.5   35   F      NaN   \n",
       "7   Suvendu          Das       C      155.10        56.8   34   M   1000.0   \n",
       "8   Swadesh        Kumar       C      154.20        60.6   36   M    100.0   \n",
       "9      Arun  Vishwakarma       A      162.10        58.7   38   F    600.0   \n",
       "\n",
       "   spend_B  spend_C  \n",
       "0    200.0    300.0  \n",
       "1   1000.0      NaN  \n",
       "2    100.0    200.0  \n",
       "3    300.0      NaN  \n",
       "4      NaN    300.0  \n",
       "5    400.0      NaN  \n",
       "6    500.0    500.0  \n",
       "7    100.0      NaN  \n",
       "8    200.0    300.0  \n",
       "9    200.0    200.0  "
      ]
     },
     "execution_count": 37,
     "metadata": {},
     "output_type": "execute_result"
    }
   ],
   "source": [
    "df.head(10)"
   ]
  },
  {
   "cell_type": "code",
   "execution_count": 38,
   "metadata": {},
   "outputs": [
    {
     "data": {
      "text/plain": [
       "<matplotlib.axes._subplots.AxesSubplot at 0x2b2c1541408>"
      ]
     },
     "execution_count": 38,
     "metadata": {},
     "output_type": "execute_result"
    },
    {
     "data": {
      "image/png": "[encoded data removed]",
      "text/plain": [
       "<Figure size 720x720 with 1 Axes>"
      ]
     },
     "metadata": {},
     "output_type": "display_data"
    }
   ],
   "source": [
    "sns.countplot(x='section', data=df, palette='viridis')"
   ]
  },
  {
   "cell_type": "code",
   "execution_count": 39,
   "metadata": {},
   "outputs": [
    {
     "data": {
      "text/plain": [
       "<matplotlib.axes._subplots.AxesSubplot at 0x2b2c29c4b08>"
      ]
     },
     "execution_count": 39,
     "metadata": {},
     "output_type": "execute_result"
    },
    {
     "data": {
      "image/png": "[encoded data removed]",
      "text/plain": [
       "<Figure size 720x720 with 1 Axes>"
      ]
     },
     "metadata": {},
     "output_type": "display_data"
    }
   ],
   "source": [
    "sns.countplot(x='sex', data=df, palette='viridis')"
   ]
  },
  {
   "cell_type": "code",
   "execution_count": 40,
   "metadata": {},
   "outputs": [
    {
     "data": {
      "text/plain": [
       "<matplotlib.axes._subplots.AxesSubplot at 0x2b2c2a27348>"
      ]
     },
     "execution_count": 40,
     "metadata": {},
     "output_type": "execute_result"
    },
    {
     "data": {
      "image/png": "[encoded data removed]",
      "text/plain": [
       "<Figure size 720x720 with 1 Axes>"
      ]
     },
     "metadata": {},
     "output_type": "display_data"
    }
   ],
   "source": [
    "sns.distplot(df['height(cm)'], kde=False, color='m')"
   ]
  },
  {
   "cell_type": "code",
   "execution_count": 41,
   "metadata": {},
   "outputs": [
    {
     "data": {
      "text/plain": [
       "<matplotlib.axes._subplots.AxesSubplot at 0x2b2c2dce108>"
      ]
     },
     "execution_count": 41,
     "metadata": {},
     "output_type": "execute_result"
    },
    {
     "data": {
      "image/png": "[encoded data removed]",
      "text/plain": [
       "<Figure size 720x720 with 1 Axes>"
      ]
     },
     "metadata": {},
     "output_type": "display_data"
    }
   ],
   "source": [
    "sns.distplot(df['weight(kg)'], kde=False, color='m')"
   ]
  },
  {
   "cell_type": "code",
   "execution_count": 42,
   "metadata": {},
   "outputs": [
    {
     "data": {
      "text/plain": [
       "<matplotlib.axes._subplots.AxesSubplot at 0x2b2c31eee88>"
      ]
     },
     "execution_count": 42,
     "metadata": {},
     "output_type": "execute_result"
    },
    {
     "data": {
      "image/png": "[encoded data removed]",
      "text/plain": [
       "<Figure size 720x720 with 1 Axes>"
      ]
     },
     "metadata": {},
     "output_type": "display_data"
    }
   ],
   "source": [
    "sns.distplot(df['age'], kde=False, color='m')"
   ]
  },
  {
   "cell_type": "code",
   "execution_count": 43,
   "metadata": {},
   "outputs": [
    {
     "data": {
      "text/plain": [
       "<matplotlib.axes._subplots.AxesSubplot at 0x2b2c2e4bd88>"
      ]
     },
     "execution_count": 43,
     "metadata": {},
     "output_type": "execute_result"
    },
    {
     "data": {
      "image/png": "[encoded data removed]",
      "text/plain": [
       "<Figure size 720x720 with 1 Axes>"
      ]
     },
     "metadata": {},
     "output_type": "display_data"
    }
   ],
   "source": [
    "sns.distplot(df['spend_A'], kde=False, color='m')"
   ]
  },
  {
   "cell_type": "code",
   "execution_count": 44,
   "metadata": {},
   "outputs": [
    {
     "data": {
      "text/plain": [
       "<matplotlib.axes._subplots.AxesSubplot at 0x2b2c338b888>"
      ]
     },
     "execution_count": 44,
     "metadata": {},
     "output_type": "execute_result"
    },
    {
     "data": {
      "image/png": "[encoded data removed]",
      "text/plain": [
       "<Figure size 720x720 with 1 Axes>"
      ]
     },
     "metadata": {},
     "output_type": "display_data"
    }
   ],
   "source": [
    "sns.distplot(df['spend_B'], kde=False, color='m')"
   ]
  },
  {
   "cell_type": "code",
   "execution_count": 45,
   "metadata": {},
   "outputs": [
    {
     "data": {
      "text/plain": [
       "<matplotlib.axes._subplots.AxesSubplot at 0x2b2c3782248>"
      ]
     },
     "execution_count": 45,
     "metadata": {},
     "output_type": "execute_result"
    },
    {
     "data": {
      "image/png": "[encoded data removed]",
      "text/plain": [
       "<Figure size 720x720 with 1 Axes>"
      ]
     },
     "metadata": {},
     "output_type": "display_data"
    }
   ],
   "source": [
    "sns.distplot(df['spend_C'], kde=False, color='m')"
   ]
  },
  {
   "cell_type": "code",
   "execution_count": 46,
   "metadata": {},
   "outputs": [
    {
     "data": {
      "text/plain": [
       "<seaborn.axisgrid.JointGrid at 0x2b2c33e8c48>"
      ]
     },
     "execution_count": 46,
     "metadata": {},
     "output_type": "execute_result"
    },
    {
     "data": {
      "image/png": "[encoded data removed]",
      "text/plain": [
       "<Figure size 576x576 with 3 Axes>"
      ]
     },
     "metadata": {},
     "output_type": "display_data"
    }
   ],
   "source": [
    "sns.jointplot(x='weight(kg)', y='height(cm)', data=df, height=8, kind='kde', cmap='rocket')"
   ]
  },
  {
   "cell_type": "code",
   "execution_count": 47,
   "metadata": {},
   "outputs": [
    {
     "data": {
      "text/plain": [
       "<seaborn.axisgrid.JointGrid at 0x2b2c3b44d88>"
      ]
     },
     "execution_count": 47,
     "metadata": {},
     "output_type": "execute_result"
    },
    {
     "data": {
      "image/png": "[encoded data removed]",
      "text/plain": [
       "<Figure size 576x576 with 3 Axes>"
      ]
     },
     "metadata": {},
     "output_type": "display_data"
    }
   ],
   "source": [
    "sns.jointplot(x='age', y='height(cm)', data=df, height=8, kind='kde', cmap='rocket')"
   ]
  },
  {
   "cell_type": "code",
   "execution_count": 48,
   "metadata": {},
   "outputs": [
    {
     "data": {
      "text/plain": [
       "<seaborn.axisgrid.JointGrid at 0x2b2c3ecf708>"
      ]
     },
     "execution_count": 48,
     "metadata": {},
     "output_type": "execute_result"
    },
    {
     "data": {
      "image/png": "[encoded data removed]",
      "text/plain": [
       "<Figure size 576x576 with 3 Axes>"
      ]
     },
     "metadata": {},
     "output_type": "display_data"
    }
   ],
   "source": [
    "sns.jointplot(x='age', y='weight(kg)', data=df, height=8, kind='kde', cmap='rocket')"
   ]
  },
  {
   "cell_type": "code",
   "execution_count": 49,
   "metadata": {},
   "outputs": [
    {
     "data": {
      "text/plain": [
       "<seaborn.axisgrid.JointGrid at 0x2b2c42d0cc8>"
      ]
     },
     "execution_count": 49,
     "metadata": {},
     "output_type": "execute_result"
    },
    {
     "data": {
      "image/png": "[encoded data removed]",
      "text/plain": [
       "<Figure size 576x576 with 3 Axes>"
      ]
     },
     "metadata": {},
     "output_type": "display_data"
    }
   ],
   "source": [
    "sns.jointplot(x='age', y='spend_A', data=df, height=8, kind='kde', cmap='rocket')"
   ]
  },
  {
   "cell_type": "code",
   "execution_count": 50,
   "metadata": {},
   "outputs": [
    {
     "data": {
      "text/plain": [
       "<matplotlib.axes._subplots.AxesSubplot at 0x2b2c4695848>"
      ]
     },
     "execution_count": 50,
     "metadata": {},
     "output_type": "execute_result"
    },
    {
     "data": {
      "image/png": "[encoded data removed]",
      "text/plain": [
       "<Figure size 720x720 with 1 Axes>"
      ]
     },
     "metadata": {},
     "output_type": "display_data"
    }
   ],
   "source": [
    "sns.boxplot(x='sex', y='age', data=df, palette='viridis')\n",
    "# sns.violinplot(x='sex', y='age', data=df, palette='viridis')\n",
    "# sns.stripplot(x='sex', y='age', data=df, palette='viridis')\n",
    "# sns.swarmplot(x='sex', y='age', data=df, palette='viridis')"
   ]
  },
  {
   "cell_type": "code",
   "execution_count": 51,
   "metadata": {},
   "outputs": [
    {
     "data": {
      "text/plain": [
       "<matplotlib.axes._subplots.AxesSubplot at 0x2b2c46b9208>"
      ]
     },
     "execution_count": 51,
     "metadata": {},
     "output_type": "execute_result"
    },
    {
     "data": {
      "image/png": "[encoded data removed]",
      "text/plain": [
       "<Figure size 720x720 with 1 Axes>"
      ]
     },
     "metadata": {},
     "output_type": "display_data"
    }
   ],
   "source": [
    "sns.boxplot(x='section', y='age', data=df, palette='viridis')\n",
    "# sns.violinplot(x='section', y='age', data=df, palette='viridis')\n",
    "# sns.stripplot(x='section', y='age', data=df, palette='viridis')\n",
    "# sns.swarmplot(x='section', y='age', data=df, palette='viridis')"
   ]
  },
  {
   "cell_type": "code",
   "execution_count": 52,
   "metadata": {},
   "outputs": [
    {
     "data": {
      "text/plain": [
       "<matplotlib.axes._subplots.AxesSubplot at 0x2b2c48953c8>"
      ]
     },
     "execution_count": 52,
     "metadata": {},
     "output_type": "execute_result"
    },
    {
     "data": {
      "image/png": "[encoded data removed]",
      "text/plain": [
       "<Figure size 720x720 with 1 Axes>"
      ]
     },
     "metadata": {},
     "output_type": "display_data"
    }
   ],
   "source": [
    "sns.boxplot(x='sex', y='weight(kg)', data=df, palette='viridis')"
   ]
  },
  {
   "cell_type": "code",
   "execution_count": 53,
   "metadata": {},
   "outputs": [
    {
     "data": {
      "text/plain": [
       "<matplotlib.axes._subplots.AxesSubplot at 0x2b2c4953908>"
      ]
     },
     "execution_count": 53,
     "metadata": {},
     "output_type": "execute_result"
    },
    {
     "data": {
      "image/png": "[encoded data removed]",
      "text/plain": [
       "<Figure size 720x720 with 1 Axes>"
      ]
     },
     "metadata": {},
     "output_type": "display_data"
    }
   ],
   "source": [
    "# sns.barplot(x='sex', y='weight(kg)', data=df, palette='viridis')\n",
    "# sns.barplot(x='sex', y='weight(kg)', data=df, estimator=np.max, palette='viridis')\n",
    "# sns.barplot(x='sex', y='weight(kg)', data=df, estimator=np.min, palette='viridis')\n",
    "# sns.barplot(x='sex', y='weight(kg)', data=df, estimator=np.std, palette='viridis')\n",
    "sns.barplot(x='sex', y='weight(kg)', data=df, estimator=np.median, palette='viridis')"
   ]
  },
  {
   "cell_type": "code",
   "execution_count": 54,
   "metadata": {},
   "outputs": [
    {
     "data": {
      "text/plain": [
       "<seaborn.axisgrid.FacetGrid at 0x2b2c49a0cc8>"
      ]
     },
     "execution_count": 54,
     "metadata": {},
     "output_type": "execute_result"
    },
    {
     "data": {
      "image/png": "[encoded data removed]",
      "text/plain": [
       "<Figure size 576x576 with 1 Axes>"
      ]
     },
     "metadata": {},
     "output_type": "display_data"
    }
   ],
   "source": [
    "sns.lmplot(x='spend_A', y='spend_B', data=df, height=8)"
   ]
  },
  {
   "cell_type": "code",
   "execution_count": 59,
   "metadata": {
    "scrolled": false
   },
   "outputs": [
    {
     "data": {
      "text/plain": [
       "<seaborn.axisgrid.FacetGrid at 0x2b2c701e048>"
      ]
     },
     "execution_count": 59,
     "metadata": {},
     "output_type": "execute_result"
    },
    {
     "data": {
      "image/png": "[encoded data removed]",
      "text/plain": [
       "<Figure size 576x576 with 1 Axes>"
      ]
     },
     "metadata": {},
     "output_type": "display_data"
    }
   ],
   "source": [
    "sns.lmplot(x='age', y='spend_B', data=df, height=8)"
   ]
  },
  {
   "cell_type": "code",
   "execution_count": 60,
   "metadata": {},
   "outputs": [
    {
     "data": {
      "text/plain": [
       "<seaborn.axisgrid.FacetGrid at 0x2b2c63dda08>"
      ]
     },
     "execution_count": 60,
     "metadata": {},
     "output_type": "execute_result"
    },
    {
     "data": {
      "image/png": "[encoded data removed]",
      "text/plain": [
       "<Figure size 576x576 with 1 Axes>"
      ]
     },
     "metadata": {},
     "output_type": "display_data"
    }
   ],
   "source": [
    "sns.lmplot(x='weight(kg)', y='height(cm)', data=df, height=8)"
   ]
  },
  {
   "cell_type": "markdown",
   "metadata": {},
   "source": [
    "# Great Work!"
   ]
  }
 ],
 "metadata": {
  "kernelspec": {
   "display_name": "Python 3",
   "language": "python",
   "name": "python3"
  },
  "language_info": {
   "codemirror_mode": {
    "name": "ipython",
    "version": 3
   },
   "file_extension": ".py",
   "mimetype": "text/x-python",
   "name": "python",
   "nbconvert_exporter": "python",
   "pygments_lexer": "ipython3",
   "version": "3.7.6"
  }
 },
 "nbformat": 4,
 "nbformat_minor": 2
}
