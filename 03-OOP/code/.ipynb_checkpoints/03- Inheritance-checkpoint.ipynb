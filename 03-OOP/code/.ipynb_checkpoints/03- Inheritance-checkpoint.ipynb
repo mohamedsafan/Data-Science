{
 "cells": [
  {
   "cell_type": "code",
   "execution_count": 1,
   "metadata": {},
   "outputs": [],
   "source": [
    "class Vehicle():\n",
    "    \n",
    "    def __init__(self, speed, fuel_type):\n",
    "        self.fuel_type = fuel_type\n",
    "        self.speed = speed\n",
    "        \n",
    "    def drive(self):\n",
    "        print('Driving with speed: ' + str(self.speed))\n",
    "        \n",
    "    def stop(self):\n",
    "        print('Stopping...')"
   ]
  },
  {
   "cell_type": "code",
   "execution_count": 2,
   "metadata": {},
   "outputs": [
    {
     "name": "stdout",
     "output_type": "stream",
     "text": [
      "180\n",
      "gasoline\n",
      "Driving with speed: 180\n",
      "Stopping...\n"
     ]
    }
   ],
   "source": [
    "hundai = Vehicle(180, 'gasoline')\n",
    "\n",
    "print(hundai.speed)\n",
    "print(hundai.fuel_type)\n",
    "hundai.drive()\n",
    "hundai.stop()"
   ]
  },
  {
   "cell_type": "code",
   "execution_count": 4,
   "metadata": {},
   "outputs": [],
   "source": [
    "class Car(Vehicle):\n",
    "    \n",
    "    def drive(self):\n",
    "        print('start with ur key and power me on')\n",
    "        \n",
    "        \n",
    "        \n",
    "class Plane(Vehicle):\n",
    "    \n",
    "    def drive(self):\n",
    "        print('Im Flying')\n",
    "    "
   ]
  },
  {
   "cell_type": "code",
   "execution_count": 5,
   "metadata": {},
   "outputs": [
    {
     "name": "stdout",
     "output_type": "stream",
     "text": [
      "100\n",
      "gasoline\n",
      "start with ur key and power me on\n",
      "Stopping...\n"
     ]
    }
   ],
   "source": [
    "mitshpishi = Car(100, 'gasoline')\n",
    "\n",
    "print(mitshpishi.speed)\n",
    "print(mitshpishi.fuel_type)\n",
    "mitshpishi.drive()\n",
    "mitshpishi.stop()"
   ]
  },
  {
   "cell_type": "code",
   "execution_count": 10,
   "metadata": {},
   "outputs": [
    {
     "name": "stdout",
     "output_type": "stream",
     "text": [
      "700\n",
      "desiel\n",
      "Im Flying\n",
      "Stopping...\n"
     ]
    }
   ],
   "source": [
    "plane1 = Plane(700, 'desiel')\n",
    "\n",
    "print(plane1.speed)\n",
    "print(plane1.fuel_type)\n",
    "plane1.drive()\n",
    "plane1.stop()"
   ]
  },
  {
   "cell_type": "code",
   "execution_count": 15,
   "metadata": {},
   "outputs": [
    {
     "name": "stdout",
     "output_type": "stream",
     "text": [
      "Im Flying\n"
     ]
    }
   ],
   "source": []
  },
  {
   "cell_type": "code",
   "execution_count": null,
   "metadata": {},
   "outputs": [],
   "source": []
  }
 ],
 "metadata": {
  "kernelspec": {
   "display_name": "Python 3",
   "language": "python",
   "name": "python3"
  },
  "language_info": {
   "codemirror_mode": {
    "name": "ipython",
    "version": 3
   },
   "file_extension": ".py",
   "mimetype": "text/x-python",
   "name": "python",
   "nbconvert_exporter": "python",
   "pygments_lexer": "ipython3",
   "version": "3.6.5"
  }
 },
 "nbformat": 4,
 "nbformat_minor": 2
}
