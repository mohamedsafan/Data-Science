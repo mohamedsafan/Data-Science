{
 "cells": [
  {
   "cell_type": "code",
   "execution_count": 10,
   "metadata": {},
   "outputs": [],
   "source": [
    "import os\n",
    "import random"
   ]
  },
  {
   "cell_type": "code",
   "execution_count": 11,
   "metadata": {
    "scrolled": false
   },
   "outputs": [
    {
     "data": {
      "text/plain": [
       "['003 Load Image.mp4',\n",
       " '005 Metadata.mp4',\n",
       " '1faf4fec-f78c-4ac6-b019-e396bb2473bf.jpg',\n",
       " '3b8cfe5c-10d9-4d26-9177-e9325d3e40ab.jpg',\n",
       " '4bed6c1e-5dc4-43e6-9d74-e658539f259d.jpg',\n",
       " 'Attack on Titan Season 3 OST - HuManity or TiTans [3Tv] by Hiroyuki Sawano (English and German S (mp3cut.net).mp3',\n",
       " 'Boruto OST 1 - Track 23 - Karetsu (Severe).mp3',\n",
       " 'cover001.png',\n",
       " 'cover002.png',\n",
       " 'cover003.png',\n",
       " 'cover048.png',\n",
       " 'cover049.png',\n",
       " 'cover050.png',\n",
       " 'Python Machine Learning Case Studies.pdf',\n",
       " 'Reinforcement Learning.pdf']"
      ]
     },
     "execution_count": 11,
     "metadata": {},
     "output_type": "execute_result"
    }
   ],
   "source": [
    "universe = os.listdir('project/universe')\n",
    "universe"
   ]
  },
  {
   "cell_type": "code",
   "execution_count": 12,
   "metadata": {},
   "outputs": [],
   "source": [
    "letters = 'abcdefghijklmnopqrstuvwxyz'"
   ]
  },
  {
   "cell_type": "code",
   "execution_count": 13,
   "metadata": {},
   "outputs": [
    {
     "data": {
      "text/plain": [
       "['n', 'e', 'g', 'w', 'v', 'f', 'v', 't', 'h', 'y']"
      ]
     },
     "execution_count": 13,
     "metadata": {},
     "output_type": "execute_result"
    }
   ],
   "source": [
    "[random.choice(letters) for i in range(10)]"
   ]
  },
  {
   "cell_type": "code",
   "execution_count": 14,
   "metadata": {},
   "outputs": [],
   "source": [
    "for element in universe:\n",
    "    extension = element.split('.')[-1]\n",
    "    if extension in ['mp3', 'jpg']:\n",
    "        continue\n",
    "    name = ''.join([random.choice(letters) for i in range(10)]) + '.' + extension\n",
    "    os.rename(f'project/universe/{element}', f'project/universe/{name}')"
   ]
  },
  {
   "cell_type": "markdown",
   "metadata": {},
   "source": [
    "# Great Work!"
   ]
  }
 ],
 "metadata": {
  "kernelspec": {
   "display_name": "Tensorflow GPU",
   "language": "python",
   "name": "tensorflow"
  },
  "language_info": {
   "codemirror_mode": {
    "name": "ipython",
    "version": 3
   },
   "file_extension": ".py",
   "mimetype": "text/x-python",
   "name": "python",
   "nbconvert_exporter": "python",
   "pygments_lexer": "ipython3",
   "version": "3.7.6"
  }
 },
 "nbformat": 4,
 "nbformat_minor": 4
}
