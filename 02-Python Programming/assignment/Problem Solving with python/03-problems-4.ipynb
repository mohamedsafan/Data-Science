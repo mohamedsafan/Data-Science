{
 "cells": [
  {
   "cell_type": "markdown",
   "metadata": {},
   "source": [
    "## 81 Write a Python program to randomly generate a list with 10 even numbers between 1 and 100 inclusive.\n",
    "\n"
   ]
  },
  {
   "cell_type": "code",
   "execution_count": null,
   "metadata": {},
   "outputs": [],
   "source": [
    "import random\n",
    "print(random.sample([i for i in range(1,100) if i%2==0], 10))\n"
   ]
  },
  {
   "cell_type": "markdown",
   "metadata": {},
   "source": [
    "## 82 Write a Python program to calculate the median from a list of numbers.\n",
    "\n"
   ]
  },
  {
   "cell_type": "code",
   "execution_count": null,
   "metadata": {},
   "outputs": [],
   "source": [
    "def cal_median(nums):\n",
    "  nums.sort()\n",
    "  n = len(nums)\n",
    "  m = n // 2\n",
    "  if n % 2 == 0:\n",
    "    return (nums[m - 1] + nums[m]) / 2\n",
    "  else:\n",
    "    return nums[m]\n",
    "print(cal_median([1,2,3,4,5]))\n",
    "print(cal_median([1,2,3,4,5,6]))\n",
    "print(cal_median([6,1,2,4,5,3]))\n",
    "print(cal_median([1.0,2.11,3.3,4.2,5.22,6.55]))\n",
    "print(cal_median([1.0,2.11,3.3,4.2,5.22]))\n",
    "print(cal_median([2.0,12.11,22.3,24.12,55.22]))\n"
   ]
  },
  {
   "cell_type": "markdown",
   "metadata": {},
   "source": [
    "## 83 Write a Python program to test whether a given number is symmetrical or not.\n",
    "## A number is symmetrical when it is equal of its reverse.\n",
    "\n"
   ]
  },
  {
   "cell_type": "code",
   "execution_count": null,
   "metadata": {},
   "outputs": [],
   "source": [
    "def is_symmetrical_num(n):\n",
    "  return str(n) == str(n)[::-1]\n",
    "print(is_symmetrical_num(121))\n",
    "print(is_symmetrical_num(0))\n",
    "print(is_symmetrical_num(122))\n",
    "print(is_symmetrical_num(990099))\n"
   ]
  },
  {
   "cell_type": "markdown",
   "metadata": {},
   "source": [
    "## 84 Write a Python program that accept a list of numbers and create a list to store the count of negative number in first element and store the sum of positive numbers in second element. \n"
   ]
  },
  {
   "cell_type": "code",
   "execution_count": null,
   "metadata": {},
   "outputs": [],
   "source": [
    "def count_sum(nums):\n",
    "    if not nums: return []\n",
    "    return [len([n for n in nums if n < 0]), sum(n for n in nums if n > 0)]\n",
    "\n",
    "print(count_sum([1, 2, 3, 4, 5]))\n",
    "print(count_sum([-1, -2, -3, -4, -5]))\n",
    "print(count_sum([1, 2, 3, -4, -5]))\n",
    "print(count_sum([1, 2, -3, -4, -5])) \n"
   ]
  },
  {
   "cell_type": "markdown",
   "metadata": {},
   "source": [
    "## 85 Write a Python program to check whether a given string is an \"isogram\" or not.\n",
    "### An isogram (also known as a \"nonpattern word\") is a logological term for a word or phrase without a repeating letter. It is also used by some people to mean a word or phrase in which each letter appears the same number of times, not necessarily just once. Conveniently, the word itself is an isogram in both senses of the word, making it autological.\n"
   ]
  },
  {
   "cell_type": "code",
   "execution_count": null,
   "metadata": {},
   "outputs": [],
   "source": [
    "def check_isogram(str1):\n",
    "    return len(str1) == len(set(str1.lower()))\n",
    "\n",
    "print(check_isogram(\"w3resource\"))\n",
    "print(check_isogram(\"w3r\"))\n",
    "print(check_isogram(\"Python\"))\n",
    "print(check_isogram(\"Java\"))\n"
   ]
  },
  {
   "cell_type": "markdown",
   "metadata": {},
   "source": [
    "## 86 Write a Python program to count the number of equal numbers from three given integers.\n",
    "\n"
   ]
  },
  {
   "cell_type": "code",
   "execution_count": null,
   "metadata": {},
   "outputs": [],
   "source": [
    "def test_three_equal(x, y, z):\n",
    "  result= set([x, y, z])\n",
    "  if len(result)==3:\n",
    "    return 0\n",
    "  else:\n",
    "    return (4 - len(result))\n",
    "\n",
    "print(test_three_equal(1, 1, 1))\n",
    "print(test_three_equal(1, 2, 2))\n",
    "print(test_three_equal(-1, -2, -3))\n",
    "print(test_three_equal(-1, -1, -1))\n"
   ]
  },
  {
   "cell_type": "markdown",
   "metadata": {},
   "source": [
    "## 87 Write a Python program to check whether a given employee code is exactly 8 digits or 12 digits. Return True if the employee code is valid and False if it's not.\n",
    "\n"
   ]
  },
  {
   "cell_type": "code",
   "execution_count": null,
   "metadata": {},
   "outputs": [],
   "source": [
    "def is_valid_emp_code(emp_code):\n",
    "  return len(emp_code) in [8, 12] and emp_code.isdigit()\n",
    "print(is_valid_emp_code('12345678'))\n",
    "print(is_valid_emp_code('1234567j'))\n",
    "print(is_valid_emp_code('12345678j'))\n",
    "print(is_valid_emp_code('123456789123'))\n",
    "print(is_valid_emp_code('123456abcdef'))\n"
   ]
  },
  {
   "cell_type": "markdown",
   "metadata": {},
   "source": [
    "## 88 Write a Python program that accept two strings and test if the letters in the second string are present in the first string.\n",
    "\n"
   ]
  },
  {
   "cell_type": "code",
   "execution_count": null,
   "metadata": {},
   "outputs": [],
   "source": [
    "def string_letter_check(list_data):\n",
    "  return all([char in list_data[0].lower() for char in list_data[1].lower()])\n",
    "print(string_letter_check([\"python\", \"ypth\"]))\n",
    "print(string_letter_check([\"python\", \"ypths\"]))\n",
    "print(string_letter_check([\"python\", \"ypthon\"]))\n",
    "print(string_letter_check([\"123456\", \"01234\"]))\n",
    "print(string_letter_check([\"123456\", \"1234\"]))\n"
   ]
  },
  {
   "cell_type": "markdown",
   "metadata": {},
   "source": [
    "## 89 Write a Python program to compute the sum of the three lowest positive numbers from a given list of numbers.\n",
    "\n"
   ]
  },
  {
   "cell_type": "code",
   "execution_count": null,
   "metadata": {},
   "outputs": [],
   "source": [
    "def summ(lst):\n",
    "    return sum(sorted([x for x in lst if x >0])[:3])\n",
    "summ([2,9,15,4,3,19,8])"
   ]
  },
  {
   "cell_type": "markdown",
   "metadata": {},
   "source": [
    "## 90 Write a Python program to replace all but the last five characters of a given string into \"*\" and returns the new masked string.\n",
    "\n"
   ]
  },
  {
   "cell_type": "code",
   "execution_count": null,
   "metadata": {},
   "outputs": [],
   "source": [
    "def mask_string(str1):\n",
    "  return '*'*(len(str1)-5) + str1[-5:]\n",
    "\n",
    "print(mask_string(\"kdi39323swe\"))\n",
    "print(mask_string(\"12345abcdef\"))\n",
    "print(mask_string(\"12345\")) \n",
    "\n"
   ]
  },
  {
   "cell_type": "markdown",
   "metadata": {},
   "source": [
    "## 92 Write a Python program to compute cumulative sum of numbers of a given list.\n",
    "### Note: Cumulative sum = sum of itself + all previous numbers in the said list.\n",
    "\n"
   ]
  },
  {
   "cell_type": "code",
   "execution_count": null,
   "metadata": {},
   "outputs": [],
   "source": [
    "def nums_cumulative_sum(nums_list):\n",
    "  return [sum(nums_list[:i+1]) for i in range(len(nums_list))]\n",
    "\n",
    "print(nums_cumulative_sum([10, 20, 30, 40, 50, 60, 7]))\n",
    "print(nums_cumulative_sum([1, 2, 3, 4, 5]))\n",
    "print(nums_cumulative_sum([0, 1, 2, 3, 4, 5]))\n"
   ]
  },
  {
   "cell_type": "markdown",
   "metadata": {},
   "source": [
    "## 93 Write a Python program to find the middle character(s) of a given string. If the length of the string is odd return the middle character and return the middle two characters if the string length is even.\n",
    "\n"
   ]
  },
  {
   "cell_type": "code",
   "execution_count": null,
   "metadata": {},
   "outputs": [],
   "source": [
    "def middle_char(txt):\n",
    "   return txt[(len(txt)-1)//2:(len(txt)+2)//2]\n",
    "print(middle_char(\"Python\"))\n",
    "print(middle_char(\"PHP\"))\n",
    "print(middle_char(\"Java\"))\n"
   ]
  },
  {
   "cell_type": "code",
   "execution_count": null,
   "metadata": {},
   "outputs": [],
   "source": [
    "def middle_character(s):\n",
    "    g = int((len(s) - 1)/2)\n",
    "    h = int(len(s)/2)\n",
    "    \n",
    "    if len(s)%2 != 0: return s[g]\n",
    "    else: return s[h-1] + s[h]\n",
    "\n",
    "print(middle_character('spaghetti'))\n",
    "print(middle_character('date'))"
   ]
  },
  {
   "cell_type": "markdown",
   "metadata": {},
   "source": [
    "## 94 Write a Python program to find the largest product of the pair of adjacent elements from a given list of integers.\n",
    "\n"
   ]
  },
  {
   "cell_type": "code",
   "execution_count": 1,
   "metadata": {},
   "outputs": [
    {
     "name": "stdout",
     "output_type": "stream",
     "text": [
      "30\n",
      "20\n",
      "6\n"
     ]
    }
   ],
   "source": [
    "def adjacent_num_product(list_nums):\n",
    "    return max(a*b for a, b in zip(list_nums, list_nums[1:]))\n",
    "print(adjacent_num_product([1,2,3,4,5,6]))\n",
    "print(adjacent_num_product([1,2,3,4,5]))\n",
    "print(adjacent_num_product([2,3]))\n"
   ]
  },
  {
   "cell_type": "markdown",
   "metadata": {},
   "source": [
    "## 95 Write a Python program to check whether every even index contains an even number and every odd index contains odd number of a given list.\n",
    "\n"
   ]
  },
  {
   "cell_type": "code",
   "execution_count": 6,
   "metadata": {},
   "outputs": [
    {
     "name": "stdout",
     "output_type": "stream",
     "text": [
      "True\n",
      "False\n",
      "True\n"
     ]
    }
   ],
   "source": [
    "def odd_even_position(nums):\n",
    "\treturn all(nums[i]%2==i%2 for i in range(len(nums)))\n",
    "print(odd_even_position([2, 1, 4, 3, 6, 7, 6, 3]))\n",
    "print(odd_even_position([2, 1, 4, 3, 6, 7, 6, 4]))\n",
    "print(odd_even_position([4, 1, 2]))\n"
   ]
  },
  {
   "cell_type": "markdown",
   "metadata": {},
   "source": [
    "## 96 Write a Python program to check whether a given number is a narcissistic number or not.\n",
    "\n"
   ]
  },
  {
   "cell_type": "code",
   "execution_count": 7,
   "metadata": {},
   "outputs": [
    {
     "name": "stdout",
     "output_type": "stream",
     "text": [
      "True\n",
      "True\n",
      "True\n",
      "False\n",
      "True\n",
      "True\n",
      "True\n",
      "False\n"
     ]
    }
   ],
   "source": [
    "def is_narcissistic_num(num):\n",
    "\treturn num == sum([int(x) ** len(str(num)) for x in str(num)])\n",
    "\n",
    "print(is_narcissistic_num(153))\n",
    "print(is_narcissistic_num(370))\n",
    "print(is_narcissistic_num(407))\n",
    "print(is_narcissistic_num(409))\n",
    "print(is_narcissistic_num(1634))\n",
    "print(is_narcissistic_num(8208))\n",
    "print(is_narcissistic_num(9474))\n",
    "print(is_narcissistic_num(9475))\n"
   ]
  },
  {
   "cell_type": "markdown",
   "metadata": {},
   "source": [
    "## 97 Write a Python program to find the highest and lowest number from a given string of space separated integers.\n",
    "\n"
   ]
  },
  {
   "cell_type": "code",
   "execution_count": 8,
   "metadata": {},
   "outputs": [
    {
     "name": "stdout",
     "output_type": "stream",
     "text": [
      "(77, 0)\n",
      "(0, -77)\n",
      "(0, 0)\n"
     ]
    }
   ],
   "source": [
    "def highest_lowest_num(str1):\n",
    "  num_list = list(map(int, str1.split()))\n",
    "  return max(num_list), min(num_list)\n",
    "\n",
    "print(highest_lowest_num(\"1 4 5 77 9 0\"))\n",
    "print(highest_lowest_num(\"-1 -4 -5 -77 -9 0\"))\n",
    "print(highest_lowest_num(\"0 0\"))\n"
   ]
  },
  {
   "cell_type": "markdown",
   "metadata": {},
   "source": [
    "## 98 Write a Python program to check whether a sequence of numbers has an increasing trend or not.\n",
    "\n"
   ]
  },
  {
   "cell_type": "code",
   "execution_count": 9,
   "metadata": {},
   "outputs": [
    {
     "name": "stdout",
     "output_type": "stream",
     "text": [
      "True\n",
      "False\n",
      "False\n",
      "True\n",
      "False\n"
     ]
    }
   ],
   "source": [
    "def increasing_trend(nums):\n",
    "    if (sorted(nums) == nums):\n",
    "        return True\n",
    "    else:\n",
    "        return False\n",
    "\n",
    "print(increasing_trend([1,2,3,4]))\n",
    "print(increasing_trend([1,2,5,3,4]))\n",
    "print(increasing_trend([-1,-2,-3,-4]))\n",
    "print(increasing_trend([-4,-3,-2,-1]))\n",
    "print(increasing_trend([1,2,3,4,0]))\n"
   ]
  },
  {
   "cell_type": "markdown",
   "metadata": {},
   "source": [
    "## 99 Write a Python program to find the position of the second occurrence of a given string in another given string. If there is no such string return -1.\n",
    "\n"
   ]
  },
  {
   "cell_type": "code",
   "execution_count": 10,
   "metadata": {},
   "outputs": [
    {
     "name": "stdout",
     "output_type": "stream",
     "text": [
      "-1\n",
      "31\n"
     ]
    }
   ],
   "source": [
    "def find_string(txt, str1):\n",
    "\treturn txt.find(str1, txt.find(str1)+1)\n",
    "\n",
    "print(find_string(\"The quick brown fox jumps over the lazy dog\", \"the\"))\n",
    "print(find_string(\"the quick brown fox jumps over the lazy dog\", \"the\"))\n"
   ]
  },
  {
   "cell_type": "markdown",
   "metadata": {},
   "source": [
    "## 100 Write a Python program to compute the sum of all items of a given array of integers where each integer is multiplied by its index. Return 0 if there is no number.\n",
    "\n"
   ]
  },
  {
   "cell_type": "code",
   "execution_count": 11,
   "metadata": {},
   "outputs": [
    {
     "name": "stdout",
     "output_type": "stream",
     "text": [
      "20\n",
      "-20\n",
      "0\n"
     ]
    }
   ],
   "source": [
    "def sum_index_multiplier(nums):\n",
    "\treturn sum(j*i for i, j in enumerate(nums))\n",
    "\n",
    "print(sum_index_multiplier([1,2,3,4]))\n",
    "print(sum_index_multiplier([-1,-2,-3,-4]))\n",
    "print(sum_index_multiplier([]))\n"
   ]
  },
  {
   "cell_type": "markdown",
   "metadata": {},
   "source": [
    "## 101 Write a Python program to find the name of the oldest student from a given dictionary containing the names and ages of a group of students.\n",
    "\n"
   ]
  },
  {
   "cell_type": "code",
   "execution_count": 1,
   "metadata": {},
   "outputs": [
    {
     "name": "stdout",
     "output_type": "stream",
     "text": [
      "Nidia Dominique\n",
      "Becki Saunder\n"
     ]
    }
   ],
   "source": [
    "def oldest_student(students):\n",
    "\treturn max(students, key=students.get)\n",
    "\n",
    "print(oldest_student({\"Bernita Ahner\": 12, \"Kristie Marsico\": 11, \n",
    "                      \"Sara Pardee\": 14, \"Fallon Fabiano\": 11, \n",
    "                      \"Nidia Dominique\": 15})) \n",
    "print(oldest_student({\"Nilda Woodside\": 12, \"Jackelyn Pineda\": 12.2, \n",
    "                      \"Sofia Park\": 12.4, \"Joannie Archibald\": 12.6, \n",
    "                      \"Becki Saunder\": 12.7})) \n"
   ]
  },
  {
   "cell_type": "markdown",
   "metadata": {},
   "source": [
    "## 102. Write a Python program to create a new string with no duplicate consecutive letters from a given string. \n"
   ]
  },
  {
   "cell_type": "code",
   "execution_count": 2,
   "metadata": {},
   "outputs": [
    {
     "name": "stdout",
     "output_type": "stream",
     "text": [
      "PYTHON\n",
      "Python\n",
      "Java\n",
      "PHP\n"
     ]
    }
   ],
   "source": [
    "def no_consecutive_letters (txt):\n",
    "    return txt[0] + ''.join(txt[i] for i in range(1,len(txt)) if txt[i] != txt[i-1])\n",
    "\n",
    "print(no_consecutive_letters(\"PPYYYTTHON\"))\n",
    "print(no_consecutive_letters(\"PPyyythonnn\"))\n",
    "print(no_consecutive_letters(\"Java\"))\n",
    "print(no_consecutive_letters(\"PPPHHHPPP\")) \n"
   ]
  },
  {
   "cell_type": "markdown",
   "metadata": {},
   "source": [
    "## 103. Write a Python program to check whether two given lines are parallel or not.\n"
   ]
  },
  {
   "cell_type": "code",
   "execution_count": 3,
   "metadata": {},
   "outputs": [
    {
     "name": "stdout",
     "output_type": "stream",
     "text": [
      "True\n",
      "False\n"
     ]
    }
   ],
   "source": [
    "def parallel_lines(line1, line2):\n",
    "  return line1[0]/line1[1] == line2[0]/line2[1]\n",
    "#2x + 3y = 4, 2x + 3y = 8\n",
    "print(parallel_lines([2,3,4], [2,3,8]))\n",
    "#2x + 3y = 4, 4x - 3y = 8\n",
    "print(parallel_lines([2,3,4], [4,-3,8])) \n"
   ]
  },
  {
   "cell_type": "markdown",
   "metadata": {},
   "source": [
    "## 104 Write a Python program to create a list of the accumulating sum from a given list.\n",
    "\n"
   ]
  },
  {
   "cell_type": "code",
   "execution_count": 4,
   "metadata": {},
   "outputs": [
    {
     "name": "stdout",
     "output_type": "stream",
     "text": [
      "[1, 3, 6, 10, 15]\n",
      "[-1, -3, -6, -10, -15]\n",
      "[2, 6, 12, 20, 30]\n"
     ]
    }
   ],
   "source": [
    "def accumulating_sum_list(nums):\n",
    "\treturn [sum(nums[:i+1]) for i in range(len(nums))]\n",
    "\n",
    "print(accumulating_sum_list([1,2,3,4,5]))\n",
    "print(accumulating_sum_list([-1,-2,-3,-4,-5]))\n",
    "print(accumulating_sum_list([2,4,6,8,10]))\n"
   ]
  },
  {
   "cell_type": "markdown",
   "metadata": {},
   "source": [
    "## 105 Write a Python program to check whether a given sequence is linear, quadratic or cubic.\n",
    "\n"
   ]
  },
  {
   "cell_type": "code",
   "execution_count": 5,
   "metadata": {},
   "outputs": [
    {
     "name": "stdout",
     "output_type": "stream",
     "text": [
      "Linear Sequence\n",
      "Quadratic Sequence\n",
      "Cubic Sequence\n",
      "Linear Sequence\n"
     ]
    }
   ],
   "source": [
    "def Seq_Linear_Quadratic_Cubic(seq_nums):\n",
    "  seq_nums = [seq_nums[x] - seq_nums[x-1] for x in range(1, len(seq_nums))]\n",
    "  if len(set(seq_nums)) == 1: return \"Linear Sequence\"\n",
    "  seq_nums = [seq_nums[x] - seq_nums[x-1] for x in range(1, len(seq_nums))]\n",
    "  if len(set(seq_nums)) == 1: return \"Quadratic Sequence\"\n",
    "  seq_nums = [seq_nums[x] - seq_nums[x-1] for x in range(1, len(seq_nums))]\n",
    "  if len(set(seq_nums)) == 1: return \"Cubic Sequence\"\n",
    "  \n",
    "print(Seq_Linear_Quadratic_Cubic([0,2,4,6,8,10]))\n",
    "print(Seq_Linear_Quadratic_Cubic([1,4,9,16,25]))\n",
    "print(Seq_Linear_Quadratic_Cubic([0,12,10,0,-12,-20]))\n",
    "print(Seq_Linear_Quadratic_Cubic([1,2,3,4,5]))\n"
   ]
  },
  {
   "cell_type": "markdown",
   "metadata": {},
   "source": [
    "## 106 Write a Python program to test whether a given integer is pandigital number or not.\n",
    "\n"
   ]
  },
  {
   "cell_type": "code",
   "execution_count": 1,
   "metadata": {},
   "outputs": [
    {
     "name": "stdout",
     "output_type": "stream",
     "text": [
      "True\n",
      "True\n",
      "True\n",
      "True\n",
      "False\n"
     ]
    }
   ],
   "source": [
    "def is_pandigital_num(n):\n",
    "    return len(set(str(n))) == 10\n",
    "print(is_pandigital_num(1023456897))\n",
    "print(is_pandigital_num(1023456798))\n",
    "print(is_pandigital_num(1023457689))\n",
    "print(is_pandigital_num(1023456789))\n",
    "print(is_pandigital_num(102345679))"
   ]
  },
  {
   "cell_type": "markdown",
   "metadata": {},
   "source": [
    "## 107 Write a Python program to check whether a given number is Oddish or Evenish.\n",
    "\n"
   ]
  },
  {
   "cell_type": "code",
   "execution_count": 2,
   "metadata": {},
   "outputs": [
    {
     "name": "stdout",
     "output_type": "stream",
     "text": [
      "Oddish\n",
      "Evenish\n",
      "Oddish\n",
      "Evenish\n",
      "Oddish\n"
     ]
    }
   ],
   "source": [
    "def oddish_evenish_num(n):\n",
    "\treturn 'Oddish' if sum(map(int, str(n))) % 2 else 'Evenish'\n",
    "print(oddish_evenish_num(120))\n",
    "print(oddish_evenish_num(321))\n",
    "print(oddish_evenish_num(43))\n",
    "print(oddish_evenish_num(4433))\n",
    "print(oddish_evenish_num(373))\n"
   ]
  },
  {
   "cell_type": "markdown",
   "metadata": {},
   "source": [
    "## 108. Write a Python program that takes three integers and check whether the last digit of first number * the last digit of second number = the last digit of third number. \n"
   ]
  },
  {
   "cell_type": "code",
   "execution_count": 3,
   "metadata": {},
   "outputs": [
    {
     "name": "stdout",
     "output_type": "stream",
     "text": [
      "True\n",
      "True\n",
      "True\n",
      "False\n",
      "False\n"
     ]
    }
   ],
   "source": [
    "def check_last_digit(x, y, z):\n",
    "  return str(x*y)[-1] == str(z)[-1]\n",
    "\n",
    "print(check_last_digit(12, 22, 44))\n",
    "print(check_last_digit(145, 122, 1010))\n",
    "print(check_last_digit(0, 22, 40))\n",
    "print(check_last_digit(1, 22, 40))\n",
    "print(check_last_digit(145, 122, 101))\n"
   ]
  },
  {
   "cell_type": "markdown",
   "metadata": {},
   "source": [
    "## 109. Write a Python program find the indices of all occurrences of a given item in a given list. \n"
   ]
  },
  {
   "cell_type": "code",
   "execution_count": 4,
   "metadata": {},
   "outputs": [
    {
     "name": "stdout",
     "output_type": "stream",
     "text": [
      "[1, 5]\n",
      "[0, 3, 7, 8]\n",
      "[3, 6]\n"
     ]
    }
   ],
   "source": [
    "def indices_in_list(nums_list, n):\n",
    "\treturn [idx for idx, i in enumerate(nums_list) if i == n]\n",
    "print(indices_in_list([1,2,3,4,5,2], 2))\n",
    "print(indices_in_list([3,1,2,3,4,5,6,3,3], 3))\n",
    "print(indices_in_list([1,2,3,-4,5,2,-4], -4))\n"
   ]
  },
  {
   "cell_type": "markdown",
   "metadata": {},
   "source": [
    "## 110 Write a Python program to remove two duplicate numbers from a given number of list. \n"
   ]
  },
  {
   "cell_type": "code",
   "execution_count": 7,
   "metadata": {},
   "outputs": [
    {
     "name": "stdout",
     "output_type": "stream",
     "text": [
      "[1, 4, 5]\n"
     ]
    }
   ],
   "source": [
    "def two_unique_nums(nums):\n",
    "  return [i for i in nums if nums.count(i)==1]\n",
    "print(two_unique_nums([1,2,3,2,3,4,5]))"
   ]
  },
  {
   "cell_type": "markdown",
   "metadata": {},
   "source": [
    "## 111 Write a Python program to check whether two given circles (given center (x,y) and radius) are intersecting. Return true for intersecting otherwise false.\n",
    "\n"
   ]
  },
  {
   "cell_type": "code",
   "execution_count": 8,
   "metadata": {},
   "outputs": [
    {
     "name": "stdout",
     "output_type": "stream",
     "text": [
      "True\n",
      "False\n"
     ]
    }
   ],
   "source": [
    "def is_circle_collision(circle1, circle2):\n",
    "   x1, y1, r1 = circle1\n",
    "   x2, y2, r2 = circle2\n",
    "   distance = ((x1-x2)**2 + (y1-y2)**2)**0.5\n",
    "   return distance <= r1 + r2\n",
    "print(is_circle_collision([1,2, 4], [1,2, 8]))\n",
    "print(is_circle_collision([0,0, 2], [10,10, 5]))\n"
   ]
  },
  {
   "cell_type": "markdown",
   "metadata": {},
   "source": [
    "## 112. Write a Python program to compute the digit distance between two integers. \n",
    "### The digit distance between two numbers is the absolute value of the difference of those numbers.\n",
    "### For example, the distance between 3 and -3 on the number line given by the |3 - (-3) | = |3 + 3 | = 6 units\n"
   ]
  },
  {
   "cell_type": "code",
   "execution_count": 9,
   "metadata": {},
   "outputs": [
    {
     "name": "stdout",
     "output_type": "stream",
     "text": [
      "7\n",
      "6\n",
      "1\n",
      "11\n"
     ]
    }
   ],
   "source": [
    "def digit_distance_nums(n1, n2):\n",
    "         return sum(map(int,str(abs(n1-n2))))\n",
    "print(digit_distance_nums(123, 256))\n",
    "print(digit_distance_nums(23, 56))\n",
    "print(digit_distance_nums(1, 2))\n",
    "print(digit_distance_nums(24232, 45645))\n"
   ]
  },
  {
   "cell_type": "markdown",
   "metadata": {},
   "source": [
    "## 113 Write a Python program to reverse all the words which have even length.\n",
    "\n"
   ]
  },
  {
   "cell_type": "code",
   "execution_count": 10,
   "metadata": {},
   "outputs": [
    {
     "name": "stdout",
     "output_type": "stream",
     "text": [
      "The quick brown fox jumps revo the yzal dog\n",
      "nohtyP Exercises\n"
     ]
    }
   ],
   "source": [
    "def reverse_even(txt):\n",
    "         return ' '.join(i[::-1] if not len(i)%2 else i for i in txt.split())\n",
    "print(reverse_even(\"The quick brown fox jumps over the lazy dog\"))\n",
    "print(reverse_even(\"Python Exercises\"))\n"
   ]
  },
  {
   "cell_type": "markdown",
   "metadata": {},
   "source": [
    "## 114. Write a Python program to print letters from the English alphabet from a-z and A-Z.\n"
   ]
  },
  {
   "cell_type": "code",
   "execution_count": 11,
   "metadata": {},
   "outputs": [
    {
     "name": "stdout",
     "output_type": "stream",
     "text": [
      "Alphabet from a-z:\n",
      "a b c d e f g h i j k l m n o p q r s t u v w x y z \n",
      "Alphabet from A-Z:\n",
      "A B C D E F G H I J K L M N O P Q R S T U V W X Y Z "
     ]
    }
   ],
   "source": [
    "import string\n",
    "print(\"Alphabet from a-z:\")\n",
    "for letter in string.ascii_lowercase:\n",
    "   print(letter, end =\" \")\n",
    "print(\"\\nAlphabet from A-Z:\")\n",
    "for letter in string.ascii_uppercase:\n",
    "   print(letter, end =\" \")\n"
   ]
  },
  {
   "cell_type": "markdown",
   "metadata": {},
   "source": [
    "## 115 Write a Python program to generate and prints a list of numbers from 1 to 10.\n",
    "\n"
   ]
  },
  {
   "cell_type": "code",
   "execution_count": 12,
   "metadata": {},
   "outputs": [
    {
     "name": "stdout",
     "output_type": "stream",
     "text": [
      "[1, 2, 3, 4, 5, 6, 7, 8, 9]\n",
      "['1', '2', '3', '4', '5', '6', '7', '8', '9']\n"
     ]
    }
   ],
   "source": [
    "nums = range(1,10)\n",
    "print(list(nums))\n",
    "print(list(map(str, nums)))\n"
   ]
  },
  {
   "cell_type": "markdown",
   "metadata": {},
   "source": [
    "## 116. Write a Python program to identify nonprime numbers between 1 to 100 (integers). Print the nonprime numbers. \n"
   ]
  },
  {
   "cell_type": "code",
   "execution_count": 13,
   "metadata": {},
   "outputs": [
    {
     "name": "stdout",
     "output_type": "stream",
     "text": [
      "Nonprime numbers between 1 to 100:\n",
      "4\n",
      "6\n",
      "8\n",
      "9\n",
      "10\n",
      "12\n",
      "14\n",
      "15\n",
      "16\n",
      "18\n",
      "20\n",
      "21\n",
      "22\n",
      "24\n",
      "25\n",
      "26\n",
      "27\n",
      "28\n",
      "30\n",
      "32\n",
      "33\n",
      "34\n",
      "35\n",
      "36\n",
      "38\n",
      "39\n",
      "40\n",
      "42\n",
      "44\n",
      "45\n",
      "46\n",
      "48\n",
      "49\n",
      "50\n",
      "51\n",
      "52\n",
      "54\n",
      "55\n",
      "56\n",
      "57\n",
      "58\n",
      "60\n",
      "62\n",
      "63\n",
      "64\n",
      "65\n",
      "66\n",
      "68\n",
      "69\n",
      "70\n",
      "72\n",
      "74\n",
      "75\n",
      "76\n",
      "77\n",
      "78\n",
      "80\n",
      "81\n",
      "82\n",
      "84\n",
      "85\n",
      "86\n",
      "87\n",
      "88\n",
      "90\n",
      "91\n",
      "92\n",
      "93\n",
      "94\n",
      "95\n",
      "96\n",
      "98\n",
      "99\n",
      "100\n"
     ]
    }
   ],
   "source": [
    "import math\n",
    "def is_not_prime(n):\n",
    "    ans = False\n",
    "    for i in range(2, int(math.sqrt(n)) + 1):\n",
    "        if n % i == 0:\n",
    "            ans = True\n",
    "    return ans\n",
    "print(\"Nonprime numbers between 1 to 100:\")\n",
    "for x in filter(is_not_prime, range(1, 101)):\n",
    "    print(x)\n"
   ]
  },
  {
   "cell_type": "markdown",
   "metadata": {},
   "source": [
    "## 117. Write a Python program to make a request to a web page, and test the status code, also display the html code of the specified web page. \n"
   ]
  },
  {
   "cell_type": "code",
   "execution_count": 14,
   "metadata": {},
   "outputs": [
    {
     "name": "stdout",
     "output_type": "stream",
     "text": [
      "Web page status:  <Response [200]>\n",
      "\n",
      "HTML code of the above web page:\n",
      "<!doctype html>\n",
      "<html>\n",
      "<head>\n",
      "    <title>Example Domain</title>\n",
      "\n",
      "    <meta charset=\"utf-8\" />\n",
      "    <meta http-equiv=\"Content-type\" content=\"text/html; charset=utf-8\" />\n",
      "    <meta name=\"viewport\" content=\"width=device-width, initial-scale=1\" />\n",
      "    <style type=\"text/css\">\n",
      "    body {\n",
      "        background-color: #f0f0f2;\n",
      "        margin: 0;\n",
      "        padding: 0;\n",
      "        font-family: -apple-system, system-ui, BlinkMacSystemFont, \"Segoe UI\", \"Open Sans\", \"Helvetica Neue\", Helvetica, Arial, sans-serif;\n",
      "        \n",
      "    }\n",
      "    div {\n",
      "        width: 600px;\n",
      "        margin: 5em auto;\n",
      "        padding: 2em;\n",
      "        background-color: #fdfdff;\n",
      "        border-radius: 0.5em;\n",
      "        box-shadow: 2px 3px 7px 2px rgba(0,0,0,0.02);\n",
      "    }\n",
      "    a:link, a:visited {\n",
      "        color: #38488f;\n",
      "        text-decoration: none;\n",
      "    }\n",
      "    @media (max-width: 700px) {\n",
      "        div {\n",
      "            margin: 0 auto;\n",
      "            width: auto;\n",
      "        }\n",
      "    }\n",
      "    </style>    \n",
      "</head>\n",
      "\n",
      "<body>\n",
      "<div>\n",
      "    <h1>Example Domain</h1>\n",
      "    <p>This domain is for use in illustrative examples in documents. You may use this\n",
      "    domain in literature without prior coordination or asking for permission.</p>\n",
      "    <p><a href=\"https://www.iana.org/domains/example\">More information...</a></p>\n",
      "</div>\n",
      "</body>\n",
      "</html>\n",
      "\n"
     ]
    }
   ],
   "source": [
    "import requests\n",
    "url = 'http://www.example.com/'\n",
    "headers = {'User-Agent': 'Mozilla/5.0 (Macintosh) Gecko/20100101 Firefox/38.0'}\n",
    "request = requests.get(url, headers=headers)\n",
    "print(\"Web page status: \", request)\n",
    "print(\"\\nHTML code of the above web page:\")\n",
    "if request.ok:\n",
    "    print(request.text)\n"
   ]
  },
  {
   "cell_type": "markdown",
   "metadata": {},
   "source": [
    "## 118. In multiprocessing, processes are spawned by creating a Process object. Write a Python program to show the individual process IDs (parent process, process id etc.) involved. \n"
   ]
  },
  {
   "cell_type": "code",
   "execution_count": 15,
   "metadata": {},
   "outputs": [
    {
     "name": "stdout",
     "output_type": "stream",
     "text": [
      "Main line\n",
      "module name: __main__\n",
      "parent process: 5340\n",
      "process id: 6052\n"
     ]
    }
   ],
   "source": [
    "from multiprocessing import Process\n",
    "import os\n",
    "def info(title):\n",
    "    print(title)\n",
    "    print('module name:', __name__)\n",
    "    print('parent process:', os.getppid())\n",
    "    print('process id:', os.getpid())\n",
    "def f(name):\n",
    "    info('function f')\n",
    "    print('hello', name)\n",
    "if __name__ == '__main__':\n",
    "    info('Main line')\n",
    "    p = Process(target=f, args=('bob',))\n",
    "    p.start()\n",
    "    p.join()\n"
   ]
  },
  {
   "cell_type": "markdown",
   "metadata": {},
   "source": [
    "## 119. Write a Python program to check if two given numbers are coprime or not. Return True if two numbers are coprime otherwise return false. \n"
   ]
  },
  {
   "cell_type": "code",
   "execution_count": 16,
   "metadata": {},
   "outputs": [
    {
     "name": "stdout",
     "output_type": "stream",
     "text": [
      "True\n",
      "True\n",
      "False\n",
      "False\n"
     ]
    }
   ],
   "source": [
    "def gcd(p,q):\n",
    "# Create the gcd of two positive integers.\n",
    "    while q != 0:\n",
    "        p, q = q, p%q\n",
    "    return p\n",
    "def is_coprime(x, y):\n",
    "    return gcd(x, y) == 1\n",
    "print(is_coprime(17, 13))\n",
    "print(is_coprime(17, 21))\n",
    "print(is_coprime(15, 21))\n",
    "print(is_coprime(25, 45))\n"
   ]
  },
  {
   "cell_type": "markdown",
   "metadata": {},
   "source": [
    "## 120 Write a Python program to calculate Euclid's totient function of a given integer. Use a primitive method to calculate Euclid's totient function.\n",
    "\n",
    "### In number theory, Euler's totient function counts the positive integers up to a given integer n that are relatively prime to n. It is written using the Greek letter phi as φ(n) or ϕ(n), and may also be called Euler's phi function.\n"
   ]
  },
  {
   "cell_type": "code",
   "execution_count": 17,
   "metadata": {},
   "outputs": [
    {
     "name": "stdout",
     "output_type": "stream",
     "text": [
      "4\n",
      "8\n",
      "20\n"
     ]
    }
   ],
   "source": [
    "def gcd(p,q):\n",
    "# Create the gcd of two positive integers.\n",
    "    while q != 0:\n",
    "        p, q = q, p%q\n",
    "    return p\n",
    "\n",
    "def is_coprime(x, y):\n",
    "    return gcd(x, y) == 1\n",
    "\n",
    "def phi_func(x):\n",
    "    if x == 1:\n",
    "        return 1\n",
    "    else:\n",
    "        n = [y for y in range(1,x) if is_coprime(x,y)]\n",
    "        return len(n)\n",
    "print(phi_func(10))\n",
    "print(phi_func(15))\n",
    "print(phi_func(33))\n"
   ]
  },
  {
   "cell_type": "code",
   "execution_count": null,
   "metadata": {},
   "outputs": [],
   "source": []
  }
 ],
 "metadata": {
  "kernelspec": {
   "display_name": "Python 3",
   "language": "python",
   "name": "python3"
  },
  "language_info": {
   "codemirror_mode": {
    "name": "ipython",
    "version": 3
   },
   "file_extension": ".py",
   "mimetype": "text/x-python",
   "name": "python",
   "nbconvert_exporter": "python",
   "pygments_lexer": "ipython3",
   "version": "3.7.6"
  }
 },
 "nbformat": 4,
 "nbformat_minor": 4
}
