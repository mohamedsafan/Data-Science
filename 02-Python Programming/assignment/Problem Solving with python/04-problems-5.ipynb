{
 "cells": [
  {
   "cell_type": "markdown",
   "metadata": {},
   "source": [
    "## 102 Write a Python program to get system command output.\n",
    "\n"
   ]
  },
  {
   "cell_type": "code",
   "execution_count": null,
   "metadata": {},
   "outputs": [],
   "source": [
    "import subprocess\n",
    "print(subprocess.check_output('dir',shell=True, universal_newlines=True))\n"
   ]
  },
  {
   "cell_type": "markdown",
   "metadata": {},
   "source": [
    "## 103 Write a Python program to extract the filename from a given path.\n",
    "\n"
   ]
  },
  {
   "cell_type": "code",
   "execution_count": null,
   "metadata": {},
   "outputs": [],
   "source": [
    "import os\n",
    "print(os.path.basename('C:/Users/DELL/Downloads'))\n"
   ]
  },
  {
   "cell_type": "markdown",
   "metadata": {},
   "source": [
    "## 105 Write a Python program to get the users environment.\n",
    "\n"
   ]
  },
  {
   "cell_type": "code",
   "execution_count": null,
   "metadata": {},
   "outputs": [],
   "source": [
    "import os\n",
    "os.environ"
   ]
  },
  {
   "cell_type": "markdown",
   "metadata": {},
   "source": [
    "## 109 Write a Python program to check if a number is positive, negative or zero.\n",
    "\n"
   ]
  },
  {
   "cell_type": "code",
   "execution_count": null,
   "metadata": {
    "scrolled": true
   },
   "outputs": [],
   "source": [
    "num=float(input('enter a number : '))\n",
    "print('Positive' if num > 0 else 'Zero' if num == 0 else 'Negative')"
   ]
  },
  {
   "cell_type": "markdown",
   "metadata": {},
   "source": [
    "## 110 Write a Python program to get numbers divisible by fifteen from a list using an anonymous function.\n",
    "\n"
   ]
  },
  {
   "cell_type": "code",
   "execution_count": null,
   "metadata": {},
   "outputs": [],
   "source": [
    "lst=[15,30,45,150,145,105,348,23,60]\n",
    "print([n for n in lst if n%15==0])"
   ]
  },
  {
   "cell_type": "code",
   "execution_count": null,
   "metadata": {},
   "outputs": [],
   "source": [
    "def lst(*args):\n",
    "    return [n for n in args if n%15==0]\n",
    "lst(2,5,15,45,60)"
   ]
  },
  {
   "cell_type": "code",
   "execution_count": null,
   "metadata": {},
   "outputs": [],
   "source": [
    "def myfunc(*args):\n",
    "    lista = []\n",
    "    for i in args:\n",
    "        if i % 15==0:\n",
    "            lista.append(i)\n",
    "    return lista\n",
    "myfunc(2,4,6,15,30,45,60)"
   ]
  },
  {
   "cell_type": "markdown",
   "metadata": {},
   "source": [
    "## 111 Write a Python program to make file lists from current directory using a wildcard.\n",
    "\n"
   ]
  },
  {
   "cell_type": "code",
   "execution_count": null,
   "metadata": {},
   "outputs": [],
   "source": [
    "import glob\n",
    "glob.glob('*')"
   ]
  },
  {
   "cell_type": "markdown",
   "metadata": {},
   "source": [
    "## 112 Write a Python program to remove the first item from a specified list.\n",
    "\n"
   ]
  },
  {
   "cell_type": "code",
   "execution_count": null,
   "metadata": {},
   "outputs": [],
   "source": [
    "color = [\"Red\", \"Black\", \"Green\", \"White\", \"Orange\"]\n",
    "del color[0]\n",
    "print(color)"
   ]
  },
  {
   "cell_type": "code",
   "execution_count": null,
   "metadata": {},
   "outputs": [],
   "source": [
    "color = [\"Red\", \"Black\", \"Green\", \"White\", \"Orange\"]\n",
    "print(color[1:])"
   ]
  },
  {
   "cell_type": "markdown",
   "metadata": {},
   "source": [
    "## 113 Write a Python program to input a number, if it is not a number generate an error message.\n",
    "\n"
   ]
  },
  {
   "cell_type": "code",
   "execution_count": null,
   "metadata": {},
   "outputs": [],
   "source": [
    "while True:\n",
    "    try:\n",
    "        a = int(input(\"Input a number: \"))\n",
    "        break\n",
    "    except ValueError:\n",
    "        print(\"\\nThis is not a number. Try again...\")\n",
    "        print()\n",
    "\t\t"
   ]
  },
  {
   "cell_type": "markdown",
   "metadata": {},
   "source": [
    "## 114 Write a Python program to filter the positive numbers from a list.\n",
    "\n"
   ]
  },
  {
   "cell_type": "code",
   "execution_count": null,
   "metadata": {},
   "outputs": [],
   "source": [
    "def myfunc(*args):\n",
    "    lista = []\n",
    "    for i in (args):\n",
    "        if i > 0 :\n",
    "            lista.append(i)\n",
    "    return lista\n",
    "myfunc(2,4,3,1,5,-2,-4,-4)"
   ]
  },
  {
   "cell_type": "code",
   "execution_count": null,
   "metadata": {},
   "outputs": [],
   "source": [
    "nums = [34, 1, 0, -23]\n",
    "print(\"Original numbers in the list: \",nums)\n",
    "new_nums = list(filter(lambda x: x >0, nums))\n",
    "print(\"Positive numbers in the list: \",new_nums)\n"
   ]
  },
  {
   "cell_type": "markdown",
   "metadata": {},
   "source": [
    "## 115 Write a Python program to compute the product of a list of integers (without using for loop).\n",
    "\n"
   ]
  },
  {
   "cell_type": "code",
   "execution_count": null,
   "metadata": {},
   "outputs": [],
   "source": [
    "from functools import reduce\n",
    "nums = [3, 2, 4,]\n",
    "nums_product = reduce((lambda x, y: x * y), nums)\n",
    "print(\"Product of the numbers : \",nums_product)\n"
   ]
  },
  {
   "cell_type": "markdown",
   "metadata": {},
   "source": [
    "##  116 Write a Python program to print Unicode characters.\n",
    "\n"
   ]
  },
  {
   "cell_type": "code",
   "execution_count": null,
   "metadata": {},
   "outputs": [],
   "source": [
    "ch = input('Enter character: ')\n",
    "ord(ch)"
   ]
  },
  {
   "cell_type": "markdown",
   "metadata": {},
   "source": [
    "## 117 Write a Python program to prove that two string variables of same value point same memory location.\n",
    "\n"
   ]
  },
  {
   "cell_type": "code",
   "execution_count": null,
   "metadata": {},
   "outputs": [],
   "source": [
    "str1 = \"Python\"\n",
    "str2 = \"Python\"\n",
    "print(hex(id(str1)))\n",
    "print( hex(id(str2)))"
   ]
  },
  {
   "cell_type": "markdown",
   "metadata": {},
   "source": [
    "## 118 Create bytearray from list of integers.\n"
   ]
  },
  {
   "cell_type": "code",
   "execution_count": null,
   "metadata": {},
   "outputs": [],
   "source": [
    "nums = [10,20,56,35,17,99]\n",
    "for x in nums: print(x)"
   ]
  },
  {
   "cell_type": "code",
   "execution_count": null,
   "metadata": {},
   "outputs": [],
   "source": [
    "print()\n",
    "nums = [10, 20, 56, 35, 17, 99]\n",
    "# Create bytearray from list of integers.\n",
    "values = bytearray(nums)\n",
    "for x in values: print(x)\n",
    "print()\n"
   ]
  },
  {
   "cell_type": "markdown",
   "metadata": {},
   "source": [
    "## 119 Write a Python program to display a floating number in specified numbers.\n",
    "\n"
   ]
  },
  {
   "cell_type": "code",
   "execution_count": null,
   "metadata": {
    "scrolled": true
   },
   "outputs": [],
   "source": [
    "order_amt = 212.346\n",
    "print('\\nThe total order amount comes to %f' % order_amt)\n",
    "print('The total order amount comes to %.2f' % order_amt)\n",
    "print()\n"
   ]
  },
  {
   "cell_type": "code",
   "execution_count": null,
   "metadata": {},
   "outputs": [],
   "source": [
    "l = [10, 5.3, 3, 4.8, 30]\n",
    "list(n for n in l if type(n)==float)"
   ]
  },
  {
   "cell_type": "markdown",
   "metadata": {},
   "source": [
    "## 120 Write a Python program to format a specified string to limit the number of characters to 6.\n",
    "\n"
   ]
  },
  {
   "cell_type": "code",
   "execution_count": null,
   "metadata": {},
   "outputs": [],
   "source": [
    "str_num = \"1234567890\"\n",
    "print('%.6s' % str_num)\n"
   ]
  },
  {
   "cell_type": "code",
   "execution_count": null,
   "metadata": {},
   "outputs": [],
   "source": [
    "s = input('Enter a string: ') \n",
    "print(s[:6]) "
   ]
  },
  {
   "cell_type": "markdown",
   "metadata": {},
   "source": [
    "## 122 Write a Python program to empty a variable without destroying it.\n",
    "\n"
   ]
  },
  {
   "cell_type": "code",
   "execution_count": null,
   "metadata": {},
   "outputs": [],
   "source": [
    "n = 20\n",
    "d = {\"x\":200}\n",
    "l = [1,3,5]\n",
    "t= (5,7,8)\n",
    "print(type(n)())\n",
    "print(type(d)())\n",
    "print(type(l)())\n",
    "print(type(t)()) \n"
   ]
  },
  {
   "cell_type": "markdown",
   "metadata": {},
   "source": [
    "## 123 Write a Python program to determine the largest and smallest integers, longs, floats.\n",
    "\n"
   ]
  },
  {
   "cell_type": "code",
   "execution_count": null,
   "metadata": {},
   "outputs": [],
   "source": [
    "import sys\n",
    "print(\"Float value information: \",sys.float_info)\n",
    "print(\"\\nInteger value information: \",sys.int_info)\n",
    "print(\"\\nMaximum size of an integer: \",sys.maxsize) \n"
   ]
  },
  {
   "cell_type": "markdown",
   "metadata": {},
   "source": [
    "## 126 Write a Python program to get the actual module object for a given object.\n"
   ]
  },
  {
   "cell_type": "code",
   "execution_count": null,
   "metadata": {},
   "outputs": [],
   "source": [
    "from inspect import getmodule\n",
    "from math import sqrt\n",
    "print(getmodule(sqrt))"
   ]
  },
  {
   "cell_type": "markdown",
   "metadata": {},
   "source": [
    "## 127 Write a Python program to check whether an integer fits in 64 bits.\n",
    "\n"
   ]
  },
  {
   "cell_type": "code",
   "execution_count": null,
   "metadata": {},
   "outputs": [],
   "source": [
    "int_val = 30\n",
    "if int_val.bit_length() <= 63:\n",
    "    print((-2 ** 63).bit_length())\n",
    "    print((2 ** 63).bit_length())"
   ]
  },
  {
   "cell_type": "markdown",
   "metadata": {},
   "source": [
    "## 128 Write a Python program to check whether lowercase letters exist in a string.\n",
    "\n"
   ]
  },
  {
   "cell_type": "code",
   "execution_count": null,
   "metadata": {},
   "outputs": [],
   "source": [
    "str1 = 'A8238i823acdeOUEI'\n",
    "any(c.islower() for c in str1)"
   ]
  },
  {
   "cell_type": "code",
   "execution_count": null,
   "metadata": {
    "scrolled": true
   },
   "outputs": [],
   "source": [
    "any(x.islower() for x in input('Enter a string: ') )"
   ]
  },
  {
   "cell_type": "markdown",
   "metadata": {},
   "source": [
    "## 129 Write a Python program to add trailing and leading zeroes to a string.\n",
    "\n"
   ]
  },
  {
   "cell_type": "code",
   "execution_count": null,
   "metadata": {},
   "outputs": [],
   "source": [
    "str1='122.22'\n",
    "print(\"Original String: \",str1)\n",
    "str1 = str1.ljust(10, '0')\n",
    "print(str1)\n",
    "str1 = str1.rjust(12, '-')\n",
    "print(str1)\n",
    "str1 = str1.rjust(19, ')')\n",
    "print(str1)\n"
   ]
  },
  {
   "cell_type": "markdown",
   "metadata": {},
   "source": [
    "## 130 Write a Python program to use double quotes to display strings.\n",
    "\n"
   ]
  },
  {
   "cell_type": "code",
   "execution_count": null,
   "metadata": {},
   "outputs": [],
   "source": [
    "import json\n",
    "json.dumps({'Alex': 1, 'Suresh': 2, 'Agnessa': 3})"
   ]
  },
  {
   "cell_type": "markdown",
   "metadata": {},
   "source": [
    "## 132 Write a Python program to list home directory without absolute path.\n",
    "\n"
   ]
  },
  {
   "cell_type": "code",
   "execution_count": null,
   "metadata": {},
   "outputs": [],
   "source": [
    "import os.path\n",
    "os.path.expanduser('~')"
   ]
  },
  {
   "cell_type": "markdown",
   "metadata": {},
   "source": [
    "## 133 Write a Python program to calculate the time runs (difference between start and current time)of a program.\n",
    "\n"
   ]
  },
  {
   "cell_type": "code",
   "execution_count": null,
   "metadata": {},
   "outputs": [],
   "source": [
    "from timeit import default_timer\n",
    "def timer(n):\n",
    "    start = default_timer()\n",
    "    # some code here\n",
    "    for row in range(0,n):\n",
    "        print(row)\n",
    "    print(default_timer() - start)\n",
    "\n",
    "timer(9)\n",
    "timer(15)"
   ]
  },
  {
   "cell_type": "markdown",
   "metadata": {},
   "source": [
    "## 134 Write a Python program to input two integers in a single line.\n",
    "\n"
   ]
  },
  {
   "cell_type": "code",
   "execution_count": 1,
   "metadata": {},
   "outputs": [
    {
     "name": "stdout",
     "output_type": "stream",
     "text": [
      "enter the value of x & y 77 55\n",
      "The value of x & y are:  77 55\n"
     ]
    }
   ],
   "source": [
    "x, y = map(int, input('enter the value of x & y ').split())\n",
    "print(\"The value of x & y are: \",x,y)"
   ]
  },
  {
   "cell_type": "markdown",
   "metadata": {},
   "source": [
    "## 135 Write a Python program to print a variable without spaces between values.\n",
    "\n"
   ]
  },
  {
   "cell_type": "code",
   "execution_count": null,
   "metadata": {},
   "outputs": [],
   "source": [
    "x = 30 \n",
    "print('Value of x is \"{}\"'.format(x))"
   ]
  },
  {
   "cell_type": "markdown",
   "metadata": {},
   "source": [
    "## 136 Write a Python program to find files and skip directories of a given directory.\n",
    "\n"
   ]
  },
  {
   "cell_type": "code",
   "execution_count": null,
   "metadata": {
    "scrolled": true
   },
   "outputs": [],
   "source": [
    "import os\n",
    "[f for f in os.listdir('AYMOON') if os.path.isfile(os.path.join('AYMOON', f))]"
   ]
  },
  {
   "cell_type": "markdown",
   "metadata": {},
   "source": [
    "## 137 Write a Python program to extract single key-value pair of a dictionary in variables.\n",
    "\n",
    "\n"
   ]
  },
  {
   "cell_type": "code",
   "execution_count": null,
   "metadata": {},
   "outputs": [],
   "source": [
    "d = {'Red': 'Green'}\n",
    "(c1,c2),=d.items()\n",
    "print(c1)\n",
    "print(c2)\n"
   ]
  },
  {
   "cell_type": "markdown",
   "metadata": {},
   "source": [
    "## 138 Write a Python program to convert true to 1 and false to 0.\n",
    "\n"
   ]
  },
  {
   "cell_type": "code",
   "execution_count": null,
   "metadata": {},
   "outputs": [],
   "source": [
    "aa = input(\"input: \")\n",
    "int(aa.isnumeric())"
   ]
  },
  {
   "cell_type": "code",
   "execution_count": null,
   "metadata": {},
   "outputs": [],
   "source": [
    "int(5<4)"
   ]
  },
  {
   "cell_type": "code",
   "execution_count": null,
   "metadata": {},
   "outputs": [],
   "source": [
    "x = \"true\"\n",
    "if x == \"true\":\n",
    "    print(int(x == \"true\"))\n",
    "x = \"false\"\n",
    "if x == \"false\":\n",
    "    print(int(x == \"true\"))"
   ]
  },
  {
   "cell_type": "markdown",
   "metadata": {},
   "source": [
    "## 139 Write a Python program to valid an IP address.\n",
    "\n"
   ]
  },
  {
   "cell_type": "code",
   "execution_count": null,
   "metadata": {},
   "outputs": [],
   "source": [
    "import socket\n",
    "addr = '192.168.1.10'\n",
    "try:\n",
    "    socket.inet_aton(addr)\n",
    "    print(\"Valid IP\")\n",
    "except socket.error:\n",
    "    print(\"Invalid IP\")"
   ]
  },
  {
   "cell_type": "markdown",
   "metadata": {},
   "source": [
    "## How to get IP adress"
   ]
  },
  {
   "cell_type": "code",
   "execution_count": null,
   "metadata": {},
   "outputs": [],
   "source": [
    "import socket\n",
    "hostname=socket.gethostname()\n",
    "print(socket.gethostbyname(hostname))\n"
   ]
  },
  {
   "cell_type": "markdown",
   "metadata": {},
   "source": [
    "## 140 Write a Python program to convert an integer to binary keep leading zeros.\n",
    "\n"
   ]
  },
  {
   "cell_type": "code",
   "execution_count": null,
   "metadata": {},
   "outputs": [],
   "source": [
    "x=357\n",
    "format(x,'04b')\n",
    "# keep leading zero\n",
    "format(x, '08b')\n",
    "format(x, '010b')\n"
   ]
  },
  {
   "cell_type": "markdown",
   "metadata": {},
   "source": [
    "## 142 Write a Python program to find the operating system name, platform and platform release date.\n",
    "\n"
   ]
  },
  {
   "cell_type": "code",
   "execution_count": null,
   "metadata": {},
   "outputs": [],
   "source": [
    "import os, platform\n",
    "# Operating system name:\")\n",
    "print(os.name)\n",
    "# Platform name:\")\n",
    "print(platform.system())\n",
    "#Platform release:\")\n",
    "print(platform.release())\n"
   ]
  },
  {
   "cell_type": "markdown",
   "metadata": {},
   "source": [
    "## 143 Write a Python program to determine if the python shell is executing in 32bit or 64bit mode on operating system.\n",
    "\n"
   ]
  },
  {
   "cell_type": "code",
   "execution_count": null,
   "metadata": {},
   "outputs": [],
   "source": [
    "import struct\n",
    "struct.calcsize(\"P\") * 8\n"
   ]
  },
  {
   "cell_type": "markdown",
   "metadata": {},
   "source": [
    "## 144 Write a Python program to check whether a variable is integer or string.\n",
    "\n"
   ]
  },
  {
   "cell_type": "code",
   "execution_count": null,
   "metadata": {
    "scrolled": true
   },
   "outputs": [],
   "source": [
    "variable_tes = '123.3x'\n",
    "if isinstance (variable_tes,int):\n",
    "    print (\"{} is an integer\".format(variable_tes))\n",
    "elif isinstance (variable_tes,str):\n",
    "    print (\"{} is string\".format(variable_tes))\n",
    "else:\n",
    "    print (\"{} is neither Integer nor string\".format(variable_tes))"
   ]
  },
  {
   "cell_type": "markdown",
   "metadata": {},
   "source": [
    "## 146 Write a Python program to find the location of Python module sources.\n",
    "\n"
   ]
  },
  {
   "cell_type": "code",
   "execution_count": null,
   "metadata": {},
   "outputs": [],
   "source": [
    "import sys\n",
    "print(\"List of directories in sys module:\")\n",
    "print(sys.path)\n",
    "print(\"\\nList of directories in os module:\")\n",
    "import os\n",
    "print(os.path)\n"
   ]
  },
  {
   "cell_type": "markdown",
   "metadata": {},
   "source": [
    "## 147 Write a Python function to check whether a number is divisible by another number. Accept two integers values form the user.\n",
    "\n"
   ]
  },
  {
   "cell_type": "code",
   "execution_count": null,
   "metadata": {},
   "outputs": [],
   "source": [
    "a=int(input('enter first num '))\n",
    "b= int(input('enter second num '))\n",
    "if a%b==0:print(True)\n",
    "else: print(False)"
   ]
  },
  {
   "cell_type": "code",
   "execution_count": null,
   "metadata": {},
   "outputs": [],
   "source": [
    "def multiple(m, n):\n",
    "    return True if m % n == 0 else False\n",
    "\n",
    "print(multiple(20, 5))\n",
    "print(multiple(7, 2))\n"
   ]
  },
  {
   "cell_type": "code",
   "execution_count": null,
   "metadata": {},
   "outputs": [],
   "source": [
    "m = int(input('m: '))\n",
    "n = int(input('n: '))\n",
    "\n",
    "def multiple(m, n):\n",
    "    return True if m % n == 0 else False\n",
    "\n",
    "print(multiple(m, n))"
   ]
  },
  {
   "cell_type": "markdown",
   "metadata": {},
   "source": [
    "## 148 Write a Python function to find the maximum and minimum numbers from a sequence of numbers. Note: Do not use built-in functions.\n",
    "\n",
    "\n"
   ]
  },
  {
   "cell_type": "code",
   "execution_count": null,
   "metadata": {},
   "outputs": [],
   "source": [
    "def maxmin(*args):\n",
    "    n=list(args)\n",
    "    maxnum=n[-1]\n",
    "    minnum=n[0]\n",
    "    print(f'the maximum number is: {maxnum}  , minimum number :{minnum}')\n",
    "maxmin(2,3,4,5,6,7,8)"
   ]
  },
  {
   "cell_type": "code",
   "execution_count": null,
   "metadata": {},
   "outputs": [],
   "source": [
    "def maxmin(data):\n",
    "    l=data[0]\n",
    "    s=data[0]\n",
    "    for num in data:\n",
    "        if l>num:\n",
    "            l=num\n",
    "        elif l<num:\n",
    "            s=num\n",
    "    return l,s\n",
    "maxmin([2,4,5,6,7,-3,-8,75])"
   ]
  },
  {
   "cell_type": "markdown",
   "metadata": {},
   "source": [
    "## 149 Write a Python function that takes a positive integer and returns the sum of the cube of all the positive integers smaller than the specified number.\n",
    "\n"
   ]
  },
  {
   "cell_type": "code",
   "execution_count": null,
   "metadata": {},
   "outputs": [],
   "source": [
    "def sum_of_cubes(n):\n",
    "    n -= 1\n",
    "    total = 0\n",
    "    while n > 0:\n",
    "        total += n * n * n\n",
    "    n -= 1\n",
    "    return total\n",
    "print(\"Sum of cubes: \",sum_of_cubes(6))"
   ]
  },
  {
   "cell_type": "code",
   "execution_count": null,
   "metadata": {},
   "outputs": [],
   "source": [
    "num=int(input(\"Enter a number: \"))\n",
    "sum=0\n",
    "for i in range(1,num):\n",
    "    sum=sum+(i**3)\n",
    "print(sum)"
   ]
  },
  {
   "cell_type": "code",
   "execution_count": null,
   "metadata": {},
   "outputs": [],
   "source": []
  }
 ],
 "metadata": {
  "kernelspec": {
   "display_name": "Python 3",
   "language": "python",
   "name": "python3"
  },
  "language_info": {
   "codemirror_mode": {
    "name": "ipython",
    "version": 3
   },
   "file_extension": ".py",
   "mimetype": "text/x-python",
   "name": "python",
   "nbconvert_exporter": "python",
   "pygments_lexer": "ipython3",
   "version": "3.7.6"
  }
 },
 "nbformat": 4,
 "nbformat_minor": 4
}
