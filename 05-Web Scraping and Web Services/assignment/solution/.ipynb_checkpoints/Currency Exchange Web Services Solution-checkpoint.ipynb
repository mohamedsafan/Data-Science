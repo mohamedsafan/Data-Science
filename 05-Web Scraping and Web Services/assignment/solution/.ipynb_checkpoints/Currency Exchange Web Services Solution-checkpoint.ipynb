{
 "cells": [
  {
   "cell_type": "code",
   "execution_count": 1,
   "metadata": {},
   "outputs": [
    {
     "name": "stdout",
     "output_type": "stream",
     "text": [
      "enter ur dollars: 10\n",
      "10 USD = 8.888888889 EUR\n"
     ]
    }
   ],
   "source": [
    "import requests, json\n",
    "\n",
    "\n",
    "dollars_count = int(input('enter ur dollars: '))\n",
    "\n",
    "url = 'https://api.ratesapi.io/api/latest?base=USD&symbols=EUR'\n",
    "\n",
    "response = requests.request('GET', url)\n",
    "\n",
    "response_json = json.loads(response.text)\n",
    "\n",
    "exchange_rate = response_json['rates']['EUR']\n",
    "\n",
    "result = exchange_rate * dollars_count\n",
    "\n",
    "print(str(dollars_count) + ' USD = ' + str(result) + ' EUR')"
   ]
  }
 ],
 "metadata": {
  "kernelspec": {
   "display_name": "Python 3",
   "language": "python",
   "name": "python3"
  },
  "language_info": {
   "codemirror_mode": {
    "name": "ipython",
    "version": 3
   },
   "file_extension": ".py",
   "mimetype": "text/x-python",
   "name": "python",
   "nbconvert_exporter": "python",
   "pygments_lexer": "ipython3",
   "version": "3.7.6"
  }
 },
 "nbformat": 4,
 "nbformat_minor": 2
}
