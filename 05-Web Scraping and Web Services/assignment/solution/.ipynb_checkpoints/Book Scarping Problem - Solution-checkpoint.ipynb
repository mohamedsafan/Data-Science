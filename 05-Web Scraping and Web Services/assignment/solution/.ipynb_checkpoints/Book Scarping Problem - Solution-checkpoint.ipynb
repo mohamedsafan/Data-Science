{
 "cells": [
  {
   "cell_type": "code",
   "execution_count": 1,
   "metadata": {},
   "outputs": [],
   "source": [
    "import requests\n",
    "from bs4 import BeautifulSoup"
   ]
  },
  {
   "cell_type": "code",
   "execution_count": 2,
   "metadata": {},
   "outputs": [],
   "source": [
    "response = requests.request('GET', 'http://books.toscrape.com/catalogue/category/books/mystery_3/index.html')"
   ]
  },
  {
   "cell_type": "code",
   "execution_count": 3,
   "metadata": {},
   "outputs": [
    {
     "name": "stdout",
     "output_type": "stream",
     "text": [
      "b'\\n\\n<!DOCTYPE html>\\n<!--[if lt IE 7]>      <html lang=\"en-us\" class=\"no-js lt-ie9 lt-ie8 lt-ie7\"> <![endif]-->\\n<!--[if IE 7]>         <html lang=\"en-us\" class=\"no-js lt-ie9 lt-ie8\"> <![endif]-->\\n<!--[if IE 8]>         <html lang=\"en-us\" class=\"no-js lt-ie9\"> <![endif]-->\\n<!--[if gt IE 8]><!--> <html lang=\"en-us\" class=\"no-js\"> <!--<![endif]-->\\n    <head>\\n        <title>\\n    Mystery | \\n     Books to Scrape - Sandbox\\n\\n</title>\\n\\n        <meta http-equiv=\"content-type\" content=\"text/html; charset=UTF-8\" />\\n        <meta name=\"created\" content=\"24th Jun 2016 09:29\" />\\n        <meta name=\"description\" content=\"\\n    \\n\" />\\n        <meta name=\"viewport\" content=\"width=device-width\" />\\n        <meta name=\"robots\" content=\"NOARCHIVE,NOCACHE\" />\\n\\n        <!-- Le HTML5 shim, for IE6-8 support of HTML elements -->\\n        <!--[if lt IE 9]>\\n        <script src=\"//html5shim.googlecode.com/svn/trunk/html5.js\"></script>\\n        <![endif]-->\\n\\n        \\n            <link rel=\"shortcut icon\" href=\"../../../../static/oscar/favicon.ico\" />\\n        \\n\\n        \\n        \\n    \\n    \\n        <link rel=\"stylesheet\" type=\"text/css\" href=\"../../../../static/oscar/css/styles.css\" />\\n    \\n    <link rel=\"stylesheet\" href=\"../../../../static/oscar/js/bootstrap-datetimepicker/bootstrap-datetimepicker.css\" />\\n    <link rel=\"stylesheet\" type=\"text/css\" href=\"../../../../static/oscar/css/datetimepicker.css\" />\\n\\n\\n        \\n        \\n\\n        \\n\\n        \\n            \\n            \\n\\n        \\n    </head>\\n\\n    <body id=\"default\" class=\"default\">\\n        \\n        \\n    \\n    \\n    <header class=\"header container-fluid\">\\n        <div class=\"page_inner\">\\n            <div class=\"row\">\\n                <div class=\"col-sm-8 h1\"><a href=\"../../../../index.html\">Books to Scrape</a><small> We love being scraped!</small>\\n</div>\\n\\n                \\n            </div>\\n        </div>\\n    </header>\\n\\n    \\n    \\n<div class=\"container-fluid page\">\\n    <div class=\"page_inner\">\\n        \\n    <ul class=\"breadcrumb\">\\n        <li>\\n            <a href=\"../../../../index.html\">Home</a>\\n        </li>\\n        \\n            <li>\\n                <a href=\"../../books_1/index.html\">Books</a>\\n            </li>\\n        \\n        <li class=\"active\">Mystery</li>\\n    </ul>\\n\\n        <div class=\"row\">\\n\\n            <aside class=\"sidebar col-sm-4 col-md-3\">\\n                \\n                <div id=\"promotions_left\">\\n                    \\n                </div>\\n                \\n    \\n    \\n        \\n        <div class=\"side_categories\">\\n            <ul class=\"nav nav-list\">\\n                \\n                    <li>\\n                        <a href=\"../../books_1/index.html\">\\n                            \\n                                Books\\n                            \\n                        </a>\\n\\n                        <ul>\\n                        \\n                \\n                    <li>\\n                        <a href=\"../travel_2/index.html\">\\n                            \\n                                Travel\\n                            \\n                        </a>\\n\\n                        </li>\\n                        \\n                \\n                    <li>\\n                        <a href=\"index.html\">\\n                            \\n                                <strong>Mystery</strong>\\n                            \\n                        </a>\\n\\n                        </li>\\n                        \\n                \\n                    <li>\\n                        <a href=\"../historical-fiction_4/index.html\">\\n                            \\n                                Historical Fiction\\n                            \\n                        </a>\\n\\n                        </li>\\n                        \\n                \\n                    <li>\\n                        <a href=\"../sequential-art_5/index.html\">\\n                            \\n                                Sequential Art\\n                            \\n                        </a>\\n\\n                        </li>\\n                        \\n                \\n                    <li>\\n                        <a href=\"../classics_6/index.html\">\\n                            \\n                                Classics\\n                            \\n                        </a>\\n\\n                        </li>\\n                        \\n                \\n                    <li>\\n                        <a href=\"../philosophy_7/index.html\">\\n                            \\n                                Philosophy\\n                            \\n                        </a>\\n\\n                        </li>\\n                        \\n                \\n                    <li>\\n                        <a href=\"../romance_8/index.html\">\\n                            \\n                                Romance\\n                            \\n                        </a>\\n\\n                        </li>\\n                        \\n                \\n                    <li>\\n                        <a href=\"../womens-fiction_9/index.html\">\\n                            \\n                                Womens Fiction\\n                            \\n                        </a>\\n\\n                        </li>\\n                        \\n                \\n                    <li>\\n                        <a href=\"../fiction_10/index.html\">\\n                            \\n                                Fiction\\n                            \\n                        </a>\\n\\n                        </li>\\n                        \\n                \\n                    <li>\\n                        <a href=\"../childrens_11/index.html\">\\n                            \\n                                Childrens\\n                            \\n                        </a>\\n\\n                        </li>\\n                        \\n                \\n                    <li>\\n                        <a href=\"../religion_12/index.html\">\\n                            \\n                                Religion\\n                            \\n                        </a>\\n\\n                        </li>\\n                        \\n                \\n                    <li>\\n                        <a href=\"../nonfiction_13/index.html\">\\n                            \\n                                Nonfiction\\n                            \\n                        </a>\\n\\n                        </li>\\n                        \\n                \\n                    <li>\\n                        <a href=\"../music_14/index.html\">\\n                            \\n                                Music\\n                            \\n                        </a>\\n\\n                        </li>\\n                        \\n                \\n                    <li>\\n                        <a href=\"../default_15/index.html\">\\n                            \\n                                Default\\n                            \\n                        </a>\\n\\n                        </li>\\n                        \\n                \\n                    <li>\\n                        <a href=\"../science-fiction_16/index.html\">\\n                            \\n                                Science Fiction\\n                            \\n                        </a>\\n\\n                        </li>\\n                        \\n                \\n                    <li>\\n                        <a href=\"../sports-and-games_17/index.html\">\\n                            \\n                                Sports and Games\\n                            \\n                        </a>\\n\\n                        </li>\\n                        \\n                \\n                    <li>\\n                        <a href=\"../add-a-comment_18/index.html\">\\n                            \\n                                Add a comment\\n                            \\n                        </a>\\n\\n                        </li>\\n                        \\n                \\n                    <li>\\n                        <a href=\"../fantasy_19/index.html\">\\n                            \\n                                Fantasy\\n                            \\n                        </a>\\n\\n                        </li>\\n                        \\n                \\n                    <li>\\n                        <a href=\"../new-adult_20/index.html\">\\n                            \\n                                New Adult\\n                            \\n                        </a>\\n\\n                        </li>\\n                        \\n                \\n                    <li>\\n                        <a href=\"../young-adult_21/index.html\">\\n                            \\n                                Young Adult\\n                            \\n                        </a>\\n\\n                        </li>\\n                        \\n                \\n                    <li>\\n                        <a href=\"../science_22/index.html\">\\n                            \\n                                Science\\n                            \\n                        </a>\\n\\n                        </li>\\n                        \\n                \\n                    <li>\\n                        <a href=\"../poetry_23/index.html\">\\n                            \\n                                Poetry\\n                            \\n                        </a>\\n\\n                        </li>\\n                        \\n                \\n                    <li>\\n                        <a href=\"../paranormal_24/index.html\">\\n                            \\n                                Paranormal\\n                            \\n                        </a>\\n\\n                        </li>\\n                        \\n                \\n                    <li>\\n                        <a href=\"../art_25/index.html\">\\n                            \\n                                Art\\n                            \\n                        </a>\\n\\n                        </li>\\n                        \\n                \\n                    <li>\\n                        <a href=\"../psychology_26/index.html\">\\n                            \\n                                Psychology\\n                            \\n                        </a>\\n\\n                        </li>\\n                        \\n                \\n                    <li>\\n                        <a href=\"../autobiography_27/index.html\">\\n                            \\n                                Autobiography\\n                            \\n                        </a>\\n\\n                        </li>\\n                        \\n                \\n                    <li>\\n                        <a href=\"../parenting_28/index.html\">\\n                            \\n                                Parenting\\n                            \\n                        </a>\\n\\n                        </li>\\n                        \\n                \\n                    <li>\\n                        <a href=\"../adult-fiction_29/index.html\">\\n                            \\n                                Adult Fiction\\n                            \\n                        </a>\\n\\n                        </li>\\n                        \\n                \\n                    <li>\\n                        <a href=\"../humor_30/index.html\">\\n                            \\n                                Humor\\n                            \\n                        </a>\\n\\n                        </li>\\n                        \\n                \\n                    <li>\\n                        <a href=\"../horror_31/index.html\">\\n                            \\n                                Horror\\n                            \\n                        </a>\\n\\n                        </li>\\n                        \\n                \\n                    <li>\\n                        <a href=\"../history_32/index.html\">\\n                            \\n                                History\\n                            \\n                        </a>\\n\\n                        </li>\\n                        \\n                \\n                    <li>\\n                        <a href=\"../food-and-drink_33/index.html\">\\n                            \\n                                Food and Drink\\n                            \\n                        </a>\\n\\n                        </li>\\n                        \\n                \\n                    <li>\\n                        <a href=\"../christian-fiction_34/index.html\">\\n                            \\n                                Christian Fiction\\n                            \\n                        </a>\\n\\n                        </li>\\n                        \\n                \\n                    <li>\\n                        <a href=\"../business_35/index.html\">\\n                            \\n                                Business\\n                            \\n                        </a>\\n\\n                        </li>\\n                        \\n                \\n                    <li>\\n                        <a href=\"../biography_36/index.html\">\\n                            \\n                                Biography\\n                            \\n                        </a>\\n\\n                        </li>\\n                        \\n                \\n                    <li>\\n                        <a href=\"../thriller_37/index.html\">\\n                            \\n                                Thriller\\n                            \\n                        </a>\\n\\n                        </li>\\n                        \\n                \\n                    <li>\\n                        <a href=\"../contemporary_38/index.html\">\\n                            \\n                                Contemporary\\n                            \\n                        </a>\\n\\n                        </li>\\n                        \\n                \\n                    <li>\\n                        <a href=\"../spirituality_39/index.html\">\\n                            \\n                                Spirituality\\n                            \\n                        </a>\\n\\n                        </li>\\n                        \\n                \\n                    <li>\\n                        <a href=\"../academic_40/index.html\">\\n                            \\n                                Academic\\n                            \\n                        </a>\\n\\n                        </li>\\n                        \\n                \\n                    <li>\\n                        <a href=\"../self-help_41/index.html\">\\n                            \\n                                Self Help\\n                            \\n                        </a>\\n\\n                        </li>\\n                        \\n                \\n                    <li>\\n                        <a href=\"../historical_42/index.html\">\\n                            \\n                                Historical\\n                            \\n                        </a>\\n\\n                        </li>\\n                        \\n                \\n                    <li>\\n                        <a href=\"../christian_43/index.html\">\\n                            \\n                                Christian\\n                            \\n                        </a>\\n\\n                        </li>\\n                        \\n                \\n                    <li>\\n                        <a href=\"../suspense_44/index.html\">\\n                            \\n                                Suspense\\n                            \\n                        </a>\\n\\n                        </li>\\n                        \\n                \\n                    <li>\\n                        <a href=\"../short-stories_45/index.html\">\\n                            \\n                                Short Stories\\n                            \\n                        </a>\\n\\n                        </li>\\n                        \\n                \\n                    <li>\\n                        <a href=\"../novels_46/index.html\">\\n                            \\n                                Novels\\n                            \\n                        </a>\\n\\n                        </li>\\n                        \\n                \\n                    <li>\\n                        <a href=\"../health_47/index.html\">\\n                            \\n                                Health\\n                            \\n                        </a>\\n\\n                        </li>\\n                        \\n                \\n                    <li>\\n                        <a href=\"../politics_48/index.html\">\\n                            \\n                                Politics\\n                            \\n                        </a>\\n\\n                        </li>\\n                        \\n                \\n                    <li>\\n                        <a href=\"../cultural_49/index.html\">\\n                            \\n                                Cultural\\n                            \\n                        </a>\\n\\n                        </li>\\n                        \\n                \\n                    <li>\\n                        <a href=\"../erotica_50/index.html\">\\n                            \\n                                Erotica\\n                            \\n                        </a>\\n\\n                        </li>\\n                        \\n                \\n                    <li>\\n                        <a href=\"../crime_51/index.html\">\\n                            \\n                                Crime\\n                            \\n                        </a>\\n\\n                        </li>\\n                        \\n                            </ul></li>\\n                        \\n                \\n            </ul>\\n        </div>\\n    \\n    \\n\\n            </aside>\\n\\n            <div class=\"col-sm-8 col-md-9\">\\n                \\n                <div class=\"page-header action\">\\n                    <h1>Mystery</h1>\\n                </div>\\n                \\n\\n                \\n\\n\\n\\n<div id=\"messages\">\\n\\n</div>\\n\\n\\n                <div id=\"promotions\">\\n                    \\n                </div>\\n\\n                \\n    \\n    \\n    <form method=\"get\" class=\"form-horizontal\">\\n        \\n        <div style=\"display:none\">\\n            \\n            \\n        </div>\\n\\n        \\n            \\n                \\n                    <strong>32</strong> results - showing <strong>1</strong> to <strong>20</strong>.\\n                \\n            \\n            \\n        \\n    </form>\\n    \\n        <section>\\n            <div class=\"alert alert-warning\" role=\"alert\"><strong>Warning!</strong> This is a demo website for web scraping purposes. Prices and ratings here were randomly assigned and have no real meaning.</div>\\n\\n            <div>\\n                <ol class=\"row\">\\n                    \\n                        <li class=\"col-xs-6 col-sm-4 col-md-3 col-lg-3\">\\n\\n\\n\\n\\n\\n\\n    <article class=\"product_pod\">\\n        \\n            <div class=\"image_container\">\\n                \\n                    \\n                    <a href=\"../../../sharp-objects_997/index.html\"><img src=\"../../../../media/cache/32/51/3251cf3a3412f53f339e42cac2134093.jpg\" alt=\"Sharp Objects\" class=\"thumbnail\"></a>\\n                    \\n                \\n            </div>\\n        \\n\\n        \\n            \\n                <p class=\"star-rating Four\">\\n                    <i class=\"icon-star\"></i>\\n                    <i class=\"icon-star\"></i>\\n                    <i class=\"icon-star\"></i>\\n                    <i class=\"icon-star\"></i>\\n                    <i class=\"icon-star\"></i>\\n                </p>\\n            \\n        \\n\\n        \\n            <h3><a href=\"../../../sharp-objects_997/index.html\" title=\"Sharp Objects\">Sharp Objects</a></h3>\\n        \\n\\n        \\n            <div class=\"product_price\">\\n                \\n\\n\\n\\n\\n\\n\\n    \\n        <p class=\"price_color\">\\xc2\\xa347.82</p>\\n    \\n\\n<p class=\"instock availability\">\\n    <i class=\"icon-ok\"></i>\\n    \\n        In stock\\n    \\n</p>\\n\\n                \\n                    \\n\\n\\n\\n\\n\\n\\n    \\n    <form>\\n        <button type=\"submit\" class=\"btn btn-primary btn-block\" data-loading-text=\"Adding...\">Add to basket</button>\\n    </form>\\n\\n\\n                \\n            </div>\\n        \\n    </article>\\n\\n</li>\\n                    \\n                        <li class=\"col-xs-6 col-sm-4 col-md-3 col-lg-3\">\\n\\n\\n\\n\\n\\n\\n    <article class=\"product_pod\">\\n        \\n            <div class=\"image_container\">\\n                \\n                    \\n                    <a href=\"../../../in-a-dark-dark-wood_963/index.html\"><img src=\"../../../../media/cache/23/85/238570a1c284e730dbc737a7e631ae2b.jpg\" alt=\"In a Dark, Dark Wood\" class=\"thumbnail\"></a>\\n                    \\n                \\n            </div>\\n        \\n\\n        \\n            \\n                <p class=\"star-rating One\">\\n                    <i class=\"icon-star\"></i>\\n                    <i class=\"icon-star\"></i>\\n                    <i class=\"icon-star\"></i>\\n                    <i class=\"icon-star\"></i>\\n                    <i class=\"icon-star\"></i>\\n                </p>\\n            \\n        \\n\\n        \\n            <h3><a href=\"../../../in-a-dark-dark-wood_963/index.html\" title=\"In a Dark, Dark Wood\">In a Dark, Dark ...</a></h3>\\n        \\n\\n        \\n            <div class=\"product_price\">\\n                \\n\\n\\n\\n\\n\\n\\n    \\n        <p class=\"price_color\">\\xc2\\xa319.63</p>\\n    \\n\\n<p class=\"instock availability\">\\n    <i class=\"icon-ok\"></i>\\n    \\n        In stock\\n    \\n</p>\\n\\n                \\n                    \\n\\n\\n\\n\\n\\n\\n    \\n    <form>\\n        <button type=\"submit\" class=\"btn btn-primary btn-block\" data-loading-text=\"Adding...\">Add to basket</button>\\n    </form>\\n\\n\\n                \\n            </div>\\n        \\n    </article>\\n\\n</li>\\n                    \\n                        <li class=\"col-xs-6 col-sm-4 col-md-3 col-lg-3\">\\n\\n\\n\\n\\n\\n\\n    <article class=\"product_pod\">\\n        \\n            <div class=\"image_container\">\\n                \\n                    \\n                    <a href=\"../../../the-past-never-ends_942/index.html\"><img src=\"../../../../media/cache/89/b8/89b850edb01851a91f64ba114b96acb6.jpg\" alt=\"The Past Never Ends\" class=\"thumbnail\"></a>\\n                    \\n                \\n            </div>\\n        \\n\\n        \\n            \\n                <p class=\"star-rating Four\">\\n                    <i class=\"icon-star\"></i>\\n                    <i class=\"icon-star\"></i>\\n                    <i class=\"icon-star\"></i>\\n                    <i class=\"icon-star\"></i>\\n                    <i class=\"icon-star\"></i>\\n                </p>\\n            \\n        \\n\\n        \\n            <h3><a href=\"../../../the-past-never-ends_942/index.html\" title=\"The Past Never Ends\">The Past Never Ends</a></h3>\\n        \\n\\n        \\n            <div class=\"product_price\">\\n                \\n\\n\\n\\n\\n\\n\\n    \\n        <p class=\"price_color\">\\xc2\\xa356.50</p>\\n    \\n\\n<p class=\"instock availability\">\\n    <i class=\"icon-ok\"></i>\\n    \\n        In stock\\n    \\n</p>\\n\\n                \\n                    \\n\\n\\n\\n\\n\\n\\n    \\n    <form>\\n        <button type=\"submit\" class=\"btn btn-primary btn-block\" data-loading-text=\"Adding...\">Add to basket</button>\\n    </form>\\n\\n\\n                \\n            </div>\\n        \\n    </article>\\n\\n</li>\\n                    \\n                        <li class=\"col-xs-6 col-sm-4 col-md-3 col-lg-3\">\\n\\n\\n\\n\\n\\n\\n    <article class=\"product_pod\">\\n        \\n            <div class=\"image_container\">\\n                \\n                    \\n                    <a href=\"../../../a-murder-in-time_877/index.html\"><img src=\"../../../../media/cache/11/aa/11aaad48b5f15e262456ca65294084da.jpg\" alt=\"A Murder in Time\" class=\"thumbnail\"></a>\\n                    \\n                \\n            </div>\\n        \\n\\n        \\n            \\n                <p class=\"star-rating One\">\\n                    <i class=\"icon-star\"></i>\\n                    <i class=\"icon-star\"></i>\\n                    <i class=\"icon-star\"></i>\\n                    <i class=\"icon-star\"></i>\\n                    <i class=\"icon-star\"></i>\\n                </p>\\n            \\n        \\n\\n        \\n            <h3><a href=\"../../../a-murder-in-time_877/index.html\" title=\"A Murder in Time\">A Murder in Time</a></h3>\\n        \\n\\n        \\n            <div class=\"product_price\">\\n                \\n\\n\\n\\n\\n\\n\\n    \\n        <p class=\"price_color\">\\xc2\\xa316.64</p>\\n    \\n\\n<p class=\"instock availability\">\\n    <i class=\"icon-ok\"></i>\\n    \\n        In stock\\n    \\n</p>\\n\\n                \\n                    \\n\\n\\n\\n\\n\\n\\n    \\n    <form>\\n        <button type=\"submit\" class=\"btn btn-primary btn-block\" data-loading-text=\"Adding...\">Add to basket</button>\\n    </form>\\n\\n\\n                \\n            </div>\\n        \\n    </article>\\n\\n</li>\\n                    \\n                        <li class=\"col-xs-6 col-sm-4 col-md-3 col-lg-3\">\\n\\n\\n\\n\\n\\n\\n    <article class=\"product_pod\">\\n        \\n            <div class=\"image_container\">\\n                \\n                    \\n                    <a href=\"../../../the-murder-of-roger-ackroyd-hercule-poirot-4_852/index.html\"><img src=\"../../../../media/cache/29/fe/29fe70b1b2e5a9ba61d4bd331255e19e.jpg\" alt=\"The Murder of Roger Ackroyd (Hercule Poirot #4)\" class=\"thumbnail\"></a>\\n                    \\n                \\n            </div>\\n        \\n\\n        \\n            \\n                <p class=\"star-rating Four\">\\n                    <i class=\"icon-star\"></i>\\n                    <i class=\"icon-star\"></i>\\n                    <i class=\"icon-star\"></i>\\n                    <i class=\"icon-star\"></i>\\n                    <i class=\"icon-star\"></i>\\n                </p>\\n            \\n        \\n\\n        \\n            <h3><a href=\"../../../the-murder-of-roger-ackroyd-hercule-poirot-4_852/index.html\" title=\"The Murder of Roger Ackroyd (Hercule Poirot #4)\">The Murder of Roger ...</a></h3>\\n        \\n\\n        \\n            <div class=\"product_price\">\\n                \\n\\n\\n\\n\\n\\n\\n    \\n        <p class=\"price_color\">\\xc2\\xa344.10</p>\\n    \\n\\n<p class=\"instock availability\">\\n    <i class=\"icon-ok\"></i>\\n    \\n        In stock\\n    \\n</p>\\n\\n                \\n                    \\n\\n\\n\\n\\n\\n\\n    \\n    <form>\\n        <button type=\"submit\" class=\"btn btn-primary btn-block\" data-loading-text=\"Adding...\">Add to basket</button>\\n    </form>\\n\\n\\n                \\n            </div>\\n        \\n    </article>\\n\\n</li>\\n                    \\n                        <li class=\"col-xs-6 col-sm-4 col-md-3 col-lg-3\">\\n\\n\\n\\n\\n\\n\\n    <article class=\"product_pod\">\\n        \\n            <div class=\"image_container\">\\n                \\n                    \\n                    <a href=\"../../../the-last-mile-amos-decker-2_754/index.html\"><img src=\"../../../../media/cache/37/f1/37f118b4a56d866e1e8b563759d6966c.jpg\" alt=\"The Last Mile (Amos Decker #2)\" class=\"thumbnail\"></a>\\n                    \\n                \\n            </div>\\n        \\n\\n        \\n            \\n                <p class=\"star-rating Two\">\\n                    <i class=\"icon-star\"></i>\\n                    <i class=\"icon-star\"></i>\\n                    <i class=\"icon-star\"></i>\\n                    <i class=\"icon-star\"></i>\\n                    <i class=\"icon-star\"></i>\\n                </p>\\n            \\n        \\n\\n        \\n            <h3><a href=\"../../../the-last-mile-amos-decker-2_754/index.html\" title=\"The Last Mile (Amos Decker #2)\">The Last Mile (Amos ...</a></h3>\\n        \\n\\n        \\n            <div class=\"product_price\">\\n                \\n\\n\\n\\n\\n\\n\\n    \\n        <p class=\"price_color\">\\xc2\\xa354.21</p>\\n    \\n\\n<p class=\"instock availability\">\\n    <i class=\"icon-ok\"></i>\\n    \\n        In stock\\n    \\n</p>\\n\\n                \\n                    \\n\\n\\n\\n\\n\\n\\n    \\n    <form>\\n        <button type=\"submit\" class=\"btn btn-primary btn-block\" data-loading-text=\"Adding...\">Add to basket</button>\\n    </form>\\n\\n\\n                \\n            </div>\\n        \\n    </article>\\n\\n</li>\\n                    \\n                        <li class=\"col-xs-6 col-sm-4 col-md-3 col-lg-3\">\\n\\n\\n\\n\\n\\n\\n    <article class=\"product_pod\">\\n        \\n            <div class=\"image_container\">\\n                \\n                    \\n                    <a href=\"../../../that-darkness-gardiner-and-renner-1_743/index.html\"><img src=\"../../../../media/cache/44/9e/449ed681142bc336646abee754e96639.jpg\" alt=\"That Darkness (Gardiner and Renner #1)\" class=\"thumbnail\"></a>\\n                    \\n                \\n            </div>\\n        \\n\\n        \\n            \\n                <p class=\"star-rating One\">\\n                    <i class=\"icon-star\"></i>\\n                    <i class=\"icon-star\"></i>\\n                    <i class=\"icon-star\"></i>\\n                    <i class=\"icon-star\"></i>\\n                    <i class=\"icon-star\"></i>\\n                </p>\\n            \\n        \\n\\n        \\n            <h3><a href=\"../../../that-darkness-gardiner-and-renner-1_743/index.html\" title=\"That Darkness (Gardiner and Renner #1)\">That Darkness (Gardiner and ...</a></h3>\\n        \\n\\n        \\n            <div class=\"product_price\">\\n                \\n\\n\\n\\n\\n\\n\\n    \\n        <p class=\"price_color\">\\xc2\\xa313.92</p>\\n    \\n\\n<p class=\"instock availability\">\\n    <i class=\"icon-ok\"></i>\\n    \\n        In stock\\n    \\n</p>\\n\\n                \\n                    \\n\\n\\n\\n\\n\\n\\n    \\n    <form>\\n        <button type=\"submit\" class=\"btn btn-primary btn-block\" data-loading-text=\"Adding...\">Add to basket</button>\\n    </form>\\n\\n\\n                \\n            </div>\\n        \\n    </article>\\n\\n</li>\\n                    \\n                        <li class=\"col-xs-6 col-sm-4 col-md-3 col-lg-3\">\\n\\n\\n\\n\\n\\n\\n    <article class=\"product_pod\">\\n        \\n            <div class=\"image_container\">\\n                \\n                    \\n                    <a href=\"../../../tastes-like-fear-di-marnie-rome-3_742/index.html\"><img src=\"../../../../media/cache/3c/91/3c91d97266bd6dda322089695fb46daf.jpg\" alt=\"Tastes Like Fear (DI Marnie Rome #3)\" class=\"thumbnail\"></a>\\n                    \\n                \\n            </div>\\n        \\n\\n        \\n            \\n                <p class=\"star-rating One\">\\n                    <i class=\"icon-star\"></i>\\n                    <i class=\"icon-star\"></i>\\n                    <i class=\"icon-star\"></i>\\n                    <i class=\"icon-star\"></i>\\n                    <i class=\"icon-star\"></i>\\n                </p>\\n            \\n        \\n\\n        \\n            <h3><a href=\"../../../tastes-like-fear-di-marnie-rome-3_742/index.html\" title=\"Tastes Like Fear (DI Marnie Rome #3)\">Tastes Like Fear (DI ...</a></h3>\\n        \\n\\n        \\n            <div class=\"product_price\">\\n                \\n\\n\\n\\n\\n\\n\\n    \\n        <p class=\"price_color\">\\xc2\\xa310.69</p>\\n    \\n\\n<p class=\"instock availability\">\\n    <i class=\"icon-ok\"></i>\\n    \\n        In stock\\n    \\n</p>\\n\\n                \\n                    \\n\\n\\n\\n\\n\\n\\n    \\n    <form>\\n        <button type=\"submit\" class=\"btn btn-primary btn-block\" data-loading-text=\"Adding...\">Add to basket</button>\\n    </form>\\n\\n\\n                \\n            </div>\\n        \\n    </article>\\n\\n</li>\\n                    \\n                        <li class=\"col-xs-6 col-sm-4 col-md-3 col-lg-3\">\\n\\n\\n\\n\\n\\n\\n    <article class=\"product_pod\">\\n        \\n            <div class=\"image_container\">\\n                \\n                    \\n                    <a href=\"../../../a-time-of-torment-charlie-parker-14_657/index.html\"><img src=\"../../../../media/cache/e8/c0/e8c0ba15066bab950ae161fd60949b9a.jpg\" alt=\"A Time of Torment (Charlie Parker #14)\" class=\"thumbnail\"></a>\\n                    \\n                \\n            </div>\\n        \\n\\n        \\n            \\n                <p class=\"star-rating Five\">\\n                    <i class=\"icon-star\"></i>\\n                    <i class=\"icon-star\"></i>\\n                    <i class=\"icon-star\"></i>\\n                    <i class=\"icon-star\"></i>\\n                    <i class=\"icon-star\"></i>\\n                </p>\\n            \\n        \\n\\n        \\n            <h3><a href=\"../../../a-time-of-torment-charlie-parker-14_657/index.html\" title=\"A Time of Torment (Charlie Parker #14)\">A Time of Torment ...</a></h3>\\n        \\n\\n        \\n            <div class=\"product_price\">\\n                \\n\\n\\n\\n\\n\\n\\n    \\n        <p class=\"price_color\">\\xc2\\xa348.35</p>\\n    \\n\\n<p class=\"instock availability\">\\n    <i class=\"icon-ok\"></i>\\n    \\n        In stock\\n    \\n</p>\\n\\n                \\n                    \\n\\n\\n\\n\\n\\n\\n    \\n    <form>\\n        <button type=\"submit\" class=\"btn btn-primary btn-block\" data-loading-text=\"Adding...\">Add to basket</button>\\n    </form>\\n\\n\\n                \\n            </div>\\n        \\n    </article>\\n\\n</li>\\n                    \\n                        <li class=\"col-xs-6 col-sm-4 col-md-3 col-lg-3\">\\n\\n\\n\\n\\n\\n\\n    <article class=\"product_pod\">\\n        \\n            <div class=\"image_container\">\\n                \\n                    \\n                    <a href=\"../../../a-study-in-scarlet-sherlock-holmes-1_656/index.html\"><img src=\"../../../../media/cache/8f/a4/8fa41d6caa10e427356b8a590eb4d96b.jpg\" alt=\"A Study in Scarlet (Sherlock Holmes #1)\" class=\"thumbnail\"></a>\\n                    \\n                \\n            </div>\\n        \\n\\n        \\n            \\n                <p class=\"star-rating Two\">\\n                    <i class=\"icon-star\"></i>\\n                    <i class=\"icon-star\"></i>\\n                    <i class=\"icon-star\"></i>\\n                    <i class=\"icon-star\"></i>\\n                    <i class=\"icon-star\"></i>\\n                </p>\\n            \\n        \\n\\n        \\n            <h3><a href=\"../../../a-study-in-scarlet-sherlock-holmes-1_656/index.html\" title=\"A Study in Scarlet (Sherlock Holmes #1)\">A Study in Scarlet ...</a></h3>\\n        \\n\\n        \\n            <div class=\"product_price\">\\n                \\n\\n\\n\\n\\n\\n\\n    \\n        <p class=\"price_color\">\\xc2\\xa316.73</p>\\n    \\n\\n<p class=\"instock availability\">\\n    <i class=\"icon-ok\"></i>\\n    \\n        In stock\\n    \\n</p>\\n\\n                \\n                    \\n\\n\\n\\n\\n\\n\\n    \\n    <form>\\n        <button type=\"submit\" class=\"btn btn-primary btn-block\" data-loading-text=\"Adding...\">Add to basket</button>\\n    </form>\\n\\n\\n                \\n            </div>\\n        \\n    </article>\\n\\n</li>\\n                    \\n                        <li class=\"col-xs-6 col-sm-4 col-md-3 col-lg-3\">\\n\\n\\n\\n\\n\\n\\n    <article class=\"product_pod\">\\n        \\n            <div class=\"image_container\">\\n                \\n                    \\n                    <a href=\"../../../poisonous-max-revere-novels-3_627/index.html\"><img src=\"../../../../media/cache/23/52/2352718971d5e166fa9541a5a7d716fa.jpg\" alt=\"Poisonous (Max Revere Novels #3)\" class=\"thumbnail\"></a>\\n                    \\n                \\n            </div>\\n        \\n\\n        \\n            \\n                <p class=\"star-rating Three\">\\n                    <i class=\"icon-star\"></i>\\n                    <i class=\"icon-star\"></i>\\n                    <i class=\"icon-star\"></i>\\n                    <i class=\"icon-star\"></i>\\n                    <i class=\"icon-star\"></i>\\n                </p>\\n            \\n        \\n\\n        \\n            <h3><a href=\"../../../poisonous-max-revere-novels-3_627/index.html\" title=\"Poisonous (Max Revere Novels #3)\">Poisonous (Max Revere Novels ...</a></h3>\\n        \\n\\n        \\n            <div class=\"product_price\">\\n                \\n\\n\\n\\n\\n\\n\\n    \\n        <p class=\"price_color\">\\xc2\\xa326.80</p>\\n    \\n\\n<p class=\"instock availability\">\\n    <i class=\"icon-ok\"></i>\\n    \\n        In stock\\n    \\n</p>\\n\\n                \\n                    \\n\\n\\n\\n\\n\\n\\n    \\n    <form>\\n        <button type=\"submit\" class=\"btn btn-primary btn-block\" data-loading-text=\"Adding...\">Add to basket</button>\\n    </form>\\n\\n\\n                \\n            </div>\\n        \\n    </article>\\n\\n</li>\\n                    \\n                        <li class=\"col-xs-6 col-sm-4 col-md-3 col-lg-3\">\\n\\n\\n\\n\\n\\n\\n    <article class=\"product_pod\">\\n        \\n            <div class=\"image_container\">\\n                \\n                    \\n                    <a href=\"../../../murder-at-the-42nd-street-library-raymond-ambler-1_624/index.html\"><img src=\"../../../../media/cache/c3/8d/c38d65cd155b67ca025f0655bd1bb095.jpg\" alt=\"Murder at the 42nd Street Library (Raymond Ambler #1)\" class=\"thumbnail\"></a>\\n                    \\n                \\n            </div>\\n        \\n\\n        \\n            \\n                <p class=\"star-rating Four\">\\n                    <i class=\"icon-star\"></i>\\n                    <i class=\"icon-star\"></i>\\n                    <i class=\"icon-star\"></i>\\n                    <i class=\"icon-star\"></i>\\n                    <i class=\"icon-star\"></i>\\n                </p>\\n            \\n        \\n\\n        \\n            <h3><a href=\"../../../murder-at-the-42nd-street-library-raymond-ambler-1_624/index.html\" title=\"Murder at the 42nd Street Library (Raymond Ambler #1)\">Murder at the 42nd ...</a></h3>\\n        \\n\\n        \\n            <div class=\"product_price\">\\n                \\n\\n\\n\\n\\n\\n\\n    \\n        <p class=\"price_color\">\\xc2\\xa354.36</p>\\n    \\n\\n<p class=\"instock availability\">\\n    <i class=\"icon-ok\"></i>\\n    \\n        In stock\\n    \\n</p>\\n\\n                \\n                    \\n\\n\\n\\n\\n\\n\\n    \\n    <form>\\n        <button type=\"submit\" class=\"btn btn-primary btn-block\" data-loading-text=\"Adding...\">Add to basket</button>\\n    </form>\\n\\n\\n                \\n            </div>\\n        \\n    </article>\\n\\n</li>\\n                    \\n                        <li class=\"col-xs-6 col-sm-4 col-md-3 col-lg-3\">\\n\\n\\n\\n\\n\\n\\n    <article class=\"product_pod\">\\n        \\n            <div class=\"image_container\">\\n                \\n                    \\n                    <a href=\"../../../most-wanted_623/index.html\"><img src=\"../../../../media/cache/8b/bc/8bbc5ab4c3784b4d9b93eb0fd1fb6fd6.jpg\" alt=\"Most Wanted\" class=\"thumbnail\"></a>\\n                    \\n                \\n            </div>\\n        \\n\\n        \\n            \\n                <p class=\"star-rating Three\">\\n                    <i class=\"icon-star\"></i>\\n                    <i class=\"icon-star\"></i>\\n                    <i class=\"icon-star\"></i>\\n                    <i class=\"icon-star\"></i>\\n                    <i class=\"icon-star\"></i>\\n                </p>\\n            \\n        \\n\\n        \\n            <h3><a href=\"../../../most-wanted_623/index.html\" title=\"Most Wanted\">Most Wanted</a></h3>\\n        \\n\\n        \\n            <div class=\"product_price\">\\n                \\n\\n\\n\\n\\n\\n\\n    \\n        <p class=\"price_color\">\\xc2\\xa335.28</p>\\n    \\n\\n<p class=\"instock availability\">\\n    <i class=\"icon-ok\"></i>\\n    \\n        In stock\\n    \\n</p>\\n\\n                \\n                    \\n\\n\\n\\n\\n\\n\\n    \\n    <form>\\n        <button type=\"submit\" class=\"btn btn-primary btn-block\" data-loading-text=\"Adding...\">Add to basket</button>\\n    </form>\\n\\n\\n                \\n            </div>\\n        \\n    </article>\\n\\n</li>\\n                    \\n                        <li class=\"col-xs-6 col-sm-4 col-md-3 col-lg-3\">\\n\\n\\n\\n\\n\\n\\n    <article class=\"product_pod\">\\n        \\n            <div class=\"image_container\">\\n                \\n                    \\n                    <a href=\"../../../hide-away-eve-duncan-20_620/index.html\"><img src=\"../../../../media/cache/57/07/5707c3d5d4fd44d943d51730ba7d429a.jpg\" alt=\"Hide Away (Eve Duncan #20)\" class=\"thumbnail\"></a>\\n                    \\n                \\n            </div>\\n        \\n\\n        \\n            \\n                <p class=\"star-rating One\">\\n                    <i class=\"icon-star\"></i>\\n                    <i class=\"icon-star\"></i>\\n                    <i class=\"icon-star\"></i>\\n                    <i class=\"icon-star\"></i>\\n                    <i class=\"icon-star\"></i>\\n                </p>\\n            \\n        \\n\\n        \\n            <h3><a href=\"../../../hide-away-eve-duncan-20_620/index.html\" title=\"Hide Away (Eve Duncan #20)\">Hide Away (Eve Duncan ...</a></h3>\\n        \\n\\n        \\n            <div class=\"product_price\">\\n                \\n\\n\\n\\n\\n\\n\\n    \\n        <p class=\"price_color\">\\xc2\\xa311.84</p>\\n    \\n\\n<p class=\"instock availability\">\\n    <i class=\"icon-ok\"></i>\\n    \\n        In stock\\n    \\n</p>\\n\\n                \\n                    \\n\\n\\n\\n\\n\\n\\n    \\n    <form>\\n        <button type=\"submit\" class=\"btn btn-primary btn-block\" data-loading-text=\"Adding...\">Add to basket</button>\\n    </form>\\n\\n\\n                \\n            </div>\\n        \\n    </article>\\n\\n</li>\\n                    \\n                        <li class=\"col-xs-6 col-sm-4 col-md-3 col-lg-3\">\\n\\n\\n\\n\\n\\n\\n    <article class=\"product_pod\">\\n        \\n            <div class=\"image_container\">\\n                \\n                    \\n                    <a href=\"../../../boar-island-anna-pigeon-19_613/index.html\"><img src=\"../../../../media/cache/d5/81/d58157866ea8f015a8e4c55b23b8c96f.jpg\" alt=\"Boar Island (Anna Pigeon #19)\" class=\"thumbnail\"></a>\\n                    \\n                \\n            </div>\\n        \\n\\n        \\n            \\n                <p class=\"star-rating Three\">\\n                    <i class=\"icon-star\"></i>\\n                    <i class=\"icon-star\"></i>\\n                    <i class=\"icon-star\"></i>\\n                    <i class=\"icon-star\"></i>\\n                    <i class=\"icon-star\"></i>\\n                </p>\\n            \\n        \\n\\n        \\n            <h3><a href=\"../../../boar-island-anna-pigeon-19_613/index.html\" title=\"Boar Island (Anna Pigeon #19)\">Boar Island (Anna Pigeon ...</a></h3>\\n        \\n\\n        \\n            <div class=\"product_price\">\\n                \\n\\n\\n\\n\\n\\n\\n    \\n        <p class=\"price_color\">\\xc2\\xa359.48</p>\\n    \\n\\n<p class=\"instock availability\">\\n    <i class=\"icon-ok\"></i>\\n    \\n        In stock\\n    \\n</p>\\n\\n                \\n                    \\n\\n\\n\\n\\n\\n\\n    \\n    <form>\\n        <button type=\"submit\" class=\"btn btn-primary btn-block\" data-loading-text=\"Adding...\">Add to basket</button>\\n    </form>\\n\\n\\n                \\n            </div>\\n        \\n    </article>\\n\\n</li>\\n                    \\n                        <li class=\"col-xs-6 col-sm-4 col-md-3 col-lg-3\">\\n\\n\\n\\n\\n\\n\\n    <article class=\"product_pod\">\\n        \\n            <div class=\"image_container\">\\n                \\n                    \\n                    <a href=\"../../../the-widow_609/index.html\"><img src=\"../../../../media/cache/fd/71/fd71fb07247bf911505a351c0670c6dc.jpg\" alt=\"The Widow\" class=\"thumbnail\"></a>\\n                    \\n                \\n            </div>\\n        \\n\\n        \\n            \\n                <p class=\"star-rating Two\">\\n                    <i class=\"icon-star\"></i>\\n                    <i class=\"icon-star\"></i>\\n                    <i class=\"icon-star\"></i>\\n                    <i class=\"icon-star\"></i>\\n                    <i class=\"icon-star\"></i>\\n                </p>\\n            \\n        \\n\\n        \\n            <h3><a href=\"../../../the-widow_609/index.html\" title=\"The Widow\">The Widow</a></h3>\\n        \\n\\n        \\n            <div class=\"product_price\">\\n                \\n\\n\\n\\n\\n\\n\\n    \\n        <p class=\"price_color\">\\xc2\\xa327.26</p>\\n    \\n\\n<p class=\"instock availability\">\\n    <i class=\"icon-ok\"></i>\\n    \\n        In stock\\n    \\n</p>\\n\\n                \\n                    \\n\\n\\n\\n\\n\\n\\n    \\n    <form>\\n        <button type=\"submit\" class=\"btn btn-primary btn-block\" data-loading-text=\"Adding...\">Add to basket</button>\\n    </form>\\n\\n\\n                \\n            </div>\\n        \\n    </article>\\n\\n</li>\\n                    \\n                        <li class=\"col-xs-6 col-sm-4 col-md-3 col-lg-3\">\\n\\n\\n\\n\\n\\n\\n    <article class=\"product_pod\">\\n        \\n            <div class=\"image_container\">\\n                \\n                    \\n                    <a href=\"../../../playing-with-fire_602/index.html\"><img src=\"../../../../media/cache/90/0b/900bd2e60d56b6480a4e8eb2dddb46d6.jpg\" alt=\"Playing with Fire\" class=\"thumbnail\"></a>\\n                    \\n                \\n            </div>\\n        \\n\\n        \\n            \\n                <p class=\"star-rating Three\">\\n                    <i class=\"icon-star\"></i>\\n                    <i class=\"icon-star\"></i>\\n                    <i class=\"icon-star\"></i>\\n                    <i class=\"icon-star\"></i>\\n                    <i class=\"icon-star\"></i>\\n                </p>\\n            \\n        \\n\\n        \\n            <h3><a href=\"../../../playing-with-fire_602/index.html\" title=\"Playing with Fire\">Playing with Fire</a></h3>\\n        \\n\\n        \\n            <div class=\"product_price\">\\n                \\n\\n\\n\\n\\n\\n\\n    \\n        <p class=\"price_color\">\\xc2\\xa313.71</p>\\n    \\n\\n<p class=\"instock availability\">\\n    <i class=\"icon-ok\"></i>\\n    \\n        In stock\\n    \\n</p>\\n\\n                \\n                    \\n\\n\\n\\n\\n\\n\\n    \\n    <form>\\n        <button type=\"submit\" class=\"btn btn-primary btn-block\" data-loading-text=\"Adding...\">Add to basket</button>\\n    </form>\\n\\n\\n                \\n            </div>\\n        \\n    </article>\\n\\n</li>\\n                    \\n                        <li class=\"col-xs-6 col-sm-4 col-md-3 col-lg-3\">\\n\\n\\n\\n\\n\\n\\n    <article class=\"product_pod\">\\n        \\n            <div class=\"image_container\">\\n                \\n                    \\n                    <a href=\"../../../what-happened-on-beale-street-secrets-of-the-south-mysteries-2_506/index.html\"><img src=\"../../../../media/cache/c7/ab/c7abb5e32bd37118a87523dcee0a70a6.jpg\" alt=\"What Happened on Beale Street (Secrets of the South Mysteries #2)\" class=\"thumbnail\"></a>\\n                    \\n                \\n            </div>\\n        \\n\\n        \\n            \\n                <p class=\"star-rating Five\">\\n                    <i class=\"icon-star\"></i>\\n                    <i class=\"icon-star\"></i>\\n                    <i class=\"icon-star\"></i>\\n                    <i class=\"icon-star\"></i>\\n                    <i class=\"icon-star\"></i>\\n                </p>\\n            \\n        \\n\\n        \\n            <h3><a href=\"../../../what-happened-on-beale-street-secrets-of-the-south-mysteries-2_506/index.html\" title=\"What Happened on Beale Street (Secrets of the South Mysteries #2)\">What Happened on Beale ...</a></h3>\\n        \\n\\n        \\n            <div class=\"product_price\">\\n                \\n\\n\\n\\n\\n\\n\\n    \\n        <p class=\"price_color\">\\xc2\\xa325.37</p>\\n    \\n\\n<p class=\"instock availability\">\\n    <i class=\"icon-ok\"></i>\\n    \\n        In stock\\n    \\n</p>\\n\\n                \\n                    \\n\\n\\n\\n\\n\\n\\n    \\n    <form>\\n        <button type=\"submit\" class=\"btn btn-primary btn-block\" data-loading-text=\"Adding...\">Add to basket</button>\\n    </form>\\n\\n\\n                \\n            </div>\\n        \\n    </article>\\n\\n</li>\\n                    \\n                        <li class=\"col-xs-6 col-sm-4 col-md-3 col-lg-3\">\\n\\n\\n\\n\\n\\n\\n    <article class=\"product_pod\">\\n        \\n            <div class=\"image_container\">\\n                \\n                    \\n                    <a href=\"../../../the-bachelor-girls-guide-to-murder-herringford-and-watts-mysteries-1_491/index.html\"><img src=\"../../../../media/cache/95/d7/95d7541679fcbd579b8a4f2b47231aaf.jpg\" alt=\"The Bachelor Girl&#39;s Guide to Murder (Herringford and Watts Mysteries #1)\" class=\"thumbnail\"></a>\\n                    \\n                \\n            </div>\\n        \\n\\n        \\n            \\n                <p class=\"star-rating Five\">\\n                    <i class=\"icon-star\"></i>\\n                    <i class=\"icon-star\"></i>\\n                    <i class=\"icon-star\"></i>\\n                    <i class=\"icon-star\"></i>\\n                    <i class=\"icon-star\"></i>\\n                </p>\\n            \\n        \\n\\n        \\n            <h3><a href=\"../../../the-bachelor-girls-guide-to-murder-herringford-and-watts-mysteries-1_491/index.html\" title=\"The Bachelor Girl&#39;s Guide to Murder (Herringford and Watts Mysteries #1)\">The Bachelor Girl&#39;s Guide ...</a></h3>\\n        \\n\\n        \\n            <div class=\"product_price\">\\n                \\n\\n\\n\\n\\n\\n\\n    \\n        <p class=\"price_color\">\\xc2\\xa352.30</p>\\n    \\n\\n<p class=\"instock availability\">\\n    <i class=\"icon-ok\"></i>\\n    \\n        In stock\\n    \\n</p>\\n\\n                \\n                    \\n\\n\\n\\n\\n\\n\\n    \\n    <form>\\n        <button type=\"submit\" class=\"btn btn-primary btn-block\" data-loading-text=\"Adding...\">Add to basket</button>\\n    </form>\\n\\n\\n                \\n            </div>\\n        \\n    </article>\\n\\n</li>\\n                    \\n                        <li class=\"col-xs-6 col-sm-4 col-md-3 col-lg-3\">\\n\\n\\n\\n\\n\\n\\n    <article class=\"product_pod\">\\n        \\n            <div class=\"image_container\">\\n                \\n                    \\n                    <a href=\"../../../delivering-the-truth-quaker-midwife-mystery-1_464/index.html\"><img src=\"../../../../media/cache/57/31/5731a5d46c2c1e88977eb5e6d1337a2e.jpg\" alt=\"Delivering the Truth (Quaker Midwife Mystery #1)\" class=\"thumbnail\"></a>\\n                    \\n                \\n            </div>\\n        \\n\\n        \\n            \\n                <p class=\"star-rating Four\">\\n                    <i class=\"icon-star\"></i>\\n                    <i class=\"icon-star\"></i>\\n                    <i class=\"icon-star\"></i>\\n                    <i class=\"icon-star\"></i>\\n                    <i class=\"icon-star\"></i>\\n                </p>\\n            \\n        \\n\\n        \\n            <h3><a href=\"../../../delivering-the-truth-quaker-midwife-mystery-1_464/index.html\" title=\"Delivering the Truth (Quaker Midwife Mystery #1)\">Delivering the Truth (Quaker ...</a></h3>\\n        \\n\\n        \\n            <div class=\"product_price\">\\n                \\n\\n\\n\\n\\n\\n\\n    \\n        <p class=\"price_color\">\\xc2\\xa320.89</p>\\n    \\n\\n<p class=\"instock availability\">\\n    <i class=\"icon-ok\"></i>\\n    \\n        In stock\\n    \\n</p>\\n\\n                \\n                    \\n\\n\\n\\n\\n\\n\\n    \\n    <form>\\n        <button type=\"submit\" class=\"btn btn-primary btn-block\" data-loading-text=\"Adding...\">Add to basket</button>\\n    </form>\\n\\n\\n                \\n            </div>\\n        \\n    </article>\\n\\n</li>\\n                    \\n                </ol>\\n                \\n\\n\\n\\n    <div>\\n        <ul class=\"pager\">\\n            \\n            <li class=\"current\">\\n            \\n                Page 1 of 2\\n            \\n            </li>\\n            \\n                <li class=\"next\"><a href=\"page-2.html\">next</a></li>\\n            \\n        </ul>\\n    </div>\\n\\n\\n            </div>\\n        </section>\\n    \\n\\n\\n\\n            </div>\\n\\n        </div><!-- /row -->\\n    </div><!-- /page_inner -->\\n</div><!-- /container-fluid -->\\n\\n\\n    \\n<footer class=\"footer container-fluid\">\\n    \\n        \\n    \\n</footer>\\n\\n\\n        \\n        \\n  \\n            <!-- jQuery -->\\n            <script src=\"http://ajax.googleapis.com/ajax/libs/jquery/1.9.1/jquery.min.js\"></script>\\n            <script>window.jQuery || document.write(\\'<script src=\"../../../../static/oscar/js/jquery/jquery-1.9.1.min.js\"><\\\\/script>\\')</script>\\n        \\n  \\n\\n\\n        \\n        \\n    \\n        \\n    <!-- Twitter Bootstrap -->\\n    <script type=\"text/javascript\" src=\"../../../../static/oscar/js/bootstrap3/bootstrap.min.js\"></script>\\n    <!-- Oscar -->\\n    <script src=\"../../../../static/oscar/js/oscar/ui.js\" type=\"text/javascript\" charset=\"utf-8\"></script>\\n\\n    <script src=\"../../../../static/oscar/js/bootstrap-datetimepicker/bootstrap-datetimepicker.js\" type=\"text/javascript\" charset=\"utf-8\"></script>\\n    <script src=\"../../../../static/oscar/js/bootstrap-datetimepicker/locales/bootstrap-datetimepicker.all.js\" type=\"text/javascript\" charset=\"utf-8\"></script>\\n\\n\\n        \\n        \\n    \\n\\n    \\n\\n\\n        \\n        <script type=\"text/javascript\">\\n            $(function() {\\n                \\n    \\n    \\n    oscar.init();\\n\\n    oscar.search.init();\\n\\n            });\\n        </script>\\n\\n        \\n        <!-- Version: N/A -->\\n        \\n    </body>\\n</html>\\n'\n"
     ]
    }
   ],
   "source": [
    "print(response.content)"
   ]
  },
  {
   "cell_type": "code",
   "execution_count": 4,
   "metadata": {},
   "outputs": [],
   "source": [
    "soup = BeautifulSoup(response.content, 'html.parser')"
   ]
  },
  {
   "cell_type": "code",
   "execution_count": 5,
   "metadata": {},
   "outputs": [],
   "source": [
    "all_articles = soup.find_all('article', attrs={'class': 'product_pod'})"
   ]
  },
  {
   "cell_type": "code",
   "execution_count": 6,
   "metadata": {
    "scrolled": false
   },
   "outputs": [
    {
     "data": {
      "text/plain": [
       "20"
      ]
     },
     "execution_count": 6,
     "metadata": {},
     "output_type": "execute_result"
    }
   ],
   "source": [
    "len(all_articles)"
   ]
  },
  {
   "cell_type": "code",
   "execution_count": 7,
   "metadata": {},
   "outputs": [
    {
     "data": {
      "text/plain": [
       "<article class=\"product_pod\">\n",
       "<div class=\"image_container\">\n",
       "<a href=\"../../../sharp-objects_997/index.html\"><img alt=\"Sharp Objects\" class=\"thumbnail\" src=\"../../../../media/cache/32/51/3251cf3a3412f53f339e42cac2134093.jpg\"/></a>\n",
       "</div>\n",
       "<p class=\"star-rating Four\">\n",
       "<i class=\"icon-star\"></i>\n",
       "<i class=\"icon-star\"></i>\n",
       "<i class=\"icon-star\"></i>\n",
       "<i class=\"icon-star\"></i>\n",
       "<i class=\"icon-star\"></i>\n",
       "</p>\n",
       "<h3><a href=\"../../../sharp-objects_997/index.html\" title=\"Sharp Objects\">Sharp Objects</a></h3>\n",
       "<div class=\"product_price\">\n",
       "<p class=\"price_color\">£47.82</p>\n",
       "<p class=\"instock availability\">\n",
       "<i class=\"icon-ok\"></i>\n",
       "    \n",
       "        In stock\n",
       "    \n",
       "</p>\n",
       "<form>\n",
       "<button class=\"btn btn-primary btn-block\" data-loading-text=\"Adding...\" type=\"submit\">Add to basket</button>\n",
       "</form>\n",
       "</div>\n",
       "</article>"
      ]
     },
     "execution_count": 7,
     "metadata": {},
     "output_type": "execute_result"
    }
   ],
   "source": [
    "all_articles[0]"
   ]
  },
  {
   "cell_type": "code",
   "execution_count": 8,
   "metadata": {},
   "outputs": [
    {
     "name": "stdout",
     "output_type": "stream",
     "text": [
      "£47.82\n",
      "Sharp Objects\n",
      "Three\n"
     ]
    }
   ],
   "source": [
    "price = all_articles[0].find('p', attrs={'class': 'price_color'})\n",
    "print(price.get_text())\n",
    "\n",
    "book_name = all_articles[0].find('h3').find('a').get('title')\n",
    "print(book_name)\n",
    "\n",
    "rating = all_articles[12].find('p').get('class')[1]\n",
    "print(rating)"
   ]
  },
  {
   "cell_type": "code",
   "execution_count": 9,
   "metadata": {},
   "outputs": [],
   "source": [
    "import csv\n",
    "\n",
    "\n",
    "def get_books(page):\n",
    "    with open('books.csv', 'w') as f:\n",
    "        writer = csv.DictWriter(f, fieldnames=['title', 'price', 'rate'])\n",
    "        writer.writeheader()\n",
    "        response = requests.request('GET', page)\n",
    "        soup = BeautifulSoup(response.content, 'html.parser')\n",
    "        all_articles = soup.find_all('article', attrs={'class': 'product_pod'})\n",
    "        rates = {'One': 1, 'Two': 2, 'Three': 3, 'Four': 4, 'Five': 5}\n",
    "        for article in all_articles:\n",
    "            price = article.find('p', attrs={'class': 'price_color'}).get_text().split('£')[1]\n",
    "            book_name = article.find('h3').find('a').get('title')\n",
    "            rating = article.find('p').get('class')[1]\n",
    "            writer.writerow({'title': book_name, 'price': price, 'rate': rates[rating]})\n",
    "            print(f'Book name: {book_name}\\nPrice: {price}\\nRate: {rates[rating]}\\n------')"
   ]
  },
  {
   "cell_type": "code",
   "execution_count": 10,
   "metadata": {},
   "outputs": [
    {
     "name": "stdout",
     "output_type": "stream",
     "text": [
      "Book name: The Most Perfect Thing: Inside (and Outside) a Bird's Egg\n",
      "Price: 42.96\n",
      "Rate: 4\n",
      "------\n",
      "Book name: Immunity: How Elie Metchnikoff Changed the Course of Modern Medicine\n",
      "Price: 57.36\n",
      "Rate: 5\n",
      "------\n",
      "Book name: Sorting the Beef from the Bull: The Science of Food Fraud Forensics\n",
      "Price: 44.74\n",
      "Rate: 4\n",
      "------\n",
      "Book name: Tipping Point for Planet Earth: How Close Are We to the Edge?\n",
      "Price: 37.55\n",
      "Rate: 1\n",
      "------\n",
      "Book name: The Fabric of the Cosmos: Space, Time, and the Texture of Reality\n",
      "Price: 55.91\n",
      "Rate: 1\n",
      "------\n",
      "Book name: Diary of a Citizen Scientist: Chasing Tiger Beetles and Other New Ways of Engaging the World\n",
      "Price: 28.41\n",
      "Rate: 1\n",
      "------\n",
      "Book name: The Origin of Species\n",
      "Price: 10.01\n",
      "Rate: 4\n",
      "------\n",
      "Book name: The Grand Design\n",
      "Price: 13.76\n",
      "Rate: 3\n",
      "------\n",
      "Book name: Peak: Secrets from the New Science of Expertise\n",
      "Price: 16.28\n",
      "Rate: 2\n",
      "------\n",
      "Book name: The Elegant Universe: Superstrings, Hidden Dimensions, and the Quest for the Ultimate Theory\n",
      "Price: 13.03\n",
      "Rate: 4\n",
      "------\n",
      "Book name: The Disappearing Spoon: And Other True Tales of Madness, Love, and the History of the World from the Periodic Table of the Elements\n",
      "Price: 57.35\n",
      "Rate: 5\n",
      "------\n",
      "Book name: Surely You're Joking, Mr. Feynman!: Adventures of a Curious Character\n",
      "Price: 25.83\n",
      "Rate: 2\n",
      "------\n",
      "Book name: Seven Brief Lessons on Physics\n",
      "Price: 30.60\n",
      "Rate: 4\n",
      "------\n",
      "Book name: The Selfish Gene\n",
      "Price: 29.45\n",
      "Rate: 1\n",
      "------\n"
     ]
    }
   ],
   "source": [
    "get_books('http://books.toscrape.com/catalogue/category/books/science_22/index.html')"
   ]
  },
  {
   "cell_type": "code",
   "execution_count": 11,
   "metadata": {},
   "outputs": [
    {
     "data": {
      "text/html": [
       "<div>\n",
       "<style scoped>\n",
       "    .dataframe tbody tr th:only-of-type {\n",
       "        vertical-align: middle;\n",
       "    }\n",
       "\n",
       "    .dataframe tbody tr th {\n",
       "        vertical-align: top;\n",
       "    }\n",
       "\n",
       "    .dataframe thead th {\n",
       "        text-align: right;\n",
       "    }\n",
       "</style>\n",
       "<table border=\"1\" class=\"dataframe\">\n",
       "  <thead>\n",
       "    <tr style=\"text-align: right;\">\n",
       "      <th></th>\n",
       "      <th>title</th>\n",
       "      <th>price</th>\n",
       "      <th>rate</th>\n",
       "    </tr>\n",
       "  </thead>\n",
       "  <tbody>\n",
       "    <tr>\n",
       "      <th>0</th>\n",
       "      <td>The Most Perfect Thing: Inside (and Outside) a...</td>\n",
       "      <td>42.96</td>\n",
       "      <td>4</td>\n",
       "    </tr>\n",
       "    <tr>\n",
       "      <th>1</th>\n",
       "      <td>Immunity: How Elie Metchnikoff Changed the Cou...</td>\n",
       "      <td>57.36</td>\n",
       "      <td>5</td>\n",
       "    </tr>\n",
       "    <tr>\n",
       "      <th>2</th>\n",
       "      <td>Sorting the Beef from the Bull: The Science of...</td>\n",
       "      <td>44.74</td>\n",
       "      <td>4</td>\n",
       "    </tr>\n",
       "    <tr>\n",
       "      <th>3</th>\n",
       "      <td>Tipping Point for Planet Earth: How Close Are ...</td>\n",
       "      <td>37.55</td>\n",
       "      <td>1</td>\n",
       "    </tr>\n",
       "    <tr>\n",
       "      <th>4</th>\n",
       "      <td>The Fabric of the Cosmos: Space, Time, and the...</td>\n",
       "      <td>55.91</td>\n",
       "      <td>1</td>\n",
       "    </tr>\n",
       "    <tr>\n",
       "      <th>5</th>\n",
       "      <td>Diary of a Citizen Scientist: Chasing Tiger Be...</td>\n",
       "      <td>28.41</td>\n",
       "      <td>1</td>\n",
       "    </tr>\n",
       "    <tr>\n",
       "      <th>6</th>\n",
       "      <td>The Origin of Species</td>\n",
       "      <td>10.01</td>\n",
       "      <td>4</td>\n",
       "    </tr>\n",
       "    <tr>\n",
       "      <th>7</th>\n",
       "      <td>The Grand Design</td>\n",
       "      <td>13.76</td>\n",
       "      <td>3</td>\n",
       "    </tr>\n",
       "    <tr>\n",
       "      <th>8</th>\n",
       "      <td>Peak: Secrets from the New Science of Expertise</td>\n",
       "      <td>16.28</td>\n",
       "      <td>2</td>\n",
       "    </tr>\n",
       "    <tr>\n",
       "      <th>9</th>\n",
       "      <td>The Elegant Universe: Superstrings, Hidden Dim...</td>\n",
       "      <td>13.03</td>\n",
       "      <td>4</td>\n",
       "    </tr>\n",
       "    <tr>\n",
       "      <th>10</th>\n",
       "      <td>The Disappearing Spoon: And Other True Tales o...</td>\n",
       "      <td>57.35</td>\n",
       "      <td>5</td>\n",
       "    </tr>\n",
       "    <tr>\n",
       "      <th>11</th>\n",
       "      <td>Surely You're Joking, Mr. Feynman!: Adventures...</td>\n",
       "      <td>25.83</td>\n",
       "      <td>2</td>\n",
       "    </tr>\n",
       "    <tr>\n",
       "      <th>12</th>\n",
       "      <td>Seven Brief Lessons on Physics</td>\n",
       "      <td>30.60</td>\n",
       "      <td>4</td>\n",
       "    </tr>\n",
       "    <tr>\n",
       "      <th>13</th>\n",
       "      <td>The Selfish Gene</td>\n",
       "      <td>29.45</td>\n",
       "      <td>1</td>\n",
       "    </tr>\n",
       "  </tbody>\n",
       "</table>\n",
       "</div>"
      ],
      "text/plain": [
       "                                                title  price  rate\n",
       "0   The Most Perfect Thing: Inside (and Outside) a...  42.96     4\n",
       "1   Immunity: How Elie Metchnikoff Changed the Cou...  57.36     5\n",
       "2   Sorting the Beef from the Bull: The Science of...  44.74     4\n",
       "3   Tipping Point for Planet Earth: How Close Are ...  37.55     1\n",
       "4   The Fabric of the Cosmos: Space, Time, and the...  55.91     1\n",
       "5   Diary of a Citizen Scientist: Chasing Tiger Be...  28.41     1\n",
       "6                               The Origin of Species  10.01     4\n",
       "7                                    The Grand Design  13.76     3\n",
       "8     Peak: Secrets from the New Science of Expertise  16.28     2\n",
       "9   The Elegant Universe: Superstrings, Hidden Dim...  13.03     4\n",
       "10  The Disappearing Spoon: And Other True Tales o...  57.35     5\n",
       "11  Surely You're Joking, Mr. Feynman!: Adventures...  25.83     2\n",
       "12                     Seven Brief Lessons on Physics  30.60     4\n",
       "13                                   The Selfish Gene  29.45     1"
      ]
     },
     "execution_count": 11,
     "metadata": {},
     "output_type": "execute_result"
    }
   ],
   "source": [
    "import pandas as pd\n",
    "\n",
    "books = pd.read_csv('books.csv')\n",
    "books"
   ]
  },
  {
   "cell_type": "code",
   "execution_count": null,
   "metadata": {},
   "outputs": [],
   "source": []
  }
 ],
 "metadata": {
  "kernelspec": {
   "display_name": "Tensorflow GPU",
   "language": "python",
   "name": "tensorflow"
  },
  "language_info": {
   "codemirror_mode": {
    "name": "ipython",
    "version": 3
   },
   "file_extension": ".py",
   "mimetype": "text/x-python",
   "name": "python",
   "nbconvert_exporter": "python",
   "pygments_lexer": "ipython3",
   "version": "3.7.6"
  }
 },
 "nbformat": 4,
 "nbformat_minor": 4
}
