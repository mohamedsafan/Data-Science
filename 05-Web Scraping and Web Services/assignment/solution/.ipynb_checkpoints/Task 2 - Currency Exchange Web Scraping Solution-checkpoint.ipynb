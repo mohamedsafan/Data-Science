{
 "cells": [
  {
   "cell_type": "code",
   "execution_count": 1,
   "metadata": {},
   "outputs": [
    {
     "name": "stdout",
     "output_type": "stream",
     "text": [
      "enter ur dollars: 10\n",
      "10 USD = 162.422 EGP\n"
     ]
    }
   ],
   "source": [
    "import requests\n",
    "from bs4 import BeautifulSoup\n",
    "\n",
    "\n",
    "\n",
    "dollars_count = int(input('enter ur dollars: '))\n",
    "\n",
    "\n",
    "response = requests.request('GET', 'https://www.exchangerates.org.uk/Dollars-to-Egyptian-Pounds-currency-conversion-page.html')\n",
    "url = 'https://api.ratesapi.io/api/latest?base=USD&symbols=EUR'\n",
    "soup = BeautifulSoup(response.content, 'html.parser')\n",
    "exchange_rate = float(soup.find('span', attrs={'id': 'shd2b;'}).get_text())\n",
    "\n",
    "\n",
    "result = exchange_rate * dollars_count\n",
    "\n",
    "print(str(dollars_count) + ' USD = ' + str(result) + ' EGP')"
   ]
  }
 ],
 "metadata": {
  "kernelspec": {
   "display_name": "Python 3",
   "language": "python",
   "name": "python3"
  },
  "language_info": {
   "codemirror_mode": {
    "name": "ipython",
    "version": 3
   },
   "file_extension": ".py",
   "mimetype": "text/x-python",
   "name": "python",
   "nbconvert_exporter": "python",
   "pygments_lexer": "ipython3",
   "version": "3.7.6"
  }
 },
 "nbformat": 4,
 "nbformat_minor": 2
}
