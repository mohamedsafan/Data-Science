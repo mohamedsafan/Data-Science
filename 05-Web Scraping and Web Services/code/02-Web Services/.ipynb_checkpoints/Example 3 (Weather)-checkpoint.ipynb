{
 "cells": [
  {
   "cell_type": "code",
   "execution_count": 1,
   "metadata": {},
   "outputs": [
    {
     "name": "stdout",
     "output_type": "stream",
     "text": [
      "Im from: Egypt,Al Qahirah\n",
      "The weather is: 27 (Clear)\n"
     ]
    }
   ],
   "source": [
    "import requests, json\n",
    "\n",
    "\n",
    "city = 'Cairo'\n",
    "url = \"http://api.weatherstack.com/current?access_key=cce43aa3a3de500cc32c5df0e67c9408&query=\" + city\n",
    "\n",
    "response = requests.request(\"GET\", url)\n",
    "json_response = json.loads(response.text)\n",
    "\n",
    "\n",
    "desc = json_response['current']['weather_descriptions'][0]\n",
    "temp = json_response['current']['temperature']\n",
    "\n",
    "country = json_response['location']['country']\n",
    "region = json_response['location']['region']\n",
    "\n",
    "print('Im from: ' + country + ',' + region)\n",
    "print('The weather is: ' + str(temp) + ' (' + desc + ')')"
   ]
  },
  {
   "cell_type": "code",
   "execution_count": null,
   "metadata": {},
   "outputs": [],
   "source": []
  }
 ],
 "metadata": {
  "kernelspec": {
   "display_name": "Python 3",
   "language": "python",
   "name": "python3"
  },
  "language_info": {
   "codemirror_mode": {
    "name": "ipython",
    "version": 3
   },
   "file_extension": ".py",
   "mimetype": "text/x-python",
   "name": "python",
   "nbconvert_exporter": "python",
   "pygments_lexer": "ipython3",
   "version": "3.7.6"
  }
 },
 "nbformat": 4,
 "nbformat_minor": 2
}
