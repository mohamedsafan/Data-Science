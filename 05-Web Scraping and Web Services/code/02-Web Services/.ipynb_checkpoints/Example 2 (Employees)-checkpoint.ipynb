{
 "cells": [
  {
   "cell_type": "code",
   "execution_count": 5,
   "metadata": {},
   "outputs": [
    {
     "name": "stdout",
     "output_type": "stream",
     "text": [
      "b'{\"_meta\":{\"success\":true,\"code\":200,\"message\":\"OK. Everything worked as expected.\",\"totalCount\":2210,\"pageCount\":111,\"currentPage\":1,\"perPage\":20,\"rateLimit\":{\"limit\":30,\"remaining\":29,\"reset\":2}},\"result\":[{\"id\":\"1704\",\"first_name\":\"Erin\",\"last_name\":\"Sawayn\",\"gender\":\"male\",\"dob\":\"1958-07-30\",\"email\":\"mabel.schulist@example.net\",\"phone\":\"+1 (639) 357-1656\",\"website\":\"https://www.boyer.info/a-nulla-mollitia-aut-ullam-non-iste-et-est\",\"address\":\"6982 Michele Garden Apt. 938\\\\nPort Eleazarbury, AZ 93199-7346\",\"status\":\"active\",\"_links\":{\"self\":{\"href\":\"https://gorest.co.in/public-api/users/1704\"},\"edit\":{\"href\":\"https://gorest.co.in/public-api/users/1704\"},\"avatar\":{\"href\":\"https://lorempixel.com/250/250/people/?81683\"}}},{\"id\":\"1706\",\"first_name\":\"Rickie\",\"last_name\":\"Deckow\",\"gender\":\"male\",\"dob\":\"1954-06-14\",\"email\":\"johnston.cedrick@example.net\",\"phone\":\"(776) 807-8779 x233\",\"website\":\"http://www.ratke.com/et-id-sit-cumque-qui-numquam-aut-cum-accusamus\",\"address\":\"5013 Ryder Shore Suite 436\\\\nSouth Georgiana, UT 17257-0568\",\"status\":\"active\",\"_links\":{\"self\":{\"href\":\"https://gorest.co.in/public-api/users/1706\"},\"edit\":{\"href\":\"https://gorest.co.in/public-api/users/1706\"},\"avatar\":{\"href\":\"https://lorempixel.com/250/250/people/?98080\"}}},{\"id\":\"1707\",\"first_name\":\"Jovan\",\"last_name\":\"Denesik\",\"gender\":\"male\",\"dob\":\"2007-12-20\",\"email\":\"hunter59@example.com\",\"phone\":\"579-953-9673 x0354\",\"website\":\"https://www.zboncak.com/fuga-cumque-in-est-ducimus-perspiciatis-atque-quia-alias\",\"address\":\"356 Elizabeth Valley Suite 107\\\\nTierraburgh, NY 05322-8906\",\"status\":\"inactive\",\"_links\":{\"self\":{\"href\":\"https://gorest.co.in/public-api/users/1707\"},\"edit\":{\"href\":\"https://gorest.co.in/public-api/users/1707\"},\"avatar\":{\"href\":\"https://lorempixel.com/250/250/people/?31152\"}}},{\"id\":\"1709\",\"first_name\":\"Lillian\",\"last_name\":\"Upton\",\"gender\":\"female\",\"dob\":\"1932-03-29\",\"email\":\"test.automation.424@toptal.com\",\"phone\":\"(880) 484-4569\",\"website\":\"http://www.feest.com/\",\"address\":\"226 Kirlin Light\\\\nEast Garnet, WY 22673\",\"status\":\"inactive\",\"_links\":{\"self\":{\"href\":\"https://gorest.co.in/public-api/users/1709\"},\"edit\":{\"href\":\"https://gorest.co.in/public-api/users/1709\"},\"avatar\":{\"href\":\"https://lorempixel.com/250/250/people/?52050\"}}},{\"id\":\"1710\",\"first_name\":\"Mark\",\"last_name\":\"Haley\",\"gender\":\"male\",\"dob\":\"1979-11-24\",\"email\":\"mckenzie.daren@example.org\",\"phone\":\"1-650-589-4003 x82372\",\"website\":\"http://ebert.com/consequatur-dolor-repellendus-provident-magni-molestiae-facere-fuga-voluptatem\",\"address\":\"206 O\\'Reilly Valley Suite 149\\\\nNorth Elfriedahaven, RI 86992-9394\",\"status\":\"active\",\"_links\":{\"self\":{\"href\":\"https://gorest.co.in/public-api/users/1710\"},\"edit\":{\"href\":\"https://gorest.co.in/public-api/users/1710\"},\"avatar\":{\"href\":\"https://lorempixel.com/250/250/people/?55489\"}}},{\"id\":\"1711\",\"first_name\":\"Braeden\",\"last_name\":\"Swaniawski\",\"gender\":\"male\",\"dob\":\"1970-04-23\",\"email\":\"ned73@example.com\",\"phone\":\"226-669-4898 x53697\",\"website\":\"http://macejkovic.net/illum-tenetur-voluptates-ut-aperiam-et-mollitia-adipisci-dolorem\",\"address\":\"653 Joanie Island Apt. 629\\\\nBruenton, DC 75709-9229\",\"status\":\"active\",\"_links\":{\"self\":{\"href\":\"https://gorest.co.in/public-api/users/1711\"},\"edit\":{\"href\":\"https://gorest.co.in/public-api/users/1711\"},\"avatar\":{\"href\":\"https://lorempixel.com/250/250/people/?11920\"}}},{\"id\":\"1712\",\"first_name\":\"Karelle\",\"last_name\":\"Hackett\",\"gender\":\"female\",\"dob\":\"1981-09-10\",\"email\":\"hills.ansel@example.org\",\"phone\":\"480.994.6256 x2931\",\"website\":\"http://lemke.com/voluptatum-porro-modi-voluptatem\",\"address\":\"402 Daisy Fort\\\\nPattiemouth, ID 97561-1710\",\"status\":\"active\",\"_links\":{\"self\":{\"href\":\"https://gorest.co.in/public-api/users/1712\"},\"edit\":{\"href\":\"https://gorest.co.in/public-api/users/1712\"},\"avatar\":{\"href\":\"https://lorempixel.com/250/250/people/?78549\"}}},{\"id\":\"1713\",\"first_name\":\"Turner\",\"last_name\":\"Stark\",\"gender\":\"male\",\"dob\":\"1933-10-28\",\"email\":\"erenner@example.org\",\"phone\":\"+1.542.550.7785\",\"website\":\"https://www.osinski.com/tenetur-libero-amet-eos-delectus-sit-saepe-dicta\",\"address\":\"57526 Pfannerstill FieldsLehnerburgh, OR 78899\",\"status\":\"active\",\"_links\":{\"self\":{\"href\":\"https://gorest.co.in/public-api/users/1713\"},\"edit\":{\"href\":\"https://gorest.co.in/public-api/users/1713\"},\"avatar\":{\"href\":\"https://previews.123rf.com/images/aurora72/aurora721606/aurora72160600011/59282570-avatar-girls-icon.jpg\"}}},{\"id\":\"1714\",\"first_name\":\"Brendon\",\"last_name\":\"Okuneva\",\"gender\":\"male\",\"dob\":\"1960-12-24\",\"email\":\"ihermiston@example.org\",\"phone\":\"460-628-9260 x46425\",\"website\":\"http://www.torp.biz/provident-optio-sint-atque-velit\",\"address\":\"600 Hayes Island\\\\nSouth Hannahmouth, WV 31020\",\"status\":\"active\",\"_links\":{\"self\":{\"href\":\"https://gorest.co.in/public-api/users/1714\"},\"edit\":{\"href\":\"https://gorest.co.in/public-api/users/1714\"},\"avatar\":{\"href\":\"https://lorempixel.com/250/250/people/?74451\"}}},{\"id\":\"1716\",\"first_name\":\"Dexter\",\"last_name\":\"Langosh\",\"gender\":\"male\",\"dob\":\"1940-03-23\",\"email\":\"norris.koch@example.org\",\"phone\":\"+18652795966\",\"website\":\"http://miller.org/vel-voluptatem-et-ab-et-quam-omnis-quia\",\"address\":\"91200 Koch Flat Apt. 689\\\\nNorth Annamae, CT 71498\",\"status\":\"inactive\",\"_links\":{\"self\":{\"href\":\"https://gorest.co.in/public-api/users/1716\"},\"edit\":{\"href\":\"https://gorest.co.in/public-api/users/1716\"},\"avatar\":{\"href\":\"https://lorempixel.com/250/250/people/?95557\"}}},{\"id\":\"1717\",\"first_name\":\"new\",\"last_name\":\"new\",\"gender\":\"male\",\"dob\":\"1985-08-02\",\"email\":\"davon90@example.org\",\"phone\":\"+12153514629\",\"website\":\"http://kunde.com/\",\"address\":\"132 Volkman CrescentWest Rupert, ID 41899-5169\",\"status\":\"active\",\"_links\":{\"self\":{\"href\":\"https://gorest.co.in/public-api/users/1717\"},\"edit\":{\"href\":\"https://gorest.co.in/public-api/users/1717\"},\"avatar\":{\"href\":\"https://www.publicdomainpictures.net/pictures/270000/nahled/man-avatar.jpg\"}}},{\"id\":\"1719\",\"first_name\":\"Otha\",\"last_name\":\"Effertz\",\"gender\":\"female\",\"dob\":\"1932-06-28\",\"email\":\"wupton@example.org\",\"phone\":\"1-314-560-8992 x3872\",\"website\":\"https://www.prohaska.org/fugiat-sit-quam-molestiae-cumque-ipsam-aperiam\",\"address\":\"95386 Katlynn Plain Apt. 617\\\\nNew Elian, HI 73078\",\"status\":\"inactive\",\"_links\":{\"self\":{\"href\":\"https://gorest.co.in/public-api/users/1719\"},\"edit\":{\"href\":\"https://gorest.co.in/public-api/users/1719\"},\"avatar\":{\"href\":\"https://lorempixel.com/250/250/people/?98154\"}}},{\"id\":\"1720\",\"first_name\":\"Jayda\",\"last_name\":\"Torphy\",\"gender\":\"female\",\"dob\":\"1967-10-29\",\"email\":\"wconnelly@example.com\",\"phone\":\"481-471-7726\",\"website\":\"http://jenkins.com/sequi-quod-enim-illo-ratione\",\"address\":\"6165 Emmerich Spring\\\\nPort Manleybury, NJ 31852\",\"status\":\"active\",\"_links\":{\"self\":{\"href\":\"https://gorest.co.in/public-api/users/1720\"},\"edit\":{\"href\":\"https://gorest.co.in/public-api/users/1720\"},\"avatar\":{\"href\":\"https://lorempixel.com/250/250/people/?13972\"}}},{\"id\":\"1721\",\"first_name\":\"Elenor\",\"last_name\":\"Casper\",\"gender\":\"female\",\"dob\":\"1974-01-06\",\"email\":\"crona.eriberto@example.com\",\"phone\":\"1-482-261-1206 x55791\",\"website\":\"http://www.breitenberg.com/\",\"address\":\"4218 Sandrine Brooks\\\\nNikolauston, GA 08020-1570\",\"status\":\"active\",\"_links\":{\"self\":{\"href\":\"https://gorest.co.in/public-api/users/1721\"},\"edit\":{\"href\":\"https://gorest.co.in/public-api/users/1721\"},\"avatar\":{\"href\":\"https://lorempixel.com/250/250/people/?84254\"}}},{\"id\":\"1722\",\"first_name\":\"Antonio\",\"last_name\":\"Witting\",\"gender\":\"male\",\"dob\":\"1938-04-03\",\"email\":\"chance03@example.net\",\"phone\":\"+17242288965\",\"website\":\"http://www.swift.com/dolores-qui-fuga-nulla-debitis-omnis\",\"address\":\"946 Rick Mountain\\\\nLake Edward, FL 33509-0415\",\"status\":\"active\",\"_links\":{\"self\":{\"href\":\"https://gorest.co.in/public-api/users/1722\"},\"edit\":{\"href\":\"https://gorest.co.in/public-api/users/1722\"},\"avatar\":{\"href\":\"https://lorempixel.com/250/250/people/?26973\"}}},{\"id\":\"1723\",\"first_name\":\"Kamron\",\"last_name\":\"Gibson\",\"gender\":\"male\",\"dob\":\"1923-07-26\",\"email\":\"cassin.arlo@example.org\",\"phone\":\"(780) 520-9445\",\"website\":\"http://buckridge.net/pariatur-alias-magnam-aut-nihil-quis-non-assumenda\",\"address\":\"7579 Armani Curve Suite 009\\\\nNew Demarcomouth, RI 29544\",\"status\":\"active\",\"_links\":{\"self\":{\"href\":\"https://gorest.co.in/public-api/users/1723\"},\"edit\":{\"href\":\"https://gorest.co.in/public-api/users/1723\"},\"avatar\":{\"href\":\"https://lorempixel.com/250/250/people/?87276\"}}},{\"id\":\"1724\",\"first_name\":\"Lenore\",\"last_name\":\"Nitzsche\",\"gender\":\"female\",\"dob\":\"1970-03-11\",\"email\":\"swiegand@example.net\",\"phone\":\"(418) 450-3060\",\"website\":\"http://www.gleason.net/porro-optio-et-est-nulla-accusantium-non-neque\",\"address\":\"2353 Bartell Common\\\\nLake Brandon, CT 28745-3798\",\"status\":\"active\",\"_links\":{\"self\":{\"href\":\"https://gorest.co.in/public-api/users/1724\"},\"edit\":{\"href\":\"https://gorest.co.in/public-api/users/1724\"},\"avatar\":{\"href\":\"https://lorempixel.com/250/250/people/?67357\"}}},{\"id\":\"1725\",\"first_name\":\"Geo\",\"last_name\":\"Cassin\",\"gender\":\"male\",\"dob\":\"2016-09-29\",\"email\":\"jmonahan@example.net\",\"phone\":\"1-315-458-5730 x977\",\"website\":\"http://www.parisian.com/corrupti-doloremque-voluptatem-omnis-fugit\",\"address\":\"73287 Jakubowski Extensions Suite 223\\\\nYostberg, AR 54429-9756\",\"status\":\"active\",\"_links\":{\"self\":{\"href\":\"https://gorest.co.in/public-api/users/1725\"},\"edit\":{\"href\":\"https://gorest.co.in/public-api/users/1725\"},\"avatar\":{\"href\":\"https://lorempixel.com/250/250/people/?97657\"}}},{\"id\":\"1726\",\"first_name\":\"Monty\",\"last_name\":\"Ortiz\",\"gender\":\"male\",\"dob\":\"1950-05-03\",\"email\":\"troy.mcglynn@example.org\",\"phone\":\"(276) 645-7336\",\"website\":\"http://www.vandervort.com/odio-esse-perspiciatis-inventore-itaque-aut-ipsam-aut-dolorem\",\"address\":\"88262 Davonte Inlet Suite 822\\\\nGreenholtshire, MD 49082-4269\",\"status\":\"inactive\",\"_links\":{\"self\":{\"href\":\"https://gorest.co.in/public-api/users/1726\"},\"edit\":{\"href\":\"https://gorest.co.in/public-api/users/1726\"},\"avatar\":{\"href\":\"https://lorempixel.com/250/250/people/?91579\"}}},{\"id\":\"1727\",\"first_name\":\"Lourdes\",\"last_name\":\"Vandervort\",\"gender\":\"male\",\"dob\":\"1932-02-27\",\"email\":\"anissa62@example.net\",\"phone\":\"670-660-2162 x8437\",\"website\":\"http://kohler.com/dolor-blanditiis-quisquam-officiis-aliquid.html\",\"address\":\"117 Eric Rapid\\\\nNew Patsystad, ME 37811-3729\",\"status\":\"active\",\"_links\":{\"self\":{\"href\":\"https://gorest.co.in/public-api/users/1727\"},\"edit\":{\"href\":\"https://gorest.co.in/public-api/users/1727\"},\"avatar\":{\"href\":\"https://lorempixel.com/250/250/people/?86976\"}}}]}'\n"
     ]
    }
   ],
   "source": [
    "import requests, json\n",
    "\n",
    "url = \"https://gorest.co.in/public-api/users?_format=json&access-token=H4lYmIGLXZkDlpy_w0ZVS5rgcpDXbN7fhRRy\"\n",
    "response = requests.request(\"GET\", url)\n",
    "print(response.content)"
   ]
  },
  {
   "cell_type": "code",
   "execution_count": 6,
   "metadata": {},
   "outputs": [
    {
     "data": {
      "text/plain": [
       "str"
      ]
     },
     "execution_count": 6,
     "metadata": {},
     "output_type": "execute_result"
    }
   ],
   "source": [
    "type(response.text)"
   ]
  },
  {
   "cell_type": "code",
   "execution_count": 7,
   "metadata": {},
   "outputs": [
    {
     "name": "stdout",
     "output_type": "stream",
     "text": [
      "{'_meta': {'success': True, 'code': 200, 'message': 'OK. Everything worked as expected.', 'totalCount': 2210, 'pageCount': 111, 'currentPage': 1, 'perPage': 20, 'rateLimit': {'limit': 30, 'remaining': 29, 'reset': 2}}, 'result': [{'id': '1704', 'first_name': 'Erin', 'last_name': 'Sawayn', 'gender': 'male', 'dob': '1958-07-30', 'email': 'mabel.schulist@example.net', 'phone': '+1 (639) 357-1656', 'website': 'https://www.boyer.info/a-nulla-mollitia-aut-ullam-non-iste-et-est', 'address': '6982 Michele Garden Apt. 938\\nPort Eleazarbury, AZ 93199-7346', 'status': 'active', '_links': {'self': {'href': 'https://gorest.co.in/public-api/users/1704'}, 'edit': {'href': 'https://gorest.co.in/public-api/users/1704'}, 'avatar': {'href': 'https://lorempixel.com/250/250/people/?81683'}}}, {'id': '1706', 'first_name': 'Rickie', 'last_name': 'Deckow', 'gender': 'male', 'dob': '1954-06-14', 'email': 'johnston.cedrick@example.net', 'phone': '(776) 807-8779 x233', 'website': 'http://www.ratke.com/et-id-sit-cumque-qui-numquam-aut-cum-accusamus', 'address': '5013 Ryder Shore Suite 436\\nSouth Georgiana, UT 17257-0568', 'status': 'active', '_links': {'self': {'href': 'https://gorest.co.in/public-api/users/1706'}, 'edit': {'href': 'https://gorest.co.in/public-api/users/1706'}, 'avatar': {'href': 'https://lorempixel.com/250/250/people/?98080'}}}, {'id': '1707', 'first_name': 'Jovan', 'last_name': 'Denesik', 'gender': 'male', 'dob': '2007-12-20', 'email': 'hunter59@example.com', 'phone': '579-953-9673 x0354', 'website': 'https://www.zboncak.com/fuga-cumque-in-est-ducimus-perspiciatis-atque-quia-alias', 'address': '356 Elizabeth Valley Suite 107\\nTierraburgh, NY 05322-8906', 'status': 'inactive', '_links': {'self': {'href': 'https://gorest.co.in/public-api/users/1707'}, 'edit': {'href': 'https://gorest.co.in/public-api/users/1707'}, 'avatar': {'href': 'https://lorempixel.com/250/250/people/?31152'}}}, {'id': '1709', 'first_name': 'Lillian', 'last_name': 'Upton', 'gender': 'female', 'dob': '1932-03-29', 'email': 'test.automation.424@toptal.com', 'phone': '(880) 484-4569', 'website': 'http://www.feest.com/', 'address': '226 Kirlin Light\\nEast Garnet, WY 22673', 'status': 'inactive', '_links': {'self': {'href': 'https://gorest.co.in/public-api/users/1709'}, 'edit': {'href': 'https://gorest.co.in/public-api/users/1709'}, 'avatar': {'href': 'https://lorempixel.com/250/250/people/?52050'}}}, {'id': '1710', 'first_name': 'Mark', 'last_name': 'Haley', 'gender': 'male', 'dob': '1979-11-24', 'email': 'mckenzie.daren@example.org', 'phone': '1-650-589-4003 x82372', 'website': 'http://ebert.com/consequatur-dolor-repellendus-provident-magni-molestiae-facere-fuga-voluptatem', 'address': \"206 O'Reilly Valley Suite 149\\nNorth Elfriedahaven, RI 86992-9394\", 'status': 'active', '_links': {'self': {'href': 'https://gorest.co.in/public-api/users/1710'}, 'edit': {'href': 'https://gorest.co.in/public-api/users/1710'}, 'avatar': {'href': 'https://lorempixel.com/250/250/people/?55489'}}}, {'id': '1711', 'first_name': 'Braeden', 'last_name': 'Swaniawski', 'gender': 'male', 'dob': '1970-04-23', 'email': 'ned73@example.com', 'phone': '226-669-4898 x53697', 'website': 'http://macejkovic.net/illum-tenetur-voluptates-ut-aperiam-et-mollitia-adipisci-dolorem', 'address': '653 Joanie Island Apt. 629\\nBruenton, DC 75709-9229', 'status': 'active', '_links': {'self': {'href': 'https://gorest.co.in/public-api/users/1711'}, 'edit': {'href': 'https://gorest.co.in/public-api/users/1711'}, 'avatar': {'href': 'https://lorempixel.com/250/250/people/?11920'}}}, {'id': '1712', 'first_name': 'Karelle', 'last_name': 'Hackett', 'gender': 'female', 'dob': '1981-09-10', 'email': 'hills.ansel@example.org', 'phone': '480.994.6256 x2931', 'website': 'http://lemke.com/voluptatum-porro-modi-voluptatem', 'address': '402 Daisy Fort\\nPattiemouth, ID 97561-1710', 'status': 'active', '_links': {'self': {'href': 'https://gorest.co.in/public-api/users/1712'}, 'edit': {'href': 'https://gorest.co.in/public-api/users/1712'}, 'avatar': {'href': 'https://lorempixel.com/250/250/people/?78549'}}}, {'id': '1713', 'first_name': 'Turner', 'last_name': 'Stark', 'gender': 'male', 'dob': '1933-10-28', 'email': 'erenner@example.org', 'phone': '+1.542.550.7785', 'website': 'https://www.osinski.com/tenetur-libero-amet-eos-delectus-sit-saepe-dicta', 'address': '57526 Pfannerstill FieldsLehnerburgh, OR 78899', 'status': 'active', '_links': {'self': {'href': 'https://gorest.co.in/public-api/users/1713'}, 'edit': {'href': 'https://gorest.co.in/public-api/users/1713'}, 'avatar': {'href': 'https://previews.123rf.com/images/aurora72/aurora721606/aurora72160600011/59282570-avatar-girls-icon.jpg'}}}, {'id': '1714', 'first_name': 'Brendon', 'last_name': 'Okuneva', 'gender': 'male', 'dob': '1960-12-24', 'email': 'ihermiston@example.org', 'phone': '460-628-9260 x46425', 'website': 'http://www.torp.biz/provident-optio-sint-atque-velit', 'address': '600 Hayes Island\\nSouth Hannahmouth, WV 31020', 'status': 'active', '_links': {'self': {'href': 'https://gorest.co.in/public-api/users/1714'}, 'edit': {'href': 'https://gorest.co.in/public-api/users/1714'}, 'avatar': {'href': 'https://lorempixel.com/250/250/people/?74451'}}}, {'id': '1716', 'first_name': 'Dexter', 'last_name': 'Langosh', 'gender': 'male', 'dob': '1940-03-23', 'email': 'norris.koch@example.org', 'phone': '+18652795966', 'website': 'http://miller.org/vel-voluptatem-et-ab-et-quam-omnis-quia', 'address': '91200 Koch Flat Apt. 689\\nNorth Annamae, CT 71498', 'status': 'inactive', '_links': {'self': {'href': 'https://gorest.co.in/public-api/users/1716'}, 'edit': {'href': 'https://gorest.co.in/public-api/users/1716'}, 'avatar': {'href': 'https://lorempixel.com/250/250/people/?95557'}}}, {'id': '1717', 'first_name': 'new', 'last_name': 'new', 'gender': 'male', 'dob': '1985-08-02', 'email': 'davon90@example.org', 'phone': '+12153514629', 'website': 'http://kunde.com/', 'address': '132 Volkman CrescentWest Rupert, ID 41899-5169', 'status': 'active', '_links': {'self': {'href': 'https://gorest.co.in/public-api/users/1717'}, 'edit': {'href': 'https://gorest.co.in/public-api/users/1717'}, 'avatar': {'href': 'https://www.publicdomainpictures.net/pictures/270000/nahled/man-avatar.jpg'}}}, {'id': '1719', 'first_name': 'Otha', 'last_name': 'Effertz', 'gender': 'female', 'dob': '1932-06-28', 'email': 'wupton@example.org', 'phone': '1-314-560-8992 x3872', 'website': 'https://www.prohaska.org/fugiat-sit-quam-molestiae-cumque-ipsam-aperiam', 'address': '95386 Katlynn Plain Apt. 617\\nNew Elian, HI 73078', 'status': 'inactive', '_links': {'self': {'href': 'https://gorest.co.in/public-api/users/1719'}, 'edit': {'href': 'https://gorest.co.in/public-api/users/1719'}, 'avatar': {'href': 'https://lorempixel.com/250/250/people/?98154'}}}, {'id': '1720', 'first_name': 'Jayda', 'last_name': 'Torphy', 'gender': 'female', 'dob': '1967-10-29', 'email': 'wconnelly@example.com', 'phone': '481-471-7726', 'website': 'http://jenkins.com/sequi-quod-enim-illo-ratione', 'address': '6165 Emmerich Spring\\nPort Manleybury, NJ 31852', 'status': 'active', '_links': {'self': {'href': 'https://gorest.co.in/public-api/users/1720'}, 'edit': {'href': 'https://gorest.co.in/public-api/users/1720'}, 'avatar': {'href': 'https://lorempixel.com/250/250/people/?13972'}}}, {'id': '1721', 'first_name': 'Elenor', 'last_name': 'Casper', 'gender': 'female', 'dob': '1974-01-06', 'email': 'crona.eriberto@example.com', 'phone': '1-482-261-1206 x55791', 'website': 'http://www.breitenberg.com/', 'address': '4218 Sandrine Brooks\\nNikolauston, GA 08020-1570', 'status': 'active', '_links': {'self': {'href': 'https://gorest.co.in/public-api/users/1721'}, 'edit': {'href': 'https://gorest.co.in/public-api/users/1721'}, 'avatar': {'href': 'https://lorempixel.com/250/250/people/?84254'}}}, {'id': '1722', 'first_name': 'Antonio', 'last_name': 'Witting', 'gender': 'male', 'dob': '1938-04-03', 'email': 'chance03@example.net', 'phone': '+17242288965', 'website': 'http://www.swift.com/dolores-qui-fuga-nulla-debitis-omnis', 'address': '946 Rick Mountain\\nLake Edward, FL 33509-0415', 'status': 'active', '_links': {'self': {'href': 'https://gorest.co.in/public-api/users/1722'}, 'edit': {'href': 'https://gorest.co.in/public-api/users/1722'}, 'avatar': {'href': 'https://lorempixel.com/250/250/people/?26973'}}}, {'id': '1723', 'first_name': 'Kamron', 'last_name': 'Gibson', 'gender': 'male', 'dob': '1923-07-26', 'email': 'cassin.arlo@example.org', 'phone': '(780) 520-9445', 'website': 'http://buckridge.net/pariatur-alias-magnam-aut-nihil-quis-non-assumenda', 'address': '7579 Armani Curve Suite 009\\nNew Demarcomouth, RI 29544', 'status': 'active', '_links': {'self': {'href': 'https://gorest.co.in/public-api/users/1723'}, 'edit': {'href': 'https://gorest.co.in/public-api/users/1723'}, 'avatar': {'href': 'https://lorempixel.com/250/250/people/?87276'}}}, {'id': '1724', 'first_name': 'Lenore', 'last_name': 'Nitzsche', 'gender': 'female', 'dob': '1970-03-11', 'email': 'swiegand@example.net', 'phone': '(418) 450-3060', 'website': 'http://www.gleason.net/porro-optio-et-est-nulla-accusantium-non-neque', 'address': '2353 Bartell Common\\nLake Brandon, CT 28745-3798', 'status': 'active', '_links': {'self': {'href': 'https://gorest.co.in/public-api/users/1724'}, 'edit': {'href': 'https://gorest.co.in/public-api/users/1724'}, 'avatar': {'href': 'https://lorempixel.com/250/250/people/?67357'}}}, {'id': '1725', 'first_name': 'Geo', 'last_name': 'Cassin', 'gender': 'male', 'dob': '2016-09-29', 'email': 'jmonahan@example.net', 'phone': '1-315-458-5730 x977', 'website': 'http://www.parisian.com/corrupti-doloremque-voluptatem-omnis-fugit', 'address': '73287 Jakubowski Extensions Suite 223\\nYostberg, AR 54429-9756', 'status': 'active', '_links': {'self': {'href': 'https://gorest.co.in/public-api/users/1725'}, 'edit': {'href': 'https://gorest.co.in/public-api/users/1725'}, 'avatar': {'href': 'https://lorempixel.com/250/250/people/?97657'}}}, {'id': '1726', 'first_name': 'Monty', 'last_name': 'Ortiz', 'gender': 'male', 'dob': '1950-05-03', 'email': 'troy.mcglynn@example.org', 'phone': '(276) 645-7336', 'website': 'http://www.vandervort.com/odio-esse-perspiciatis-inventore-itaque-aut-ipsam-aut-dolorem', 'address': '88262 Davonte Inlet Suite 822\\nGreenholtshire, MD 49082-4269', 'status': 'inactive', '_links': {'self': {'href': 'https://gorest.co.in/public-api/users/1726'}, 'edit': {'href': 'https://gorest.co.in/public-api/users/1726'}, 'avatar': {'href': 'https://lorempixel.com/250/250/people/?91579'}}}, {'id': '1727', 'first_name': 'Lourdes', 'last_name': 'Vandervort', 'gender': 'male', 'dob': '1932-02-27', 'email': 'anissa62@example.net', 'phone': '670-660-2162 x8437', 'website': 'http://kohler.com/dolor-blanditiis-quisquam-officiis-aliquid.html', 'address': '117 Eric Rapid\\nNew Patsystad, ME 37811-3729', 'status': 'active', '_links': {'self': {'href': 'https://gorest.co.in/public-api/users/1727'}, 'edit': {'href': 'https://gorest.co.in/public-api/users/1727'}, 'avatar': {'href': 'https://lorempixel.com/250/250/people/?86976'}}}]}\n"
     ]
    }
   ],
   "source": [
    "json_response = json.loads(response.text)\n",
    "print(json_response)"
   ]
  },
  {
   "cell_type": "code",
   "execution_count": 8,
   "metadata": {},
   "outputs": [
    {
     "data": {
      "text/plain": [
       "dict"
      ]
     },
     "execution_count": 8,
     "metadata": {},
     "output_type": "execute_result"
    }
   ],
   "source": [
    "type(json_response)"
   ]
  },
  {
   "cell_type": "code",
   "execution_count": 13,
   "metadata": {},
   "outputs": [],
   "source": [
    "users = json_response['result']"
   ]
  },
  {
   "cell_type": "code",
   "execution_count": 14,
   "metadata": {},
   "outputs": [
    {
     "data": {
      "text/plain": [
       "list"
      ]
     },
     "execution_count": 14,
     "metadata": {},
     "output_type": "execute_result"
    }
   ],
   "source": [
    "type(users)"
   ]
  },
  {
   "cell_type": "code",
   "execution_count": 15,
   "metadata": {},
   "outputs": [
    {
     "data": {
      "text/plain": [
       "20"
      ]
     },
     "execution_count": 15,
     "metadata": {},
     "output_type": "execute_result"
    }
   ],
   "source": [
    "len(users)"
   ]
  },
  {
   "cell_type": "code",
   "execution_count": 18,
   "metadata": {},
   "outputs": [],
   "source": [
    "import csv \n",
    "\n",
    "\n",
    "with open('users.csv', 'w') as f:\n",
    "    writer = csv.DictWriter(f, fieldnames=['name', 'gender', 'dob', 'email', 'phone', 'address'])\n",
    "    writer.writeheader()\n",
    "    for user in users:\n",
    "        name = user['first_name'] + ' ' + user['last_name']\n",
    "        gender = user['gender']\n",
    "        dob = user['dob']\n",
    "        email = user['email']\n",
    "        phone = user['phone']\n",
    "        address = user['address']\n",
    "        writer.writerow({'name': name, 'gender': gender, 'dob': dob, 'email': email, 'phone': phone, 'address': address})"
   ]
  },
  {
   "cell_type": "code",
   "execution_count": 19,
   "metadata": {},
   "outputs": [
    {
     "data": {
      "text/html": [
       "<div>\n",
       "<style scoped>\n",
       "    .dataframe tbody tr th:only-of-type {\n",
       "        vertical-align: middle;\n",
       "    }\n",
       "\n",
       "    .dataframe tbody tr th {\n",
       "        vertical-align: top;\n",
       "    }\n",
       "\n",
       "    .dataframe thead th {\n",
       "        text-align: right;\n",
       "    }\n",
       "</style>\n",
       "<table border=\"1\" class=\"dataframe\">\n",
       "  <thead>\n",
       "    <tr style=\"text-align: right;\">\n",
       "      <th></th>\n",
       "      <th>name</th>\n",
       "      <th>gender</th>\n",
       "      <th>dob</th>\n",
       "      <th>email</th>\n",
       "      <th>phone</th>\n",
       "      <th>address</th>\n",
       "    </tr>\n",
       "  </thead>\n",
       "  <tbody>\n",
       "    <tr>\n",
       "      <th>0</th>\n",
       "      <td>Erin Sawayn</td>\n",
       "      <td>male</td>\n",
       "      <td>1958-07-30</td>\n",
       "      <td>mabel.schulist@example.net</td>\n",
       "      <td>+1 (639) 357-1656</td>\n",
       "      <td>6982 Michele Garden Apt. 938\\r\\nPort Eleazarbu...</td>\n",
       "    </tr>\n",
       "    <tr>\n",
       "      <th>1</th>\n",
       "      <td>Rickie Deckow</td>\n",
       "      <td>male</td>\n",
       "      <td>1954-06-14</td>\n",
       "      <td>johnston.cedrick@example.net</td>\n",
       "      <td>(776) 807-8779 x233</td>\n",
       "      <td>5013 Ryder Shore Suite 436\\r\\nSouth Georgiana,...</td>\n",
       "    </tr>\n",
       "    <tr>\n",
       "      <th>2</th>\n",
       "      <td>Jovan Denesik</td>\n",
       "      <td>male</td>\n",
       "      <td>2007-12-20</td>\n",
       "      <td>hunter59@example.com</td>\n",
       "      <td>579-953-9673 x0354</td>\n",
       "      <td>356 Elizabeth Valley Suite 107\\r\\nTierraburgh,...</td>\n",
       "    </tr>\n",
       "    <tr>\n",
       "      <th>3</th>\n",
       "      <td>Lillian Upton</td>\n",
       "      <td>female</td>\n",
       "      <td>1932-03-29</td>\n",
       "      <td>test.automation.424@toptal.com</td>\n",
       "      <td>(880) 484-4569</td>\n",
       "      <td>226 Kirlin Light\\r\\nEast Garnet, WY 22673</td>\n",
       "    </tr>\n",
       "    <tr>\n",
       "      <th>4</th>\n",
       "      <td>Mark Haley</td>\n",
       "      <td>male</td>\n",
       "      <td>1979-11-24</td>\n",
       "      <td>mckenzie.daren@example.org</td>\n",
       "      <td>1-650-589-4003 x82372</td>\n",
       "      <td>206 O'Reilly Valley Suite 149\\r\\nNorth Elfried...</td>\n",
       "    </tr>\n",
       "    <tr>\n",
       "      <th>5</th>\n",
       "      <td>Braeden Swaniawski</td>\n",
       "      <td>male</td>\n",
       "      <td>1970-04-23</td>\n",
       "      <td>ned73@example.com</td>\n",
       "      <td>226-669-4898 x53697</td>\n",
       "      <td>653 Joanie Island Apt. 629\\r\\nBruenton, DC 757...</td>\n",
       "    </tr>\n",
       "    <tr>\n",
       "      <th>6</th>\n",
       "      <td>Karelle Hackett</td>\n",
       "      <td>female</td>\n",
       "      <td>1981-09-10</td>\n",
       "      <td>hills.ansel@example.org</td>\n",
       "      <td>480.994.6256 x2931</td>\n",
       "      <td>402 Daisy Fort\\r\\nPattiemouth, ID 97561-1710</td>\n",
       "    </tr>\n",
       "    <tr>\n",
       "      <th>7</th>\n",
       "      <td>Turner Stark</td>\n",
       "      <td>male</td>\n",
       "      <td>1933-10-28</td>\n",
       "      <td>erenner@example.org</td>\n",
       "      <td>+1.542.550.7785</td>\n",
       "      <td>57526 Pfannerstill FieldsLehnerburgh, OR 78899</td>\n",
       "    </tr>\n",
       "    <tr>\n",
       "      <th>8</th>\n",
       "      <td>Brendon Okuneva</td>\n",
       "      <td>male</td>\n",
       "      <td>1960-12-24</td>\n",
       "      <td>ihermiston@example.org</td>\n",
       "      <td>460-628-9260 x46425</td>\n",
       "      <td>600 Hayes Island\\r\\nSouth Hannahmouth, WV 31020</td>\n",
       "    </tr>\n",
       "    <tr>\n",
       "      <th>9</th>\n",
       "      <td>Dexter Langosh</td>\n",
       "      <td>male</td>\n",
       "      <td>1940-03-23</td>\n",
       "      <td>norris.koch@example.org</td>\n",
       "      <td>+18652795966</td>\n",
       "      <td>91200 Koch Flat Apt. 689\\r\\nNorth Annamae, CT ...</td>\n",
       "    </tr>\n",
       "    <tr>\n",
       "      <th>10</th>\n",
       "      <td>new new</td>\n",
       "      <td>male</td>\n",
       "      <td>1985-08-02</td>\n",
       "      <td>davon90@example.org</td>\n",
       "      <td>+12153514629</td>\n",
       "      <td>132 Volkman CrescentWest Rupert, ID 41899-5169</td>\n",
       "    </tr>\n",
       "    <tr>\n",
       "      <th>11</th>\n",
       "      <td>Otha Effertz</td>\n",
       "      <td>female</td>\n",
       "      <td>1932-06-28</td>\n",
       "      <td>wupton@example.org</td>\n",
       "      <td>1-314-560-8992 x3872</td>\n",
       "      <td>95386 Katlynn Plain Apt. 617\\r\\nNew Elian, HI ...</td>\n",
       "    </tr>\n",
       "    <tr>\n",
       "      <th>12</th>\n",
       "      <td>Jayda Torphy</td>\n",
       "      <td>female</td>\n",
       "      <td>1967-10-29</td>\n",
       "      <td>wconnelly@example.com</td>\n",
       "      <td>481-471-7726</td>\n",
       "      <td>6165 Emmerich Spring\\r\\nPort Manleybury, NJ 31852</td>\n",
       "    </tr>\n",
       "    <tr>\n",
       "      <th>13</th>\n",
       "      <td>Elenor Casper</td>\n",
       "      <td>female</td>\n",
       "      <td>1974-01-06</td>\n",
       "      <td>crona.eriberto@example.com</td>\n",
       "      <td>1-482-261-1206 x55791</td>\n",
       "      <td>4218 Sandrine Brooks\\r\\nNikolauston, GA 08020-...</td>\n",
       "    </tr>\n",
       "    <tr>\n",
       "      <th>14</th>\n",
       "      <td>Antonio Witting</td>\n",
       "      <td>male</td>\n",
       "      <td>1938-04-03</td>\n",
       "      <td>chance03@example.net</td>\n",
       "      <td>+17242288965</td>\n",
       "      <td>946 Rick Mountain\\r\\nLake Edward, FL 33509-0415</td>\n",
       "    </tr>\n",
       "    <tr>\n",
       "      <th>15</th>\n",
       "      <td>Kamron Gibson</td>\n",
       "      <td>male</td>\n",
       "      <td>1923-07-26</td>\n",
       "      <td>cassin.arlo@example.org</td>\n",
       "      <td>(780) 520-9445</td>\n",
       "      <td>7579 Armani Curve Suite 009\\r\\nNew Demarcomout...</td>\n",
       "    </tr>\n",
       "    <tr>\n",
       "      <th>16</th>\n",
       "      <td>Lenore Nitzsche</td>\n",
       "      <td>female</td>\n",
       "      <td>1970-03-11</td>\n",
       "      <td>swiegand@example.net</td>\n",
       "      <td>(418) 450-3060</td>\n",
       "      <td>2353 Bartell Common\\r\\nLake Brandon, CT 28745-...</td>\n",
       "    </tr>\n",
       "    <tr>\n",
       "      <th>17</th>\n",
       "      <td>Geo Cassin</td>\n",
       "      <td>male</td>\n",
       "      <td>2016-09-29</td>\n",
       "      <td>jmonahan@example.net</td>\n",
       "      <td>1-315-458-5730 x977</td>\n",
       "      <td>73287 Jakubowski Extensions Suite 223\\r\\nYostb...</td>\n",
       "    </tr>\n",
       "    <tr>\n",
       "      <th>18</th>\n",
       "      <td>Monty Ortiz</td>\n",
       "      <td>male</td>\n",
       "      <td>1950-05-03</td>\n",
       "      <td>troy.mcglynn@example.org</td>\n",
       "      <td>(276) 645-7336</td>\n",
       "      <td>88262 Davonte Inlet Suite 822\\r\\nGreenholtshir...</td>\n",
       "    </tr>\n",
       "    <tr>\n",
       "      <th>19</th>\n",
       "      <td>Lourdes Vandervort</td>\n",
       "      <td>male</td>\n",
       "      <td>1932-02-27</td>\n",
       "      <td>anissa62@example.net</td>\n",
       "      <td>670-660-2162 x8437</td>\n",
       "      <td>117 Eric Rapid\\r\\nNew Patsystad, ME 37811-3729</td>\n",
       "    </tr>\n",
       "  </tbody>\n",
       "</table>\n",
       "</div>"
      ],
      "text/plain": [
       "                  name  gender         dob                           email  \\\n",
       "0          Erin Sawayn    male  1958-07-30      mabel.schulist@example.net   \n",
       "1        Rickie Deckow    male  1954-06-14    johnston.cedrick@example.net   \n",
       "2        Jovan Denesik    male  2007-12-20            hunter59@example.com   \n",
       "3        Lillian Upton  female  1932-03-29  test.automation.424@toptal.com   \n",
       "4           Mark Haley    male  1979-11-24      mckenzie.daren@example.org   \n",
       "5   Braeden Swaniawski    male  1970-04-23               ned73@example.com   \n",
       "6      Karelle Hackett  female  1981-09-10         hills.ansel@example.org   \n",
       "7         Turner Stark    male  1933-10-28             erenner@example.org   \n",
       "8      Brendon Okuneva    male  1960-12-24          ihermiston@example.org   \n",
       "9       Dexter Langosh    male  1940-03-23         norris.koch@example.org   \n",
       "10             new new    male  1985-08-02             davon90@example.org   \n",
       "11        Otha Effertz  female  1932-06-28              wupton@example.org   \n",
       "12        Jayda Torphy  female  1967-10-29           wconnelly@example.com   \n",
       "13       Elenor Casper  female  1974-01-06      crona.eriberto@example.com   \n",
       "14     Antonio Witting    male  1938-04-03            chance03@example.net   \n",
       "15       Kamron Gibson    male  1923-07-26         cassin.arlo@example.org   \n",
       "16     Lenore Nitzsche  female  1970-03-11            swiegand@example.net   \n",
       "17          Geo Cassin    male  2016-09-29            jmonahan@example.net   \n",
       "18         Monty Ortiz    male  1950-05-03        troy.mcglynn@example.org   \n",
       "19  Lourdes Vandervort    male  1932-02-27            anissa62@example.net   \n",
       "\n",
       "                    phone                                            address  \n",
       "0       +1 (639) 357-1656  6982 Michele Garden Apt. 938\\r\\nPort Eleazarbu...  \n",
       "1     (776) 807-8779 x233  5013 Ryder Shore Suite 436\\r\\nSouth Georgiana,...  \n",
       "2      579-953-9673 x0354  356 Elizabeth Valley Suite 107\\r\\nTierraburgh,...  \n",
       "3          (880) 484-4569          226 Kirlin Light\\r\\nEast Garnet, WY 22673  \n",
       "4   1-650-589-4003 x82372  206 O'Reilly Valley Suite 149\\r\\nNorth Elfried...  \n",
       "5     226-669-4898 x53697  653 Joanie Island Apt. 629\\r\\nBruenton, DC 757...  \n",
       "6      480.994.6256 x2931       402 Daisy Fort\\r\\nPattiemouth, ID 97561-1710  \n",
       "7         +1.542.550.7785     57526 Pfannerstill FieldsLehnerburgh, OR 78899  \n",
       "8     460-628-9260 x46425    600 Hayes Island\\r\\nSouth Hannahmouth, WV 31020  \n",
       "9            +18652795966  91200 Koch Flat Apt. 689\\r\\nNorth Annamae, CT ...  \n",
       "10           +12153514629     132 Volkman CrescentWest Rupert, ID 41899-5169  \n",
       "11   1-314-560-8992 x3872  95386 Katlynn Plain Apt. 617\\r\\nNew Elian, HI ...  \n",
       "12           481-471-7726  6165 Emmerich Spring\\r\\nPort Manleybury, NJ 31852  \n",
       "13  1-482-261-1206 x55791  4218 Sandrine Brooks\\r\\nNikolauston, GA 08020-...  \n",
       "14           +17242288965    946 Rick Mountain\\r\\nLake Edward, FL 33509-0415  \n",
       "15         (780) 520-9445  7579 Armani Curve Suite 009\\r\\nNew Demarcomout...  \n",
       "16         (418) 450-3060  2353 Bartell Common\\r\\nLake Brandon, CT 28745-...  \n",
       "17    1-315-458-5730 x977  73287 Jakubowski Extensions Suite 223\\r\\nYostb...  \n",
       "18         (276) 645-7336  88262 Davonte Inlet Suite 822\\r\\nGreenholtshir...  \n",
       "19     670-660-2162 x8437     117 Eric Rapid\\r\\nNew Patsystad, ME 37811-3729  "
      ]
     },
     "execution_count": 19,
     "metadata": {},
     "output_type": "execute_result"
    }
   ],
   "source": [
    "import pandas as pd\n",
    "\n",
    "data = pd.read_csv('users.csv')\n",
    "data"
   ]
  },
  {
   "cell_type": "code",
   "execution_count": null,
   "metadata": {},
   "outputs": [],
   "source": []
  }
 ],
 "metadata": {
  "kernelspec": {
   "display_name": "Python 3",
   "language": "python",
   "name": "python3"
  },
  "language_info": {
   "codemirror_mode": {
    "name": "ipython",
    "version": 3
   },
   "file_extension": ".py",
   "mimetype": "text/x-python",
   "name": "python",
   "nbconvert_exporter": "python",
   "pygments_lexer": "ipython3",
   "version": "3.7.6"
  }
 },
 "nbformat": 4,
 "nbformat_minor": 2
}
