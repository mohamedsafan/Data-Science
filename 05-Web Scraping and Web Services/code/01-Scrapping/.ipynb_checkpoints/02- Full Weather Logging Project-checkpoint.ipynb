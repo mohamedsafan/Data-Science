{
 "cells": [
  {
   "cell_type": "code",
   "execution_count": 3,
   "metadata": {},
   "outputs": [],
   "source": [
    "import requests\n",
    "from bs4 import BeautifulSoup\n",
    "from datetime import datetime\n",
    "import time"
   ]
  },
  {
   "cell_type": "code",
   "execution_count": 5,
   "metadata": {},
   "outputs": [
    {
     "name": "stdout",
     "output_type": "stream",
     "text": [
      "scrapping done for 1 times at 07/08/2020 21:50:17\n",
      "scrapping done for 2 times at 07/08/2020 21:50:20\n",
      "scrapping done for 3 times at 07/08/2020 21:50:21\n",
      "scrapping done for 4 times at 07/08/2020 21:50:23\n",
      "scrapping done for 5 times at 07/08/2020 21:50:25\n",
      "scrapping done for 6 times at 07/08/2020 21:50:26\n",
      "scrapping done for 7 times at 07/08/2020 21:50:28\n",
      "scrapping done for 8 times at 07/08/2020 21:50:30\n",
      "scrapping done for 9 times at 07/08/2020 21:50:31\n",
      "scrapping done for 10 times at 07/08/2020 21:50:33\n"
     ]
    }
   ],
   "source": [
    "with open('messurments_log.txt', 'a') as f:\n",
    "    for i in range(10):\n",
    "        url = 'https://eg.freemeteo.com/weather/cairo/current-weather/location/?gid=360630&language=english&country=egypt'\n",
    "        response = requests.get(url)\n",
    "        soup = BeautifulSoup(response.text, 'html.parser')\n",
    "        temp = soup.find('div', attrs={'class': 'temp'}).get_text()\n",
    "        temp = float(temp.split('°')[0])\n",
    "        wind = float(soup.find('span', attrs={'class': 'white'}).find('b').get_text().strip())\n",
    "        stats = soup.find('div', attrs={'class': 'stats'}).get_text()\n",
    "        for el in stats.split(' '):\n",
    "            if el.endswith('%'):\n",
    "                humidity = float(el.split('%')[0])\n",
    "            elif el.endswith('m'):\n",
    "                visibility = float(el.split('m')[0])\n",
    "            elif el.endswith('mb'):\n",
    "                presure = float(el.split('mb')[0])\n",
    "        now = datetime.now()\n",
    "        time_now = now.strftime(\"%d/%m/%Y %H:%M:%S\")\n",
    "\n",
    "        # Write to Txt file\n",
    "        ############################################################################\n",
    "        output = f\"temp={temp}°C, wind={wind}°Km/h, humidity={humidity}%, visibility={visibility}m, presure={presure}mb at time {time_now}\\n\"\n",
    "        f.write(output)\n",
    "        ############################################################################\n",
    "         \n",
    "        print(f'scrapping done for {i+1} times at {time_now}')\n",
    "        time.sleep(1)"
   ]
  },
  {
   "cell_type": "code",
   "execution_count": 6,
   "metadata": {},
   "outputs": [
    {
     "name": "stdout",
     "output_type": "stream",
     "text": [
      "temp=30.0°C, wind=13.0°Km/h, humidity=43.0%, visibility=10000.0m, presure=1011.0mb at time 07/08/2020 21:50:17\n",
      "temp=30.0°C, wind=13.0°Km/h, humidity=43.0%, visibility=10000.0m, presure=1011.0mb at time 07/08/2020 21:50:20\n",
      "temp=30.0°C, wind=13.0°Km/h, humidity=43.0%, visibility=10000.0m, presure=1011.0mb at time 07/08/2020 21:50:21\n",
      "temp=30.0°C, wind=13.0°Km/h, humidity=43.0%, visibility=10000.0m, presure=1011.0mb at time 07/08/2020 21:50:23\n",
      "temp=30.0°C, wind=13.0°Km/h, humidity=43.0%, visibility=10000.0m, presure=1011.0mb at time 07/08/2020 21:50:25\n",
      "temp=30.0°C, wind=13.0°Km/h, humidity=43.0%, visibility=10000.0m, presure=1011.0mb at time 07/08/2020 21:50:26\n",
      "temp=30.0°C, wind=13.0°Km/h, humidity=43.0%, visibility=10000.0m, presure=1011.0mb at time 07/08/2020 21:50:28\n",
      "temp=30.0°C, wind=13.0°Km/h, humidity=43.0%, visibility=10000.0m, presure=1011.0mb at time 07/08/2020 21:50:30\n",
      "temp=30.0°C, wind=13.0°Km/h, humidity=43.0%, visibility=10000.0m, presure=1011.0mb at time 07/08/2020 21:50:31\n",
      "temp=30.0°C, wind=13.0°Km/h, humidity=43.0%, visibility=10000.0m, presure=1011.0mb at time 07/08/2020 21:50:33\n",
      "\n"
     ]
    }
   ],
   "source": [
    "f = open('messurments_log.txt', 'r')\n",
    "print(f.read())\n",
    "f.close()"
   ]
  },
  {
   "cell_type": "code",
   "execution_count": null,
   "metadata": {},
   "outputs": [],
   "source": [
    "import csv \n",
    "\n",
    "\n",
    "with open('messurments_log.csv', 'w') as f:\n",
    "    fnames = ['weather', 'wind', 'humidity', 'visibility', 'presure', 'time_now']\n",
    "    writer = csv.DictWriter(f, fieldnames=fnames)\n",
    "    writer.writeheader()\n",
    "    for i in range(10):\n",
    "        url = 'https://eg.freemeteo.com/weather/cairo/current-weather/location/?gid=360630&language=english&country=egypt'\n",
    "        response = requests.request('GET', url)\n",
    "        soup = BeautifulSoup(response.text, 'html.parser')\n",
    "        weather = soup.find('div', attrs={'class': 'temp'}).get_text()\n",
    "        weather = float(weather.split('°')[0])\n",
    "        wind = soup.find('div', attrs={'class': 'wind'}).get_text()\n",
    "        wind = float(wind.split(' ')[1])\n",
    "        stats = soup.find('div', attrs={'class': 'stats'}).get_text()\n",
    "        for el in stats.split(' '):\n",
    "            if el.endswith('%'):\n",
    "                humidity = float(el.split('%')[0])\n",
    "            elif el.endswith('m'):\n",
    "                visibility = float(el.split('m')[0])\n",
    "            elif el.endswith('mb'):\n",
    "                presure = float(el.split('mb')[0])\n",
    "        now = datetime.now()\n",
    "        time_now = now.strftime(\"%d/%m/%Y %H:%M:%S\")\n",
    "\n",
    "        # Write to Txt file\n",
    "        ############################################################################\n",
    "        output = {'weather': weather, 'wind': wind, 'humidity': humidity, 'visibility': visibility, 'presure': presure, 'time_now': time_now}\n",
    "        writer.writerow(output)\n",
    "        ############################################################################\n",
    "        \n",
    "        print(f'scrapping done for {i+1} times at {time_now}')\n",
    "        time.sleep(5)"
   ]
  },
  {
   "cell_type": "code",
   "execution_count": null,
   "metadata": {},
   "outputs": [],
   "source": [
    "import pandas as pd\n",
    "\n",
    "data = pd.read_csv('messurments_log.csv')\n",
    "data"
   ]
  },
  {
   "cell_type": "markdown",
   "metadata": {},
   "source": [
    "## Good Job!"
   ]
  }
 ],
 "metadata": {
  "kernelspec": {
   "display_name": "Python 3",
   "language": "python",
   "name": "python3"
  },
  "language_info": {
   "codemirror_mode": {
    "name": "ipython",
    "version": 3
   },
   "file_extension": ".py",
   "mimetype": "text/x-python",
   "name": "python",
   "nbconvert_exporter": "python",
   "pygments_lexer": "ipython3",
   "version": "3.7.6"
  }
 },
 "nbformat": 4,
 "nbformat_minor": 2
}
