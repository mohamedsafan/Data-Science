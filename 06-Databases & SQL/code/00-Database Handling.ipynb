{
 "cells": [
  {
   "cell_type": "code",
   "execution_count": 2,
   "metadata": {},
   "outputs": [],
   "source": [
    "import sqlite3"
   ]
  },
  {
   "cell_type": "markdown",
   "metadata": {},
   "source": [
    "## Read Data From Database"
   ]
  },
  {
   "cell_type": "code",
   "execution_count": 14,
   "metadata": {},
   "outputs": [
    {
     "data": {
      "text/plain": [
       "[(3, 'eman', 'Giza', 20),\n",
       " (12, 'Eslam Ahmed', 'Cairo', 20),\n",
       " (15, 'hamada', 'Cairo', 22),\n",
       " (19, 'Medhat', 'Maadi', 22),\n",
       " (22, 'Menna', 'Cairo', 22),\n",
       " (23, 'Ezz', 'Giza', 22),\n",
       " (25, 'Menna', 'Cairo', 22),\n",
       " (26, 'Ebrahem', 'Giza', 35),\n",
       " (27, 'Ebrahem', 'Giza', 35),\n",
       " (28, 'Ebrahem', 'Giza', 35),\n",
       " (29, 'Ebrahem', 'Giza', 35),\n",
       " (30, 'Ahmed', 'Giza', 25)]"
      ]
     },
     "execution_count": 14,
     "metadata": {},
     "output_type": "execute_result"
    }
   ],
   "source": [
    "connection = sqlite3.connect(\"weather.db\")\n",
    "rows = connection.execute(\"SELECT * FROM users\").fetchall()\n",
    "connection.close()\n",
    "rows"
   ]
  },
  {
   "cell_type": "code",
   "execution_count": 7,
   "metadata": {},
   "outputs": [
    {
     "name": "stdout",
     "output_type": "stream",
     "text": [
      "user with id 3 has name eman lives in Giza and his age = 20\n",
      "user with id 12 has name Eslam Ahmed lives in Cairo and his age = 20\n",
      "user with id 15 has name hamada lives in Cairo and his age = 22\n",
      "user with id 19 has name Medhat lives in Maadi and his age = 22\n",
      "user with id 22 has name Menna lives in Cairo and his age = 22\n",
      "user with id 23 has name Ezz lives in Giza and his age = 22\n",
      "user with id 25 has name Menna lives in Cairo and his age = 22\n"
     ]
    }
   ],
   "source": [
    "for uid,name,city,age  in rows:\n",
    "    print(f'user with id {uid} has name {name} lives in {city} and his age = {age}')"
   ]
  },
  {
   "cell_type": "markdown",
   "metadata": {},
   "source": [
    "## Use Pandas to execute sql"
   ]
  },
  {
   "cell_type": "code",
   "execution_count": 5,
   "metadata": {},
   "outputs": [
    {
     "data": {
      "text/html": [
       "<div>\n",
       "<style scoped>\n",
       "    .dataframe tbody tr th:only-of-type {\n",
       "        vertical-align: middle;\n",
       "    }\n",
       "\n",
       "    .dataframe tbody tr th {\n",
       "        vertical-align: top;\n",
       "    }\n",
       "\n",
       "    .dataframe thead th {\n",
       "        text-align: right;\n",
       "    }\n",
       "</style>\n",
       "<table border=\"1\" class=\"dataframe\">\n",
       "  <thead>\n",
       "    <tr style=\"text-align: right;\">\n",
       "      <th></th>\n",
       "      <th>id</th>\n",
       "      <th>name</th>\n",
       "      <th>city</th>\n",
       "      <th>age</th>\n",
       "    </tr>\n",
       "  </thead>\n",
       "  <tbody>\n",
       "    <tr>\n",
       "      <th>0</th>\n",
       "      <td>3</td>\n",
       "      <td>eman</td>\n",
       "      <td>Giza</td>\n",
       "      <td>20</td>\n",
       "    </tr>\n",
       "    <tr>\n",
       "      <th>1</th>\n",
       "      <td>12</td>\n",
       "      <td>Eslam Ahmed</td>\n",
       "      <td>Cairo</td>\n",
       "      <td>20</td>\n",
       "    </tr>\n",
       "    <tr>\n",
       "      <th>2</th>\n",
       "      <td>15</td>\n",
       "      <td>hamada</td>\n",
       "      <td>Cairo</td>\n",
       "      <td>22</td>\n",
       "    </tr>\n",
       "    <tr>\n",
       "      <th>3</th>\n",
       "      <td>19</td>\n",
       "      <td>Medhat</td>\n",
       "      <td>Maadi</td>\n",
       "      <td>22</td>\n",
       "    </tr>\n",
       "    <tr>\n",
       "      <th>4</th>\n",
       "      <td>22</td>\n",
       "      <td>Menna</td>\n",
       "      <td>Cairo</td>\n",
       "      <td>22</td>\n",
       "    </tr>\n",
       "  </tbody>\n",
       "</table>\n",
       "</div>"
      ],
      "text/plain": [
       "   id         name   city  age\n",
       "0   3         eman   Giza   20\n",
       "1  12  Eslam Ahmed  Cairo   20\n",
       "2  15       hamada  Cairo   22\n",
       "3  19       Medhat  Maadi   22\n",
       "4  22        Menna  Cairo   22"
      ]
     },
     "execution_count": 5,
     "metadata": {},
     "output_type": "execute_result"
    }
   ],
   "source": [
    "import pandas as pd\n",
    "\n",
    "connection = sqlite3.connect(\"weather.db\")\n",
    "df = pd.read_sql(\"SELECT * from users\", connection)\n",
    "connection.close()\n",
    "df.head()"
   ]
  },
  {
   "cell_type": "code",
   "execution_count": 8,
   "metadata": {},
   "outputs": [
    {
     "name": "stdout",
     "output_type": "stream",
     "text": [
      "search for city: Cairo\n",
      "user with id 12 has name Eslam Ahmed lives in Cairo and his age = 20\n",
      "user with id 15 has name hamada lives in Cairo and his age = 22\n",
      "user with id 22 has name Menna lives in Cairo and his age = 22\n",
      "user with id 25 has name Menna lives in Cairo and his age = 22\n"
     ]
    }
   ],
   "source": [
    "city_input = input('search for city: ')\n",
    "\n",
    "connection = sqlite3.connect(\"weather.db\")\n",
    "rows = connection.execute(\"SELECT * FROM users WHERE city = ?\", [city_input]).fetchall()\n",
    "connection.close()\n",
    "\n",
    "for uid,name,city,age  in rows:\n",
    "    print(f'user with id {uid} has name {name} lives in {city} and his age = {age}')"
   ]
  },
  {
   "cell_type": "markdown",
   "metadata": {},
   "source": [
    "## Insert Data into Database"
   ]
  },
  {
   "cell_type": "code",
   "execution_count": 12,
   "metadata": {},
   "outputs": [
    {
     "data": {
      "text/plain": [
       "29"
      ]
     },
     "execution_count": 12,
     "metadata": {},
     "output_type": "execute_result"
    }
   ],
   "source": [
    "connection = sqlite3.connect(\"weather.db\")\n",
    "cursor = connection.execute(\"INSERT INTO users (name,city,age) VALUES (?, ?, ?)\", ['Ebrahem', 'Giza', '35'])\n",
    "connection.commit()\n",
    "connection.close()\n",
    "cursor.lastrowid"
   ]
  },
  {
   "cell_type": "code",
   "execution_count": 13,
   "metadata": {},
   "outputs": [
    {
     "data": {
      "text/plain": [
       "30"
      ]
     },
     "execution_count": 13,
     "metadata": {},
     "output_type": "execute_result"
    }
   ],
   "source": [
    "connection = sqlite3.connect(\"weather.db\")\n",
    "cursor = connection.execute(\"INSERT INTO users (name,city,age) VALUES (?, ?, ?)\", ['Ahmed', 'Giza', '25'])\n",
    "connection.commit()\n",
    "connection.close()\n",
    "cursor.lastrowid"
   ]
  },
  {
   "cell_type": "code",
   "execution_count": 15,
   "metadata": {},
   "outputs": [
    {
     "name": "stdout",
     "output_type": "stream",
     "text": [
      "Enter user name: mohammed\n",
      "Enter user city: Maadi\n",
      "Enter user age: 20\n"
     ]
    },
    {
     "data": {
      "text/plain": [
       "31"
      ]
     },
     "execution_count": 15,
     "metadata": {},
     "output_type": "execute_result"
    }
   ],
   "source": [
    "name = input('Enter user name: ')\n",
    "city = input('Enter user city: ')\n",
    "age = input('Enter user age: ')\n",
    "\n",
    "connection = sqlite3.connect(\"weather.db\")\n",
    "cursor = connection.execute(\"INSERT INTO users (name,city,age) VALUES (?, ?, ?)\", [name, city, age])\n",
    "connection.commit()\n",
    "connection.close()\n",
    "\n",
    "cursor.lastrowid"
   ]
  },
  {
   "cell_type": "markdown",
   "metadata": {},
   "source": [
    "## Update Data in Database"
   ]
  },
  {
   "cell_type": "code",
   "execution_count": 17,
   "metadata": {},
   "outputs": [],
   "source": [
    "connection = sqlite3.connect(\"weather.db\")\n",
    "cursor = connection.execute(\"UPDATE users SET name=?, age=? WHERE id=? \", ['Ezz', 22, 31])\n",
    "connection.commit()\n",
    "connection.close()"
   ]
  },
  {
   "cell_type": "markdown",
   "metadata": {},
   "source": [
    "## Delete Data in Database"
   ]
  },
  {
   "cell_type": "code",
   "execution_count": 18,
   "metadata": {},
   "outputs": [],
   "source": [
    "connection = sqlite3.connect(\"weather.db\")\n",
    "cursor = connection.execute(\"DELETE FROM users WHERE age >= ? \", [30])\n",
    "connection.commit()\n",
    "connection.close()"
   ]
  },
  {
   "cell_type": "markdown",
   "metadata": {},
   "source": [
    "## Good Job!"
   ]
  }
 ],
 "metadata": {
  "kernelspec": {
   "display_name": "Tensorflow GPU",
   "language": "python",
   "name": "tensorflow"
  },
  "language_info": {
   "codemirror_mode": {
    "name": "ipython",
    "version": 3
   },
   "file_extension": ".py",
   "mimetype": "text/x-python",
   "name": "python",
   "nbconvert_exporter": "python",
   "pygments_lexer": "ipython3",
   "version": "3.7.6"
  }
 },
 "nbformat": 4,
 "nbformat_minor": 4
}
